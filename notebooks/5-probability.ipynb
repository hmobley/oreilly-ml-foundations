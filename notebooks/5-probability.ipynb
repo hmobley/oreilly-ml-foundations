{
  "nbformat": 4,
  "nbformat_minor": 0,
  "metadata": {
    "colab": {
      "name": "5-probability.ipynb",
      "provenance": [],
      "include_colab_link": true
    },
    "kernelspec": {
      "display_name": "Python 3",
      "language": "python",
      "name": "python3"
    },
    "language_info": {
      "codemirror_mode": {
        "name": "ipython",
        "version": 3
      },
      "file_extension": ".py",
      "mimetype": "text/x-python",
      "name": "python",
      "nbconvert_exporter": "python",
      "pygments_lexer": "ipython3",
      "version": "3.7.6"
    }
  },
  "cells": [
    {
      "cell_type": "markdown",
      "metadata": {
        "id": "view-in-github",
        "colab_type": "text"
      },
      "source": [
        "<a href=\"https://colab.research.google.com/github/jonkrohn/ML-foundations/blob/master/notebooks/5-probability.ipynb\" target=\"_parent\"><img src=\"https://colab.research.google.com/assets/colab-badge.svg\" alt=\"Open In Colab\"/></a>"
      ]
    },
    {
      "cell_type": "markdown",
      "metadata": {
        "id": "aTOLgsbN69-P"
      },
      "source": [
        "# Probability & Information Theory"
      ]
    },
    {
      "cell_type": "markdown",
      "metadata": {
        "id": "yqUB9FTRAxd-"
      },
      "source": [
        "This class, *Probability & Information Theory*, introduces the mathematical fields that enable us to quantify uncertainty as well as to make predictions despite uncertainty. These fields are essential because machine learning algorithms are both trained by imperfect data and deployed into noisy, real-world scenarios they haven’t encountered before. \n",
        "\n",
        "Through the measured exposition of theory paired with interactive examples, you’ll develop a working understanding of variables, probability distributions, metrics for assessing distributions, and graphical models. You’ll also learn how to use information theory to measure how much meaningful signal there is within some given data. The content covered in this class is itself foundational for several other classes in the *Machine Learning Foundations* series, especially *Intro to Statistics* and *Optimization*."
      ]
    },
    {
      "cell_type": "markdown",
      "metadata": {
        "id": "d4tBvI88BheF"
      },
      "source": [
        "Over the course of studying this topic, you'll: \n",
        "\n",
        "* Develop an understanding of what’s going on beneath the hood of predictive statistical models and machine learning algorithms, including those used for deep learning. \n",
        "* Understand the appropriate variable type and probability distribution for representing a given class of data, as well as the standard techniques for assessing the relationships between distributions.\n",
        "* Apply information theory to quantify the proportion of valuable signal that’s present amongst the noise of a given probability distribution. \n"
      ]
    },
    {
      "cell_type": "markdown",
      "metadata": {
        "id": "Z68nQ0ekCYhF"
      },
      "source": [
        "**Note that this Jupyter notebook is not intended to stand alone. It is the companion code to a lecture or to videos from Jon Krohn's [Machine Learning Foundations](https://github.com/jonkrohn/ML-foundations) series, which offer detail on the following:**\n",
        "\n",
        "*Segment 1: Introduction to Probability*\n",
        "* What Probability Theory Is\n",
        "* A Brief History: Frequentists vs Bayesians\n",
        "* Applications of Probability to Machine Learning\n",
        "* Random Variables\n",
        "* Discrete vs Continuous Variables\n",
        "* Probability Mass and Probability Density Functions\n",
        "* Expected Value\n",
        "* Measures of Central Tendency: Mean, Median, and Mode\n",
        "* Quantiles: Quartiles, Deciles, and Percentiles\n",
        "* The Box-and-Whisker Plot\n",
        "* Measures of Dispersion: Variance, Standard Deviation, and Standard Error\n",
        "* Measures of Relatedness: Covariance and Correlation\n",
        "* Marginal and Conditional Probabilities\n",
        "* Independence and Conditional Independence\n",
        "\n",
        "*Segment 2: Distributions in Machine Learning*\n",
        "* Uniform\n",
        "* Gaussian: Normal and Standard Normal\n",
        "* The Central Limit Theorem\n",
        "* Log-Normal\n",
        "* Exponential and Laplace\n",
        "* Binomial and Multinomial\n",
        "* Poisson\n",
        "* Mixture Distributions\n",
        "* Preprocessing Data for Model Input\n",
        "\n",
        "*Segment 3: Information Theory*\n",
        "* What Information Theory Is\n",
        "* Self-Information\n",
        "* Nats, Bits and Shannons\n",
        "* Shannon and Differential Entropy\n",
        "* Kullback-Leibler Divergence\n",
        "* Cross-Entropy"
      ]
    },
    {
      "cell_type": "markdown",
      "metadata": {
        "id": "HDE74CXX5ChI"
      },
      "source": [
        "## Segment 1: Introduction to Probability"
      ]
    },
    {
      "cell_type": "code",
      "metadata": {
        "id": "kzRpCm2a5ChJ"
      },
      "source": [
        "import numpy as np\n",
        "import scipy.stats as st\n",
        "import matplotlib.pyplot as plt\n",
        "import seaborn as sns"
      ],
      "execution_count": 1,
      "outputs": []
    },
    {
      "cell_type": "markdown",
      "metadata": {
        "id": "U_680ypO5ChJ"
      },
      "source": [
        "### What Probability Theory Is"
      ]
    },
    {
      "cell_type": "markdown",
      "source": [
        "#### Events and Sample Spaces"
      ],
      "metadata": {
        "id": "uqzuaq1oD1XV"
      }
    },
    {
      "cell_type": "markdown",
      "metadata": {
        "id": "fwEAqIqR5ChJ"
      },
      "source": [
        "Let's assume we have a fair coin, which is equally likely to come up heads (H) or tails (T)."
      ]
    },
    {
      "cell_type": "markdown",
      "metadata": {
        "id": "kFl3g0GW5ChK"
      },
      "source": [
        "In instances like this, where the two outcomes are equally likely, we can use probability theory to express the likelihood of a particular **event** by comparing it with the **sample space** (the set of all possible outcomes; can be denoted as $\\Omega$): "
      ]
    },
    {
      "cell_type": "markdown",
      "metadata": {
        "id": "X82RIGz15ChK"
      },
      "source": [
        "$$ P(\\text{event}) = \\frac{\\text{# of outcomes of event}}{\\text{# of outcomes in }\\Omega} $$"
      ]
    },
    {
      "cell_type": "markdown",
      "metadata": {
        "id": "VuVWT8NI5ChK"
      },
      "source": [
        "If we're only flipping the coin once, then there are only two possible outcomes in the sample space $\\Omega$: it will either be H or T (using set notation, we could write this as $\\Omega$ = {H, T})."
      ]
    },
    {
      "cell_type": "markdown",
      "metadata": {
        "id": "9W5MsKt15ChK"
      },
      "source": [
        "Therefore: $$ P(H) = \\frac{1}{2} = 0.5 $$"
      ]
    },
    {
      "cell_type": "markdown",
      "metadata": {
        "id": "V_bzjMvs5ChK"
      },
      "source": [
        "Equally: $$ P(T) = \\frac{1}{2} = 0.5 $$"
      ]
    },
    {
      "cell_type": "markdown",
      "metadata": {
        "id": "PfHEQzcd5ChL"
      },
      "source": [
        "As a separate example, consider drawing a single card from a standard deck of 52 playing cards. In this case, the number of possible outcomes in the sample space $\\Omega$ is 52. "
      ]
    },
    {
      "cell_type": "markdown",
      "metadata": {
        "id": "qtAa3aRW5ChL"
      },
      "source": [
        "There is only one ace of spades in the deck, so the probability of drawing it is: $$ P(\\text{ace of spades}) = \\frac{1}{52} \\approx 0.019 $$"
      ]
    },
    {
      "cell_type": "markdown",
      "metadata": {
        "id": "81-uQ4ug5ChL"
      },
      "source": [
        "In contrast there are four aces, so the probability of drawing an ace is: $$ P(\\text{ace}) = \\frac{4}{52} \\approx 0.077 $$"
      ]
    },
    {
      "cell_type": "markdown",
      "metadata": {
        "id": "uqco79Cd5ChL"
      },
      "source": [
        "Some additional examples: \n",
        "$$ P(\\text{spade}) = \\frac{13}{52} = 0.25 $$\n",
        "$$ P(\\text{ace OR spade}) = \\frac{16}{52} \\approx 0.307 $$\n",
        "$$ P(\\text{card}) = \\frac{52}{52} = 1 $$\n",
        "$$ P(\\text{turnip}) = \\frac{0}{52} = 0 $$"
      ]
    },
    {
      "cell_type": "markdown",
      "metadata": {
        "id": "snINg1tz5ChL"
      },
      "source": [
        "#### Multiple Independent Observations"
      ]
    },
    {
      "cell_type": "markdown",
      "metadata": {
        "id": "gIPR6og95ChL"
      },
      "source": [
        "Let's return to coin flipping to illustrate situations where we have an event consisting of multiple independent observations. For example, the probability of throwing two consecutive heads is: $$ P(\\text{HH}) = \\frac{1}{4} = 0.25 $$ ...because there is one HH event in the sample set of four possible events ($\\Omega$ = {HH, HT, TH, TT})."
      ]
    },
    {
      "cell_type": "markdown",
      "metadata": {
        "id": "rT11_oHg5ChM"
      },
      "source": [
        "Likewise, the probability of throwing *three* consecutive heads is: $$ P(\\text{HHH}) = \\frac{1}{8} = 0.125 $$ ...because there is one HHH event in the sample set of eight possible events ($\\Omega$ = {HHH, HHT, HTH, THH, HTT, THT, TTH, TTT})."
      ]
    },
    {
      "cell_type": "markdown",
      "metadata": {
        "id": "ru44PKUe5ChM"
      },
      "source": [
        "As final examples, the probability of throwing exactly two heads in three tosses is $ P = \\frac{3}{8} = 0.375 $ while the probability of throwing at least two heads in three tosses is $ P = \\frac{4}{8} = 0.5 $."
      ]
    },
    {
      "cell_type": "markdown",
      "metadata": {
        "id": "vh3WnRhm5ChM"
      },
      "source": [
        "#### Combining Probabilities"
      ]
    },
    {
      "cell_type": "markdown",
      "metadata": {
        "id": "YInbLu1i5ChM"
      },
      "source": [
        "In order to combine probabilities, we can multiply them. So the probability of throwing five consecutive heads, for example, is the product of probabilities we've already calculated: $$ P(\\text{HHHHH}) = P(\\text{HH}) \\times P(\\text{HHH}) = \\frac{1}{4} \\times \\frac{1}{8} = \\frac{1}{32} \\approx 0.031 $$"
      ]
    },
    {
      "cell_type": "markdown",
      "metadata": {
        "id": "w-wlHpI05ChM"
      },
      "source": [
        "#### Combinatorics"
      ]
    },
    {
      "cell_type": "markdown",
      "metadata": {
        "id": "1ckSVU3p5ChM"
      },
      "source": [
        "*Combinatorics* is a field of mathematics devoted to counting that can be helpful to studying probabilities. We can use **factorials** (e.g., $4! = 4 \\times 3 \\times 2 \\times 1 = 24$), which feature prominently in combinatorics, to calculate probabilities instead of painstakingly determining all of the members of the sample space $\\Omega$ and counting subsets within $\\Omega$. "
      ]
    },
    {
      "cell_type": "markdown",
      "metadata": {
        "id": "zYL4ODP75ChN"
      },
      "source": [
        "More specifically, we can calculate the number of outcomes of an event using the \"number of combinations\" equation: $$ {n \\choose k} = \\frac{n!}{k!(n - k)!} $$"
      ]
    },
    {
      "cell_type": "markdown",
      "metadata": {
        "id": "kQhpdNEL5ChN"
      },
      "source": [
        "The left-hand side of the equation is read \"$n$ choose $k$\" and is most quickly understood via an example: If we have three coin flips, $n = 3$, and if we're interested in the number of ways to get two head flips (or two tail flips, for that matter), $k = 2$. We would read this as \"3 choose 2\" and calculate it as:\n",
        "$$ {n \\choose k} = {3 \\choose 2} = \\frac{3!}{2!(3 - 2)!} = \\frac{3!}{(2!)(1!)} = \\frac{3 \\times 2 \\times 1}{(2 \\times 1)(1)} = \\frac{6}{(2)(1)} = \\frac{6}{2} = 3 $$"
      ]
    },
    {
      "cell_type": "markdown",
      "metadata": {
        "id": "PoPfNW275ChN"
      },
      "source": [
        "This provide us with the numerator for event-probability equation from above: $$ P(\\text{event}) = \\frac{\\text{# of outcomes of event}}{\\text{# of outcomes in }\\Omega} $$"
      ]
    },
    {
      "cell_type": "markdown",
      "metadata": {
        "id": "ThoyCpl35ChO"
      },
      "source": [
        "In the case of coin-flipping (or any binary process with equally probable outcomes), the denominator can be calculated with $2^n$ (where $n$ is again the number of coin flips), so: $$ \\frac{\\text{# of outcomes of event}}{\\text{# of outcomes in }\\Omega} = \\frac{3}{2^n} = \\frac{3}{2^3} = \\frac{3}{8} = 0.375 $$"
      ]
    },
    {
      "cell_type": "markdown",
      "metadata": {
        "id": "QKRugWrQ5ChO"
      },
      "source": [
        "**Exercises**:\n",
        "\n",
        "1. What is the probability of drawing the ace of spades twice in a row? (Assume that any card drawn on the first draw will be put back in the deck before the second draw.)\n",
        "2. You draw a card from a deck of cards. After replacing the drawn card back in the deck and shuffling thoroughly, what is the probability of drawing the same card again? \n",
        "3. Use $n \\choose k$ to calculate the probability of throwing three heads in five coin tosses.\n",
        "4. Create a Python method that solves exercise 3 and incorporates the $n \\choose k$ formula $\\frac{n!}{k!(n - k)!}$. With the method in hand, calculate the probability of -- in five tosses -- throwing each of zero, one, two, three, four, and five heads."
      ]
    },
    {
      "cell_type": "markdown",
      "metadata": {
        "id": "X1d1mBjR5ChO"
      },
      "source": [
        "**Spoiler alert**: Solutions are below so scroll carefully..."
      ]
    },
    {
      "cell_type": "code",
      "metadata": {
        "id": "_ZzjXjHy5ChO"
      },
      "source": [
        ""
      ],
      "execution_count": 1,
      "outputs": []
    },
    {
      "cell_type": "code",
      "metadata": {
        "id": "sbq5esRv5ChO"
      },
      "source": [
        ""
      ],
      "execution_count": 1,
      "outputs": []
    },
    {
      "cell_type": "code",
      "source": [
        ""
      ],
      "metadata": {
        "id": "ru1t8_LRajrP"
      },
      "execution_count": 1,
      "outputs": []
    },
    {
      "cell_type": "code",
      "source": [
        ""
      ],
      "metadata": {
        "id": "1UGIpLpbajZf"
      },
      "execution_count": 1,
      "outputs": []
    },
    {
      "cell_type": "code",
      "metadata": {
        "id": "oPtm03U95ChO"
      },
      "source": [
        ""
      ],
      "execution_count": 1,
      "outputs": []
    },
    {
      "cell_type": "markdown",
      "metadata": {
        "id": "U7IgNJwV5ChO"
      },
      "source": [
        "**Solutions**:"
      ]
    },
    {
      "cell_type": "markdown",
      "metadata": {
        "id": "qiSjQ1mR5ChP"
      },
      "source": [
        "1. $$ P(\\text{ace of spades}) \\times P(\\text{ace of spades}) = \\left(\\frac{1}{52}\\right)^2 = \\frac{1}{2704} = 0.00037 = 0.037\\% $$"
      ]
    },
    {
      "cell_type": "markdown",
      "metadata": {
        "id": "R3aUyZvi5ChP"
      },
      "source": [
        "2. $$ P(\\text{any card}) = \\frac{52}{52} = 1 $$\n",
        "$$ P(\\text{same card as first draw}) = \\frac{1}{52} \\approx 0.019 $$\n",
        "$$ P(\\text{any card})P(\\text{same card as first draw}) = (1)(\\frac{1}{52}) = \\frac{1}{52} \\approx 0.019$$"
      ]
    },
    {
      "cell_type": "markdown",
      "metadata": {
        "id": "S8tA4XlQ5ChP"
      },
      "source": [
        "3. $$ {n \\choose k} = {5 \\choose 3} = \\frac{5!}{3!(5 - 3)!} = \\frac{5!}{(3!)(2!)} = \\frac{5 \\times 4 \\times 3 \\times 2 \\times 1}{(3 \\times 2 \\times 1)(2 \\times 1)} = \\frac{120}{(6)(2)} = \\frac{120}{12} = 10 $$"
      ]
    },
    {
      "cell_type": "markdown",
      "metadata": {
        "id": "aS4bc83U5ChP"
      },
      "source": [
        "$$P = \\frac{10}{2^n} = \\frac{10}{2^5} = \\frac{10}{32} = 0.3125 $$"
      ]
    },
    {
      "cell_type": "code",
      "metadata": {
        "id": "0_3pRRTX5ChP"
      },
      "source": [
        "from math import factorial"
      ],
      "execution_count": 2,
      "outputs": []
    },
    {
      "cell_type": "code",
      "metadata": {
        "id": "MgdCyK805ChP"
      },
      "source": [
        "def coinflip_prob(n, k):\n",
        "    n_choose_k = factorial(n)/(factorial(k)*factorial(n-k))\n",
        "    return n_choose_k/2**n"
      ],
      "execution_count": 3,
      "outputs": []
    },
    {
      "cell_type": "code",
      "metadata": {
        "id": "4N3_Ebkum1Vh",
        "outputId": "89b59a2b-715c-4b69-cdfe-948e695918b7",
        "colab": {
          "base_uri": "https://localhost:8080/"
        }
      },
      "source": [
        "coinflip_prob(5, 3)"
      ],
      "execution_count": 4,
      "outputs": [
        {
          "output_type": "execute_result",
          "data": {
            "text/plain": [
              "0.3125"
            ]
          },
          "metadata": {},
          "execution_count": 4
        }
      ]
    },
    {
      "cell_type": "code",
      "metadata": {
        "id": "6UO8q5N45ChQ",
        "colab": {
          "base_uri": "https://localhost:8080/"
        },
        "outputId": "0268c14d-c28f-42cf-cbd2-090c4702c411"
      },
      "source": [
        "[coinflip_prob(5, h) for h in range(6)]"
      ],
      "execution_count": 5,
      "outputs": [
        {
          "output_type": "execute_result",
          "data": {
            "text/plain": [
              "[0.03125, 0.15625, 0.3125, 0.3125, 0.15625, 0.03125]"
            ]
          },
          "metadata": {},
          "execution_count": 5
        }
      ]
    },
    {
      "cell_type": "markdown",
      "metadata": {
        "id": "gjSkHJ8r5ChQ"
      },
      "source": [
        "#### The Law of Large Numbers"
      ]
    },
    {
      "cell_type": "markdown",
      "metadata": {
        "id": "U9NDLpfo5ChR"
      },
      "source": [
        "While a fair coin should land heads up 50% of the time, as we've seen above, with small sample sizes, there is a non-trivial possibility that in a given experiment we could flip heads on all of the tosses. For example, we've calculated that there's a 3.1% chance that we'll get heads on every toss in a small five-toss experiment. "
      ]
    },
    {
      "cell_type": "markdown",
      "metadata": {
        "id": "7rfVQfP55ChR"
      },
      "source": [
        "The **law of large numbers** states that the more experiments we run, the closer we will tend to get to the expected probability. "
      ]
    },
    {
      "cell_type": "markdown",
      "metadata": {
        "id": "7A3Va-dB5ChR"
      },
      "source": [
        "Let's run some code to examine this in practice. To start, we'll create a vector of exponentially increasing $n$umbers of coin tosses per experiment: "
      ]
    },
    {
      "cell_type": "code",
      "metadata": {
        "id": "ymsouctT5ChR"
      },
      "source": [
        "ns = np.array([2, 4, 8, 16, 32, 64, 128, 256, 512, 1024, 2048, 4096]) "
      ],
      "execution_count": 6,
      "outputs": []
    },
    {
      "cell_type": "code",
      "metadata": {
        "id": "hgmoAn2g5ChR"
      },
      "source": [
        "np.random.seed(42) # for reproducibility"
      ],
      "execution_count": 7,
      "outputs": []
    },
    {
      "cell_type": "markdown",
      "metadata": {
        "id": "hKtZzZKK5ChR"
      },
      "source": [
        "We will discuss the `binomial()` method in more detail in *Segment 2*. For now it suffices to think of its two arguments as *number of coin flips in experiment* and *probability of heads*, while it returns the number of flips that are heads in the experiment."
      ]
    },
    {
      "cell_type": "code",
      "metadata": {
        "id": "xRQh-0iG5ChS",
        "colab": {
          "base_uri": "https://localhost:8080/"
        },
        "outputId": "0d7a21c0-b715-4ffa-b893-2854bdd0cbab"
      },
      "source": [
        "np.random.binomial(1, 0.5)"
      ],
      "execution_count": 8,
      "outputs": [
        {
          "output_type": "execute_result",
          "data": {
            "text/plain": [
              "0"
            ]
          },
          "metadata": {},
          "execution_count": 8
        }
      ]
    },
    {
      "cell_type": "code",
      "metadata": {
        "id": "OwfWWhFm5ChS",
        "colab": {
          "base_uri": "https://localhost:8080/"
        },
        "outputId": "e6146ce6-748d-4012-b3d7-1eb8b9048508"
      },
      "source": [
        "heads_count = [np.random.binomial(n, 0.5) for n in ns]\n",
        "heads_count"
      ],
      "execution_count": 9,
      "outputs": [
        {
          "output_type": "execute_result",
          "data": {
            "text/plain": [
              "[2, 3, 4, 6, 13, 27, 54, 136, 258, 509, 1038, 2094]"
            ]
          },
          "metadata": {},
          "execution_count": 9
        }
      ]
    },
    {
      "cell_type": "code",
      "metadata": {
        "id": "rL4PbNmY5ChS",
        "colab": {
          "base_uri": "https://localhost:8080/"
        },
        "outputId": "ad56af0f-9bd3-4031-af21-02d087787e71"
      },
      "source": [
        "proportion_heads = heads_count/ns\n",
        "proportion_heads"
      ],
      "execution_count": 10,
      "outputs": [
        {
          "output_type": "execute_result",
          "data": {
            "text/plain": [
              "array([1.        , 0.75      , 0.5       , 0.375     , 0.40625   ,\n",
              "       0.421875  , 0.421875  , 0.53125   , 0.50390625, 0.49707031,\n",
              "       0.50683594, 0.51123047])"
            ]
          },
          "metadata": {},
          "execution_count": 10
        }
      ]
    },
    {
      "cell_type": "code",
      "metadata": {
        "id": "vlz7a5DU5ChS",
        "colab": {
          "base_uri": "https://localhost:8080/",
          "height": 279
        },
        "outputId": "8e306028-59a4-4d48-8528-5d07b39981ec"
      },
      "source": [
        "fig, ax = plt.subplots()\n",
        "plt.xlabel('Number of coin flips in experiment')\n",
        "plt.ylabel('Proportion of flips that are heads')\n",
        "plt.axhline(0.5, color='orange')\n",
        "_ = ax.scatter(ns, proportion_heads)"
      ],
      "execution_count": 11,
      "outputs": [
        {
          "output_type": "display_data",
          "data": {
            "text/plain": [
              "<Figure size 432x288 with 1 Axes>"
            ],
            "image/png": "[encoded data removed]"
          },
          "metadata": {
            "needs_background": "light"
          }
        }
      ]
    },
    {
      "cell_type": "markdown",
      "metadata": {
        "id": "RvrI0woM5ChS"
      },
      "source": [
        "It is important at this juncture to address the **gambler's fallacy**. It is a common misconception that the law of large numbers dictates that if, say, five heads have been flipped in a row, then the probability of tails is higher on the sixth flip. In fact, probability theory holds that each coin flip is completely independent of all others. Thus, every single flip of a fair coin has a 50% chance of being heads, no matter what happened on preceding flips."
      ]
    },
    {
      "cell_type": "markdown",
      "metadata": {
        "id": "j2-wA_6E5ChT"
      },
      "source": [
        "(To capitalize on this misunderstanding, roulette tables at casinos often have prominent displays tracking the history of red versus black even though there's a 47.4% chance of each on every spin of the roulette wheel no matter what happened on preceding spins. Gamblers will note, say, five reds in a row at a given table and flock to it to bet on black.) "
      ]
    },
    {
      "cell_type": "markdown",
      "metadata": {
        "id": "hKciO43C5ChT"
      },
      "source": [
        "#### Statistics"
      ]
    },
    {
      "cell_type": "markdown",
      "metadata": {
        "id": "WqitDIkk5ChT"
      },
      "source": [
        "The field of statistics applies probability theory to make inferences with a quantifiable degree of confidence. For example, let's say we ran the five-coin-flip experiment 1000 times with a fair coin: "
      ]
    },
    {
      "cell_type": "code",
      "metadata": {
        "id": "Nvc9rCnq5ChT"
      },
      "source": [
        "n_experiments = 1000\n",
        "heads_count = np.random.binomial(5, 0.5, n_experiments)"
      ],
      "execution_count": 12,
      "outputs": []
    },
    {
      "cell_type": "markdown",
      "metadata": {
        "id": "siW-zTqm5ChT"
      },
      "source": [
        "We can plot the results of our experiment to create a **probability distribution**: "
      ]
    },
    {
      "cell_type": "code",
      "metadata": {
        "id": "FRiZSpwy5ChT"
      },
      "source": [
        "heads, event_count = np.unique(heads_count, return_counts=True)"
      ],
      "execution_count": 13,
      "outputs": []
    },
    {
      "cell_type": "code",
      "metadata": {
        "id": "8TEmy-_c5ChT",
        "colab": {
          "base_uri": "https://localhost:8080/"
        },
        "outputId": "dc23d929-72c2-4371-9236-324642aa8891"
      },
      "source": [
        "heads"
      ],
      "execution_count": 14,
      "outputs": [
        {
          "output_type": "execute_result",
          "data": {
            "text/plain": [
              "array([0, 1, 2, 3, 4, 5])"
            ]
          },
          "metadata": {},
          "execution_count": 14
        }
      ]
    },
    {
      "cell_type": "code",
      "metadata": {
        "id": "Yn5wlP-A5ChU",
        "colab": {
          "base_uri": "https://localhost:8080/"
        },
        "outputId": "2fc0aaf2-8a08-4798-d5d1-1ec67637c442"
      },
      "source": [
        "event_count"
      ],
      "execution_count": 15,
      "outputs": [
        {
          "output_type": "execute_result",
          "data": {
            "text/plain": [
              "array([ 33, 181, 285, 313, 160,  28])"
            ]
          },
          "metadata": {},
          "execution_count": 15
        }
      ]
    },
    {
      "cell_type": "code",
      "metadata": {
        "id": "LaBGlw-95ChU",
        "outputId": "402835b3-8666-4656-ffd9-fe1d2a20e331",
        "colab": {
          "base_uri": "https://localhost:8080/"
        }
      },
      "source": [
        "event_proba = event_count/n_experiments\n",
        "event_proba"
      ],
      "execution_count": 16,
      "outputs": [
        {
          "output_type": "execute_result",
          "data": {
            "text/plain": [
              "array([0.033, 0.181, 0.285, 0.313, 0.16 , 0.028])"
            ]
          },
          "metadata": {},
          "execution_count": 16
        }
      ]
    },
    {
      "cell_type": "code",
      "metadata": {
        "id": "ecU6IMfE5ChU",
        "colab": {
          "base_uri": "https://localhost:8080/",
          "height": 0
        },
        "outputId": "f4a46c76-f3b0-4ea3-c235-8de91742f7b9"
      },
      "source": [
        "plt.bar(heads, event_proba, color='mediumpurple')\n",
        "plt.xlabel('Heads flips (out of 5 tosses)')\n",
        "_ = plt.ylabel('Event probability')"
      ],
      "execution_count": 17,
      "outputs": [
        {
          "output_type": "display_data",
          "data": {
            "text/plain": [
              "<Figure size 432x288 with 1 Axes>"
            ],
            "image/png": "[encoded data removed]"
          },
          "metadata": {
            "needs_background": "light"
          }
        }
      ]
    },
    {
      "cell_type": "markdown",
      "metadata": {
        "id": "KwhO9Zn75ChU"
      },
      "source": [
        "Let's say we'd like to now test a coin as to whether it's fair or not. We flip it five times and all five times it comes up heads. Does this imply it's not a fair coin? Statistics arms us with tools to use the probability distribution above to answer this question with a particular degree of confidence. "
      ]
    },
    {
      "cell_type": "markdown",
      "metadata": {
        "id": "AENw26_O5ChU"
      },
      "source": [
        "**Return to slides here.**"
      ]
    },
    {
      "cell_type": "markdown",
      "metadata": {
        "id": "LMC_Cvs85ChV"
      },
      "source": [
        "### Expected Value"
      ]
    },
    {
      "cell_type": "code",
      "metadata": {
        "id": "XOyKNFZw5ChV",
        "colab": {
          "base_uri": "https://localhost:8080/"
        },
        "outputId": "8c944f76-706b-4d23-ce7a-5b31736d2305"
      },
      "source": [
        "P = [coinflip_prob(5, x) for x in range(6)]\n",
        "P"
      ],
      "execution_count": 18,
      "outputs": [
        {
          "output_type": "execute_result",
          "data": {
            "text/plain": [
              "[0.03125, 0.15625, 0.3125, 0.3125, 0.15625, 0.03125]"
            ]
          },
          "metadata": {},
          "execution_count": 18
        }
      ]
    },
    {
      "cell_type": "markdown",
      "metadata": {
        "id": "XCCclUvR5ChV"
      },
      "source": [
        "From the slides:\n",
        "$$ \\mathbb{E} = \\sum_x xP(x) $$"
      ]
    },
    {
      "cell_type": "code",
      "metadata": {
        "id": "37gjROzg5ChV",
        "colab": {
          "base_uri": "https://localhost:8080/"
        },
        "outputId": "fef29d34-1027-4db5-c717-52ac399679bf"
      },
      "source": [
        "E = sum([P[x]*x for x in range(6)])\n",
        "E"
      ],
      "execution_count": 19,
      "outputs": [
        {
          "output_type": "execute_result",
          "data": {
            "text/plain": [
              "2.5"
            ]
          },
          "metadata": {},
          "execution_count": 19
        }
      ]
    },
    {
      "cell_type": "markdown",
      "metadata": {
        "id": "xOq8r0Ud5ChV"
      },
      "source": [
        "**Exercises**:\n",
        "\n",
        "1. Assuming heads = 1 and tails = 0, what’s the expected value of the toss of a fair coin? \n",
        "2. ...and of two tosses of a fair coin? \n",
        "3. You are one of a thousand people to purchase a lottery ticket. The ticket costs \\\\$10 and pays out \\\\$5000. What value should you expect from this transaction? \n"
      ]
    },
    {
      "cell_type": "markdown",
      "metadata": {
        "id": "uziVFQUR6A4x"
      },
      "source": [
        "**Spoiler Alert**: Solutions below"
      ]
    },
    {
      "cell_type": "code",
      "metadata": {
        "id": "vsl_1I3n5ChV"
      },
      "source": [
        ""
      ],
      "execution_count": 19,
      "outputs": []
    },
    {
      "cell_type": "code",
      "metadata": {
        "id": "sZLZtHsN5ChV"
      },
      "source": [
        ""
      ],
      "execution_count": 19,
      "outputs": []
    },
    {
      "cell_type": "code",
      "metadata": {
        "id": "q2Th7Qb-5ChW"
      },
      "source": [
        ""
      ],
      "execution_count": 19,
      "outputs": []
    },
    {
      "cell_type": "markdown",
      "metadata": {
        "id": "ZYyeFfVW5ChW"
      },
      "source": [
        "**Solutions**:\n",
        "\n",
        "1. (½)0 + (½)1 = 0 + ½ = ½ \n",
        "2. (¼)0 + (½)1 + (¼)2 = 0 + ½ + ½ = 1 \n",
        "\n",
        "3. \n",
        "(1/1000)(\\\\$5000-\\\\$10) + (999/1000)(-\\\\$10) \\\n",
        "= (1/1000)(\\\\$4990) + (999/1000)(-\\\\$10) \\\n",
        "= \\\\$4.99 + (\\\\$-9.99) \\\n",
        "= -\\\\$5\n"
      ]
    },
    {
      "cell_type": "markdown",
      "metadata": {
        "id": "IwCzvbE05ChW"
      },
      "source": [
        "### Measures of Central Tendency"
      ]
    },
    {
      "cell_type": "markdown",
      "metadata": {
        "id": "Nz_RAtEf5ChW"
      },
      "source": [
        "Measures of central tendency provide a summary statistic on the center of a given distribution, a.k.a., the \"average\" value of the distribution."
      ]
    },
    {
      "cell_type": "markdown",
      "metadata": {
        "id": "HrAt0oVb5ChW"
      },
      "source": [
        "#### Mean"
      ]
    },
    {
      "cell_type": "markdown",
      "metadata": {
        "id": "pCKs9uFF5ChW"
      },
      "source": [
        "The most common measure of central tendency, synonomous with the term \"average\", is the **mean**, often symbolized with $\\mu$ (population) or $\\bar{x}$ (sample):"
      ]
    },
    {
      "cell_type": "markdown",
      "metadata": {
        "id": "sBIObqs05ChW"
      },
      "source": [
        "$$ \\bar{x} = \\frac{\\sum_{i=1}^n x_i}{n} $$"
      ]
    },
    {
      "cell_type": "markdown",
      "metadata": {
        "id": "-O0hmQam5ChX"
      },
      "source": [
        "Expected value is in fact the long-term *mean* of some function (i.e., $\\mu = \\mathbb{E}$). Let's calculate how close the sample mean, $\\bar{x}$, of our five-coin-flip experiments comes to the expected value, $\\mathbb{E} = 2.5$."
      ]
    },
    {
      "cell_type": "code",
      "metadata": {
        "id": "fJY0mexL5ChX",
        "colab": {
          "base_uri": "https://localhost:8080/"
        },
        "outputId": "7d1c0f46-d7a2-4d91-e332-a889125c3cc0"
      },
      "source": [
        "len(heads_count)"
      ],
      "execution_count": 20,
      "outputs": [
        {
          "output_type": "execute_result",
          "data": {
            "text/plain": [
              "1000"
            ]
          },
          "metadata": {},
          "execution_count": 20
        }
      ]
    },
    {
      "cell_type": "code",
      "metadata": {
        "id": "sU3-c-EJ5ChX",
        "colab": {
          "base_uri": "https://localhost:8080/"
        },
        "outputId": "e4218377-3664-4b4c-bd39-ea4f666c0316"
      },
      "source": [
        "heads_count[0:20]"
      ],
      "execution_count": 21,
      "outputs": [
        {
          "output_type": "execute_result",
          "data": {
            "text/plain": [
              "array([2, 2, 2, 3, 2, 3, 3, 1, 3, 1, 1, 4, 4, 3, 2, 1, 3, 2, 1, 2])"
            ]
          },
          "metadata": {},
          "execution_count": 21
        }
      ]
    },
    {
      "cell_type": "code",
      "metadata": {
        "id": "pA0ai4I45ChX",
        "colab": {
          "base_uri": "https://localhost:8080/"
        },
        "outputId": "7f1de0ca-22ac-40d6-8104-058eba801b75"
      },
      "source": [
        "sum(heads_count)/len(heads_count)"
      ],
      "execution_count": 22,
      "outputs": [
        {
          "output_type": "execute_result",
          "data": {
            "text/plain": [
              "2.47"
            ]
          },
          "metadata": {},
          "execution_count": 22
        }
      ]
    },
    {
      "cell_type": "markdown",
      "metadata": {
        "id": "fN9wBEb55ChX"
      },
      "source": [
        "Unsurprisingly, NumPy comes with a built-in function:"
      ]
    },
    {
      "cell_type": "code",
      "metadata": {
        "id": "OXRi9fki-5CB",
        "outputId": "bb58234f-053b-4018-a41f-d66bc95262b9",
        "colab": {
          "base_uri": "https://localhost:8080/"
        }
      },
      "source": [
        "np.mean(heads_count)"
      ],
      "execution_count": 23,
      "outputs": [
        {
          "output_type": "execute_result",
          "data": {
            "text/plain": [
              "2.47"
            ]
          },
          "metadata": {},
          "execution_count": 23
        }
      ]
    },
    {
      "cell_type": "code",
      "metadata": {
        "id": "4c6p-UVK-aok",
        "outputId": "bbd05a09-8f61-4139-f955-265501674459",
        "colab": {
          "base_uri": "https://localhost:8080/"
        }
      },
      "source": [
        "heads_count.mean() # fun!"
      ],
      "execution_count": 24,
      "outputs": [
        {
          "output_type": "execute_result",
          "data": {
            "text/plain": [
              "2.47"
            ]
          },
          "metadata": {},
          "execution_count": 24
        }
      ]
    },
    {
      "cell_type": "markdown",
      "metadata": {
        "id": "vD8bvjix5ChY"
      },
      "source": [
        "Pretty close! The law of large numbers implies that as we increase the number of experiments (e.g., to a million -- you're welcome to try it), we'll converge on $\\mathbb{E}=2.5$."
      ]
    },
    {
      "cell_type": "markdown",
      "metadata": {
        "id": "Q1qtow1O5ChY"
      },
      "source": [
        "#### Median"
      ]
    },
    {
      "cell_type": "markdown",
      "metadata": {
        "id": "4TZHQsES5ChY"
      },
      "source": [
        "The second most common measure of central tendency is the **median**, the midpoint value in the distribution: "
      ]
    },
    {
      "cell_type": "code",
      "metadata": {
        "id": "Ff3aQam65ChY"
      },
      "source": [
        "heads_count.sort()"
      ],
      "execution_count": 25,
      "outputs": []
    },
    {
      "cell_type": "code",
      "metadata": {
        "id": "0ECSOjaA5ChY",
        "colab": {
          "base_uri": "https://localhost:8080/"
        },
        "outputId": "806d020a-98b3-4fc5-8e4c-079bb985e32b"
      },
      "source": [
        "heads_count[0:20]"
      ],
      "execution_count": 26,
      "outputs": [
        {
          "output_type": "execute_result",
          "data": {
            "text/plain": [
              "array([0, 0, 0, 0, 0, 0, 0, 0, 0, 0, 0, 0, 0, 0, 0, 0, 0, 0, 0, 0])"
            ]
          },
          "metadata": {},
          "execution_count": 26
        }
      ]
    },
    {
      "cell_type": "code",
      "metadata": {
        "id": "ySeyJ81I5ChY",
        "colab": {
          "base_uri": "https://localhost:8080/"
        },
        "outputId": "6d05fde2-4ecc-4ca3-ae0b-7827f8d36bfd"
      },
      "source": [
        "heads_count[-20:]"
      ],
      "execution_count": 27,
      "outputs": [
        {
          "output_type": "execute_result",
          "data": {
            "text/plain": [
              "array([5, 5, 5, 5, 5, 5, 5, 5, 5, 5, 5, 5, 5, 5, 5, 5, 5, 5, 5, 5])"
            ]
          },
          "metadata": {},
          "execution_count": 27
        }
      ]
    },
    {
      "cell_type": "code",
      "metadata": {
        "id": "SdeMf4RR5ChZ",
        "colab": {
          "base_uri": "https://localhost:8080/"
        },
        "outputId": "59906afc-e8c8-4be9-ee6d-30456acbae30"
      },
      "source": [
        "len(heads_count)"
      ],
      "execution_count": 28,
      "outputs": [
        {
          "output_type": "execute_result",
          "data": {
            "text/plain": [
              "1000"
            ]
          },
          "metadata": {},
          "execution_count": 28
        }
      ]
    },
    {
      "cell_type": "markdown",
      "metadata": {
        "id": "WWfqQ4rI5ChZ"
      },
      "source": [
        "With an odd number of values in a distribution, we consider the single midpoint to be the median, e.g., the midpoint of the sorted array `[2, 4, 6, 9, 10]` is six.\n",
        "\n",
        "With an even number, we take the mean of the two values that straddle the midpoint: "
      ]
    },
    {
      "cell_type": "code",
      "metadata": {
        "id": "xQPz0RT45ChZ",
        "colab": {
          "base_uri": "https://localhost:8080/"
        },
        "outputId": "381670c8-24b9-49e1-abbd-118a0079798d"
      },
      "source": [
        "heads_count[499]"
      ],
      "execution_count": 29,
      "outputs": [
        {
          "output_type": "execute_result",
          "data": {
            "text/plain": [
              "3"
            ]
          },
          "metadata": {},
          "execution_count": 29
        }
      ]
    },
    {
      "cell_type": "code",
      "metadata": {
        "id": "RavYR6JX5ChZ",
        "colab": {
          "base_uri": "https://localhost:8080/"
        },
        "outputId": "320112e3-3485-4bed-d1fc-8e6fde3c074c"
      },
      "source": [
        "heads_count[500]"
      ],
      "execution_count": 30,
      "outputs": [
        {
          "output_type": "execute_result",
          "data": {
            "text/plain": [
              "3"
            ]
          },
          "metadata": {},
          "execution_count": 30
        }
      ]
    },
    {
      "cell_type": "markdown",
      "metadata": {
        "id": "o7CLGD4z5ChZ"
      },
      "source": [
        "...which in this case is obviously three: "
      ]
    },
    {
      "cell_type": "code",
      "metadata": {
        "id": "MZ6cEUJ25ChZ",
        "colab": {
          "base_uri": "https://localhost:8080/"
        },
        "outputId": "fd6ffaa8-ad24-40f9-a034-dbd665005943"
      },
      "source": [
        "(3+3)/2"
      ],
      "execution_count": 31,
      "outputs": [
        {
          "output_type": "execute_result",
          "data": {
            "text/plain": [
              "3.0"
            ]
          },
          "metadata": {},
          "execution_count": 31
        }
      ]
    },
    {
      "cell_type": "markdown",
      "metadata": {
        "id": "udtzZf_X5Cha"
      },
      "source": [
        "Built-in method:"
      ]
    },
    {
      "cell_type": "code",
      "metadata": {
        "id": "dxxtSiCp5Cha",
        "colab": {
          "base_uri": "https://localhost:8080/"
        },
        "outputId": "97319c5a-7613-48f0-ce05-e9709163ec92"
      },
      "source": [
        "np.median(heads_count)"
      ],
      "execution_count": 32,
      "outputs": [
        {
          "output_type": "execute_result",
          "data": {
            "text/plain": [
              "3.0"
            ]
          },
          "metadata": {},
          "execution_count": 32
        }
      ]
    },
    {
      "cell_type": "markdown",
      "metadata": {
        "id": "k3Fv1AMu5Cha"
      },
      "source": [
        "#### Mode"
      ]
    },
    {
      "cell_type": "markdown",
      "metadata": {
        "id": "RiUTOi3U5Cha"
      },
      "source": [
        "The **mode** is the final common measure of central tendency. It is simply the value in the distribution that occurs most frequently.\n",
        "\n",
        "As is clear in the most recently output chart, in the case of our five-coin-toss experiment, the mode is three. "
      ]
    },
    {
      "cell_type": "markdown",
      "metadata": {
        "id": "ukKeQScV5Cha"
      },
      "source": [
        "Method available in the SciPy `stats` module:"
      ]
    },
    {
      "cell_type": "code",
      "metadata": {
        "id": "FPrHiYh65Cha",
        "colab": {
          "base_uri": "https://localhost:8080/"
        },
        "outputId": "a621ecd5-897f-4692-b26e-d81319074b50"
      },
      "source": [
        "st.mode(heads_count)"
      ],
      "execution_count": 33,
      "outputs": [
        {
          "output_type": "execute_result",
          "data": {
            "text/plain": [
              "ModeResult(mode=array([3]), count=array([313]))"
            ]
          },
          "metadata": {},
          "execution_count": 33
        }
      ]
    },
    {
      "cell_type": "code",
      "metadata": {
        "id": "PFUn0iJX5Chb",
        "colab": {
          "base_uri": "https://localhost:8080/"
        },
        "outputId": "b0ef3e17-382b-4b73-896b-ea4675f8e5f1"
      },
      "source": [
        "st.mode(heads_count)[0][0]"
      ],
      "execution_count": 34,
      "outputs": [
        {
          "output_type": "execute_result",
          "data": {
            "text/plain": [
              "3"
            ]
          },
          "metadata": {},
          "execution_count": 34
        }
      ]
    },
    {
      "cell_type": "markdown",
      "metadata": {
        "id": "36qtYyry5Chb"
      },
      "source": [
        "With small sample sizes, the mean typically provides the most accurate measure of central tendency.\n",
        "\n",
        "With larger sample sizes, the mean, median, and mode will tend to coincide, as long as the distribution isn't skewed: "
      ]
    },
    {
      "cell_type": "code",
      "metadata": {
        "id": "NcU6qKo35Chb"
      },
      "source": [
        "x = st.skewnorm.rvs(0, size=1000) # first argument is \"skewness\"; 0 has no skew"
      ],
      "execution_count": 35,
      "outputs": []
    },
    {
      "cell_type": "code",
      "metadata": {
        "id": "c13nv_wO5Chb",
        "colab": {
          "base_uri": "https://localhost:8080/",
          "height": 0
        },
        "outputId": "ca2f764e-de6c-467f-a9fc-f3519305c27f"
      },
      "source": [
        "fig, ax = plt.subplots()\n",
        "plt.axvline(x = np.mean(x), color='orange')\n",
        "plt.axvline(x = np.median(x), color='green')\n",
        "_ = plt.hist(x, color = 'lightgray')\n",
        "# Note: Mode typically only applies to PMFs; this is a PDF"
      ],
      "execution_count": 36,
      "outputs": [
        {
          "output_type": "display_data",
          "data": {
            "text/plain": [
              "<Figure size 432x288 with 1 Axes>"
            ],
            "image/png": "[encoded data removed]"
          },
          "metadata": {
            "needs_background": "light"
          }
        }
      ]
    },
    {
      "cell_type": "markdown",
      "metadata": {
        "id": "EdRT_Lme5Chb"
      },
      "source": [
        "Skewed distributions, in contrast, drag the mean away from the center and toward the tail: "
      ]
    },
    {
      "cell_type": "code",
      "metadata": {
        "id": "85C_EFZZ5Chb"
      },
      "source": [
        "x = st.skewnorm.rvs(10, size=1000) "
      ],
      "execution_count": 37,
      "outputs": []
    },
    {
      "cell_type": "code",
      "metadata": {
        "id": "pT0zxSPd5Chb",
        "colab": {
          "base_uri": "https://localhost:8080/",
          "height": 0
        },
        "outputId": "70df9666-57fa-496a-b1ff-1b7031c6455f"
      },
      "source": [
        "fig, ax = plt.subplots()\n",
        "plt.axvline(x = np.mean(x), color='orange')\n",
        "_ = plt.hist(x, color = 'lightgray')"
      ],
      "execution_count": 38,
      "outputs": [
        {
          "output_type": "display_data",
          "data": {
            "text/plain": [
              "<Figure size 432x288 with 1 Axes>"
            ],
            "image/png": "[encoded data removed]"
          },
          "metadata": {
            "needs_background": "light"
          }
        }
      ]
    },
    {
      "cell_type": "markdown",
      "metadata": {
        "id": "-uDxp8YT5Chc"
      },
      "source": [
        "The mode is least impacted by skew, but is only applicable to discrete distributions. For continuous distributions with skew (e.g., salary data), median is typically the choice measure of central tendency:"
      ]
    },
    {
      "cell_type": "code",
      "metadata": {
        "id": "zzrBO1fg5Chc",
        "colab": {
          "base_uri": "https://localhost:8080/",
          "height": 0
        },
        "outputId": "a37b0035-69cf-4501-8748-b4f0c77a3e1d"
      },
      "source": [
        "fig, ax = plt.subplots()\n",
        "plt.axvline(x = np.mean(x), color='orange')\n",
        "plt.axvline(x = np.median(x), color='green')\n",
        "_ = plt.hist(x, color = 'lightgray')"
      ],
      "execution_count": 39,
      "outputs": [
        {
          "output_type": "display_data",
          "data": {
            "text/plain": [
              "<Figure size 432x288 with 1 Axes>"
            ],
            "image/png": "[encoded data removed]"
          },
          "metadata": {
            "needs_background": "light"
          }
        }
      ]
    },
    {
      "cell_type": "markdown",
      "metadata": {
        "id": "RRr8oPbC5Chc"
      },
      "source": [
        "### Quantiles"
      ]
    },
    {
      "cell_type": "markdown",
      "metadata": {
        "id": "Sorh-6kS5Chc"
      },
      "source": [
        "The median, which divides a distribution in two at its midpoint, is the most well-known example of a quantile:"
      ]
    },
    {
      "cell_type": "code",
      "metadata": {
        "id": "CZfX5qP95Chc",
        "colab": {
          "base_uri": "https://localhost:8080/"
        },
        "outputId": "c04b6c11-c8db-483c-92f0-ac654b0a5e0a"
      },
      "source": [
        "np.median(x)"
      ],
      "execution_count": 40,
      "outputs": [
        {
          "output_type": "execute_result",
          "data": {
            "text/plain": [
              "0.6987365121323832"
            ]
          },
          "metadata": {},
          "execution_count": 40
        }
      ]
    },
    {
      "cell_type": "code",
      "metadata": {
        "id": "YqPFRjcO5Chc",
        "colab": {
          "base_uri": "https://localhost:8080/"
        },
        "outputId": "51ec4f9e-7f32-496e-e3ff-3a72b96abccf"
      },
      "source": [
        "np.quantile(x, 0.5)"
      ],
      "execution_count": 41,
      "outputs": [
        {
          "output_type": "execute_result",
          "data": {
            "text/plain": [
              "0.6987365121323832"
            ]
          },
          "metadata": {},
          "execution_count": 41
        }
      ]
    },
    {
      "cell_type": "markdown",
      "metadata": {
        "id": "HpK3wcmy5Chd"
      },
      "source": [
        "Generally speaking, quantiles divide up distributions and the most common are:\n",
        "\n",
        "* Percentiles, \n",
        "* Quartiles, and\n",
        "* Deciles."
      ]
    },
    {
      "cell_type": "markdown",
      "metadata": {
        "id": "kIB-rEJQ5Chd"
      },
      "source": [
        "**Percentiles** divide the distribution at any point out of one hundred (\"pour cent\" is French for \"out of a hundred\"). For example, if we'd like to identify the threshold for the top 5% of a distribution, we'd cut it at the 95th percentile. Or, for the top 1%, we'd cut at the 99th percentile."
      ]
    },
    {
      "cell_type": "code",
      "metadata": {
        "id": "3T9AE9aS5Chd",
        "colab": {
          "base_uri": "https://localhost:8080/"
        },
        "outputId": "3fc34ef5-479f-4b81-bd93-60bba04eea1e"
      },
      "source": [
        "p = np.percentile(x, [95, 99])\n",
        "p"
      ],
      "execution_count": 42,
      "outputs": [
        {
          "output_type": "execute_result",
          "data": {
            "text/plain": [
              "array([2.06249928, 2.51830108])"
            ]
          },
          "metadata": {},
          "execution_count": 42
        }
      ]
    },
    {
      "cell_type": "code",
      "metadata": {
        "id": "A_guMMCh5Chd",
        "colab": {
          "base_uri": "https://localhost:8080/",
          "height": 0
        },
        "outputId": "785ea9b7-6bc3-4c92-9f58-e7714f113289"
      },
      "source": [
        "fig, ax = plt.subplots()\n",
        "plt.axvline(x = p[0], color='orange')\n",
        "plt.axvline(x = p[1], color='red')\n",
        "_ = plt.hist(x, color = 'lightgray')"
      ],
      "execution_count": 43,
      "outputs": [
        {
          "output_type": "display_data",
          "data": {
            "text/plain": [
              "<Figure size 432x288 with 1 Axes>"
            ],
            "image/png": "[encoded data removed]"
          },
          "metadata": {
            "needs_background": "light"
          }
        }
      ]
    },
    {
      "cell_type": "markdown",
      "metadata": {
        "id": "atT5Wbtn5Chd"
      },
      "source": [
        "Note that the Numpy `quantile()` method is identical to the `percentile()` method except we pass proportions (ranging from zero to one) into the former and percentages (ranging from zero to 100) into the latter: "
      ]
    },
    {
      "cell_type": "code",
      "metadata": {
        "id": "xEQo8y7u5Chd",
        "colab": {
          "base_uri": "https://localhost:8080/"
        },
        "outputId": "2c98e4b2-f92e-4eb8-a4bc-6d00a937b798"
      },
      "source": [
        "np.quantile(x, [.95, .99])"
      ],
      "execution_count": 44,
      "outputs": [
        {
          "output_type": "execute_result",
          "data": {
            "text/plain": [
              "array([2.06249928, 2.51830108])"
            ]
          },
          "metadata": {},
          "execution_count": 44
        }
      ]
    },
    {
      "cell_type": "markdown",
      "metadata": {
        "id": "vDhFcNWj5Che"
      },
      "source": [
        "**Quartiles**, as their name suggests, are quantiles that divide a distribution into quarters by splitting the distribution at the 25th percentile, the median (a.k.a. the 50th percentile), and the 75th percentile: "
      ]
    },
    {
      "cell_type": "code",
      "metadata": {
        "id": "miEwAsQV5Che",
        "colab": {
          "base_uri": "https://localhost:8080/"
        },
        "outputId": "e15cdd18-b73c-44c7-cc19-7407f349e01b"
      },
      "source": [
        "q = np.percentile(x, [25, 50, 75])\n",
        "q"
      ],
      "execution_count": 45,
      "outputs": [
        {
          "output_type": "execute_result",
          "data": {
            "text/plain": [
              "array([0.32494046, 0.69873651, 1.19431522])"
            ]
          },
          "metadata": {},
          "execution_count": 45
        }
      ]
    },
    {
      "cell_type": "code",
      "metadata": {
        "id": "kQvjcq3O5Che",
        "colab": {
          "base_uri": "https://localhost:8080/",
          "height": 0
        },
        "outputId": "6e68df01-f07c-4c34-94e4-6f8dd13b8d56"
      },
      "source": [
        "fig, ax = plt.subplots()\n",
        "plt.axvline(x = q[0], color='cornflowerblue')\n",
        "plt.axvline(x = q[1], color='green')\n",
        "plt.axvline(x = q[2], color='cornflowerblue')\n",
        "_ = plt.hist(x, color = 'lightgray')"
      ],
      "execution_count": 46,
      "outputs": [
        {
          "output_type": "display_data",
          "data": {
            "text/plain": [
              "<Figure size 432x288 with 1 Axes>"
            ],
            "image/png": "[encoded data removed]"
          },
          "metadata": {
            "needs_background": "light"
          }
        }
      ]
    },
    {
      "cell_type": "markdown",
      "metadata": {
        "id": "JWVX933i5Che"
      },
      "source": [
        "Finally, **deciles** (from Latin *decimus*, meaning \"tenth\") divide a distribution into ten evenly-sized segments: "
      ]
    },
    {
      "cell_type": "code",
      "metadata": {
        "id": "SD59HmMa5Che",
        "colab": {
          "base_uri": "https://localhost:8080/"
        },
        "outputId": "5016eada-cc0f-4122-9b35-cd5a956a544c"
      },
      "source": [
        "[i for i in range(10, 100, 10)]"
      ],
      "execution_count": 47,
      "outputs": [
        {
          "output_type": "execute_result",
          "data": {
            "text/plain": [
              "[10, 20, 30, 40, 50, 60, 70, 80, 90]"
            ]
          },
          "metadata": {},
          "execution_count": 47
        }
      ]
    },
    {
      "cell_type": "code",
      "metadata": {
        "id": "pVuo_iTo5Chf",
        "colab": {
          "base_uri": "https://localhost:8080/"
        },
        "outputId": "a93fbff4-7765-4bcd-a060-4850965cfd38"
      },
      "source": [
        "d = np.percentile(x, range(10, 100, 10))\n",
        "d"
      ],
      "execution_count": 48,
      "outputs": [
        {
          "output_type": "execute_result",
          "data": {
            "text/plain": [
              "array([0.11871856, 0.24991108, 0.3992659 , 0.53290322, 0.69873651,\n",
              "       0.86771624, 1.08994827, 1.30781239, 1.75782249])"
            ]
          },
          "metadata": {},
          "execution_count": 48
        }
      ]
    },
    {
      "cell_type": "code",
      "metadata": {
        "id": "wex6mxXx5Chf",
        "colab": {
          "base_uri": "https://localhost:8080/",
          "height": 0
        },
        "outputId": "1f3ddb15-52f7-42d5-e694-0d91e8263a4d"
      },
      "source": [
        "fig, ax = plt.subplots()\n",
        "[plt.axvline(x = d_i, color='cornflowerblue') for d_i in d]\n",
        "_ = plt.hist(x, color = 'lightgray')"
      ],
      "execution_count": 49,
      "outputs": [
        {
          "output_type": "display_data",
          "data": {
            "text/plain": [
              "<Figure size 432x288 with 1 Axes>"
            ],
            "image/png": "[encoded data removed]"
          },
          "metadata": {
            "needs_background": "light"
          }
        }
      ]
    },
    {
      "cell_type": "markdown",
      "metadata": {
        "id": "ul0eYeis5Chf"
      },
      "source": [
        "As examples, we can refer to the bottom 10% as the bottom decile or the first decile, while the top 10% is the top decile or tenth decile."
      ]
    },
    {
      "cell_type": "markdown",
      "metadata": {
        "id": "hW2cvXR45Chf"
      },
      "source": [
        "### The Box-and-Whisker Plot"
      ]
    },
    {
      "cell_type": "code",
      "metadata": {
        "id": "hstuGQgw5Chf"
      },
      "source": [
        "sns.set(style='whitegrid')"
      ],
      "execution_count": 50,
      "outputs": []
    },
    {
      "cell_type": "code",
      "metadata": {
        "id": "KTJsZfB25Chg",
        "colab": {
          "base_uri": "https://localhost:8080/",
          "height": 0
        },
        "outputId": "a6ae3824-2de8-4cec-aeaa-65d96971fdd2"
      },
      "source": [
        "_ = sns.boxplot(x=x)"
      ],
      "execution_count": 51,
      "outputs": [
        {
          "output_type": "display_data",
          "data": {
            "text/plain": [
              "<Figure size 432x288 with 1 Axes>"
            ],
            "image/png": "[encoded data removed]"
          },
          "metadata": {}
        }
      ]
    },
    {
      "cell_type": "markdown",
      "metadata": {
        "id": "LYTGM6aL5Chg"
      },
      "source": [
        "Box edges and median are determined by quartiles:"
      ]
    },
    {
      "cell_type": "code",
      "metadata": {
        "id": "cwobiHMQ5Chg",
        "colab": {
          "base_uri": "https://localhost:8080/"
        },
        "outputId": "c4dbfa40-c81d-4009-acca-056a0c5746bb"
      },
      "source": [
        "q"
      ],
      "execution_count": 52,
      "outputs": [
        {
          "output_type": "execute_result",
          "data": {
            "text/plain": [
              "array([0.32494046, 0.69873651, 1.19431522])"
            ]
          },
          "metadata": {},
          "execution_count": 52
        }
      ]
    },
    {
      "cell_type": "markdown",
      "metadata": {
        "id": "87xWa_O25Chg"
      },
      "source": [
        "Box edges define the **inter-quartile range** (IQR): "
      ]
    },
    {
      "cell_type": "code",
      "metadata": {
        "id": "geDTr1LS5Chg",
        "colab": {
          "base_uri": "https://localhost:8080/"
        },
        "outputId": "87fcd2c7-de15-46c4-a165-4cfd8e8ad056"
      },
      "source": [
        "r = 1.194 - 0.325\n",
        "r"
      ],
      "execution_count": 53,
      "outputs": [
        {
          "output_type": "execute_result",
          "data": {
            "text/plain": [
              "0.869"
            ]
          },
          "metadata": {},
          "execution_count": 53
        }
      ]
    },
    {
      "cell_type": "markdown",
      "metadata": {
        "id": "AoLruNpq5Chh"
      },
      "source": [
        "Whisker lengths are determined by furthest data points within $1.5 \\times \\text{IQR}$ of the box edges."
      ]
    },
    {
      "cell_type": "markdown",
      "metadata": {
        "id": "or6R8lpL5Chh"
      },
      "source": [
        "In this case, the lower whisker could stretch as far down (to the left in the plot) as:"
      ]
    },
    {
      "cell_type": "code",
      "metadata": {
        "id": "PgFCmy2g5Chh",
        "colab": {
          "base_uri": "https://localhost:8080/"
        },
        "outputId": "2b624400-47e2-4cfd-a7f1-d234a83ace60"
      },
      "source": [
        "0.325 - 1.5*r"
      ],
      "execution_count": 54,
      "outputs": [
        {
          "output_type": "execute_result",
          "data": {
            "text/plain": [
              "-0.9785000000000001"
            ]
          },
          "metadata": {},
          "execution_count": 54
        }
      ]
    },
    {
      "cell_type": "markdown",
      "metadata": {
        "id": "1jGgu10C5Chh"
      },
      "source": [
        "The lowest value is inside of that so the whisker is plotted where that lowest value is: "
      ]
    },
    {
      "cell_type": "code",
      "metadata": {
        "id": "DoTmuS6h5Chh",
        "colab": {
          "base_uri": "https://localhost:8080/"
        },
        "outputId": "8d8d5497-6860-4ae9-fb8c-ac42b9c9c142"
      },
      "source": [
        "np.min(x)"
      ],
      "execution_count": 55,
      "outputs": [
        {
          "output_type": "execute_result",
          "data": {
            "text/plain": [
              "-0.17083838831568182"
            ]
          },
          "metadata": {},
          "execution_count": 55
        }
      ]
    },
    {
      "cell_type": "markdown",
      "metadata": {
        "id": "VAqf6jZ25Chi"
      },
      "source": [
        "The upper whisker could stretch as far up (to the right in the plot) as: "
      ]
    },
    {
      "cell_type": "code",
      "metadata": {
        "id": "owW6yEe75Chi",
        "colab": {
          "base_uri": "https://localhost:8080/"
        },
        "outputId": "37467a24-1eb5-4247-df4f-fbc3a15c9fd1"
      },
      "source": [
        "1.194 + 1.5*r"
      ],
      "execution_count": 56,
      "outputs": [
        {
          "output_type": "execute_result",
          "data": {
            "text/plain": [
              "2.4975"
            ]
          },
          "metadata": {},
          "execution_count": 56
        }
      ]
    },
    {
      "cell_type": "markdown",
      "metadata": {
        "id": "wdC_HHjO5Chi"
      },
      "source": [
        "There are several (eleven) values beyond this threshold in the distribution. These values are considered **outliers** and are plotted as individual points:"
      ]
    },
    {
      "cell_type": "code",
      "metadata": {
        "id": "MB1QCond5Chi"
      },
      "source": [
        "x.sort()"
      ],
      "execution_count": 57,
      "outputs": []
    },
    {
      "cell_type": "code",
      "metadata": {
        "id": "mrWngeiJ5Chi",
        "colab": {
          "base_uri": "https://localhost:8080/"
        },
        "outputId": "79f82b6c-5eed-4ff3-84df-4c0f704625bf"
      },
      "source": [
        "x[-15:]"
      ],
      "execution_count": 58,
      "outputs": [
        {
          "output_type": "execute_result",
          "data": {
            "text/plain": [
              "array([2.39810074, 2.40295599, 2.41430044, 2.43541111, 2.51827951,\n",
              "       2.52043572, 2.56177972, 2.74024547, 2.74882884, 2.78877435,\n",
              "       2.88399304, 2.93368541, 2.94293176, 3.46465001, 4.00641863])"
            ]
          },
          "metadata": {},
          "execution_count": 58
        }
      ]
    },
    {
      "cell_type": "markdown",
      "metadata": {
        "id": "myU38cQq5Chi"
      },
      "source": [
        "The twelth-highest value, 2.435, is the largest within the upper whisker's maximum reach and so the upper whisker is plotted there. "
      ]
    },
    {
      "cell_type": "markdown",
      "metadata": {
        "id": "plWdKLkK5Chj"
      },
      "source": [
        "Useful for examining distributions on their own, box-and-whisker plots are especially helpful for comparing distributions:"
      ]
    },
    {
      "cell_type": "code",
      "metadata": {
        "id": "hU6gylwx5Chj",
        "colab": {
          "base_uri": "https://localhost:8080/",
          "height": 0
        },
        "outputId": "a1926c5b-a4a7-452d-e4e1-03a213d2add9"
      },
      "source": [
        "iris = sns.load_dataset('iris')\n",
        "iris"
      ],
      "execution_count": 59,
      "outputs": [
        {
          "output_type": "execute_result",
          "data": {
            "text/plain": [
              "     sepal_length  sepal_width  petal_length  petal_width    species\n",
              "0             5.1          3.5           1.4          0.2     setosa\n",
              "1             4.9          3.0           1.4          0.2     setosa\n",
              "2             4.7          3.2           1.3          0.2     setosa\n",
              "3             4.6          3.1           1.5          0.2     setosa\n",
              "4             5.0          3.6           1.4          0.2     setosa\n",
              "..            ...          ...           ...          ...        ...\n",
              "145           6.7          3.0           5.2          2.3  virginica\n",
              "146           6.3          2.5           5.0          1.9  virginica\n",
              "147           6.5          3.0           5.2          2.0  virginica\n",
              "148           6.2          3.4           5.4          2.3  virginica\n",
              "149           5.9          3.0           5.1          1.8  virginica\n",
              "\n",
              "[150 rows x 5 columns]"
            ],
            "text/html": [
              "\n",
              "  <div id=\"df-cf644066-4816-4574-ab6f-908cca6350bb\">\n",
              "    <div class=\"colab-df-container\">\n",
              "      <div>\n",
              "<style scoped>\n",
              "    .dataframe tbody tr th:only-of-type {\n",
              "        vertical-align: middle;\n",
              "    }\n",
              "\n",
              "    .dataframe tbody tr th {\n",
              "        vertical-align: top;\n",
              "    }\n",
              "\n",
              "    .dataframe thead th {\n",
              "        text-align: right;\n",
              "    }\n",
              "</style>\n",
              "<table border=\"1\" class=\"dataframe\">\n",
              "  <thead>\n",
              "    <tr style=\"text-align: right;\">\n",
              "      <th></th>\n",
              "      <th>sepal_length</th>\n",
              "      <th>sepal_width</th>\n",
              "      <th>petal_length</th>\n",
              "      <th>petal_width</th>\n",
              "      <th>species</th>\n",
              "    </tr>\n",
              "  </thead>\n",
              "  <tbody>\n",
              "    <tr>\n",
              "      <th>0</th>\n",
              "      <td>5.1</td>\n",
              "      <td>3.5</td>\n",
              "      <td>1.4</td>\n",
              "      <td>0.2</td>\n",
              "      <td>setosa</td>\n",
              "    </tr>\n",
              "    <tr>\n",
              "      <th>1</th>\n",
              "      <td>4.9</td>\n",
              "      <td>3.0</td>\n",
              "      <td>1.4</td>\n",
              "      <td>0.2</td>\n",
              "      <td>setosa</td>\n",
              "    </tr>\n",
              "    <tr>\n",
              "      <th>2</th>\n",
              "      <td>4.7</td>\n",
              "      <td>3.2</td>\n",
              "      <td>1.3</td>\n",
              "      <td>0.2</td>\n",
              "      <td>setosa</td>\n",
              "    </tr>\n",
              "    <tr>\n",
              "      <th>3</th>\n",
              "      <td>4.6</td>\n",
              "      <td>3.1</td>\n",
              "      <td>1.5</td>\n",
              "      <td>0.2</td>\n",
              "      <td>setosa</td>\n",
              "    </tr>\n",
              "    <tr>\n",
              "      <th>4</th>\n",
              "      <td>5.0</td>\n",
              "      <td>3.6</td>\n",
              "      <td>1.4</td>\n",
              "      <td>0.2</td>\n",
              "      <td>setosa</td>\n",
              "    </tr>\n",
              "    <tr>\n",
              "      <th>...</th>\n",
              "      <td>...</td>\n",
              "      <td>...</td>\n",
              "      <td>...</td>\n",
              "      <td>...</td>\n",
              "      <td>...</td>\n",
              "    </tr>\n",
              "    <tr>\n",
              "      <th>145</th>\n",
              "      <td>6.7</td>\n",
              "      <td>3.0</td>\n",
              "      <td>5.2</td>\n",
              "      <td>2.3</td>\n",
              "      <td>virginica</td>\n",
              "    </tr>\n",
              "    <tr>\n",
              "      <th>146</th>\n",
              "      <td>6.3</td>\n",
              "      <td>2.5</td>\n",
              "      <td>5.0</td>\n",
              "      <td>1.9</td>\n",
              "      <td>virginica</td>\n",
              "    </tr>\n",
              "    <tr>\n",
              "      <th>147</th>\n",
              "      <td>6.5</td>\n",
              "      <td>3.0</td>\n",
              "      <td>5.2</td>\n",
              "      <td>2.0</td>\n",
              "      <td>virginica</td>\n",
              "    </tr>\n",
              "    <tr>\n",
              "      <th>148</th>\n",
              "      <td>6.2</td>\n",
              "      <td>3.4</td>\n",
              "      <td>5.4</td>\n",
              "      <td>2.3</td>\n",
              "      <td>virginica</td>\n",
              "    </tr>\n",
              "    <tr>\n",
              "      <th>149</th>\n",
              "      <td>5.9</td>\n",
              "      <td>3.0</td>\n",
              "      <td>5.1</td>\n",
              "      <td>1.8</td>\n",
              "      <td>virginica</td>\n",
              "    </tr>\n",
              "  </tbody>\n",
              "</table>\n",
              "<p>150 rows × 5 columns</p>\n",
              "</div>\n",
              "      <button class=\"colab-df-convert\" onclick=\"convertToInteractive('df-cf644066-4816-4574-ab6f-908cca6350bb')\"\n",
              "              title=\"Convert this dataframe to an interactive table.\"\n",
              "              style=\"display:none;\">\n",
              "        \n",
              "  <svg xmlns=\"http://www.w3.org/2000/svg\" height=\"24px\"viewBox=\"0 0 24 24\"\n",
              "       width=\"24px\">\n",
              "    <path d=\"M0 0h24v24H0V0z\" fill=\"none\"/>\n",
              "    <path d=\"M18.56 5.44l.94 2.06.94-2.06 2.06-.94-2.06-.94-.94-2.06-.94 2.06-2.06.94zm-11 1L8.5 8.5l.94-2.06 2.06-.94-2.06-.94L8.5 2.5l-.94 2.06-2.06.94zm10 10l.94 2.06.94-2.06 2.06-.94-2.06-.94-.94-2.06-.94 2.06-2.06.94z\"/><path d=\"M17.41 7.96l-1.37-1.37c-.4-.4-.92-.59-1.43-.59-.52 0-1.04.2-1.43.59L10.3 9.45l-7.72 7.72c-.78.78-.78 2.05 0 2.83L4 21.41c.39.39.9.59 1.41.59.51 0 1.02-.2 1.41-.59l7.78-7.78 2.81-2.81c.8-.78.8-2.07 0-2.86zM5.41 20L4 18.59l7.72-7.72 1.47 1.35L5.41 20z\"/>\n",
              "  </svg>\n",
              "      </button>\n",
              "      \n",
              "  <style>\n",
              "    .colab-df-container {\n",
              "      display:flex;\n",
              "      flex-wrap:wrap;\n",
              "      gap: 12px;\n",
              "    }\n",
              "\n",
              "    .colab-df-convert {\n",
              "      background-color: #E8F0FE;\n",
              "      border: none;\n",
              "      border-radius: 50%;\n",
              "      cursor: pointer;\n",
              "      display: none;\n",
              "      fill: #1967D2;\n",
              "      height: 32px;\n",
              "      padding: 0 0 0 0;\n",
              "      width: 32px;\n",
              "    }\n",
              "\n",
              "    .colab-df-convert:hover {\n",
              "      background-color: #E2EBFA;\n",
              "      box-shadow: 0px 1px 2px rgba(60, 64, 67, 0.3), 0px 1px 3px 1px rgba(60, 64, 67, 0.15);\n",
              "      fill: #174EA6;\n",
              "    }\n",
              "\n",
              "    [theme=dark] .colab-df-convert {\n",
              "      background-color: #3B4455;\n",
              "      fill: #D2E3FC;\n",
              "    }\n",
              "\n",
              "    [theme=dark] .colab-df-convert:hover {\n",
              "      background-color: #434B5C;\n",
              "      box-shadow: 0px 1px 3px 1px rgba(0, 0, 0, 0.15);\n",
              "      filter: drop-shadow(0px 1px 2px rgba(0, 0, 0, 0.3));\n",
              "      fill: #FFFFFF;\n",
              "    }\n",
              "  </style>\n",
              "\n",
              "      <script>\n",
              "        const buttonEl =\n",
              "          document.querySelector('#df-cf644066-4816-4574-ab6f-908cca6350bb button.colab-df-convert');\n",
              "        buttonEl.style.display =\n",
              "          google.colab.kernel.accessAllowed ? 'block' : 'none';\n",
              "\n",
              "        async function convertToInteractive(key) {\n",
              "          const element = document.querySelector('#df-cf644066-4816-4574-ab6f-908cca6350bb');\n",
              "          const dataTable =\n",
              "            await google.colab.kernel.invokeFunction('convertToInteractive',\n",
              "                                                     [key], {});\n",
              "          if (!dataTable) return;\n",
              "\n",
              "          const docLinkHtml = 'Like what you see? Visit the ' +\n",
              "            '<a target=\"_blank\" href=https://colab.research.google.com/notebooks/data_table.ipynb>data table notebook</a>'\n",
              "            + ' to learn more about interactive tables.';\n",
              "          element.innerHTML = '';\n",
              "          dataTable['output_type'] = 'display_data';\n",
              "          await google.colab.output.renderOutput(dataTable, element);\n",
              "          const docLink = document.createElement('div');\n",
              "          docLink.innerHTML = docLinkHtml;\n",
              "          element.appendChild(docLink);\n",
              "        }\n",
              "      </script>\n",
              "    </div>\n",
              "  </div>\n",
              "  "
            ]
          },
          "metadata": {},
          "execution_count": 59
        }
      ]
    },
    {
      "cell_type": "code",
      "metadata": {
        "id": "vKqPo2sn5Chj",
        "colab": {
          "base_uri": "https://localhost:8080/",
          "height": 0
        },
        "outputId": "a5013887-d7a1-490d-acc9-d4707ffcdea3"
      },
      "source": [
        "_ = sns.boxplot(data=iris)"
      ],
      "execution_count": 60,
      "outputs": [
        {
          "output_type": "display_data",
          "data": {
            "text/plain": [
              "<Figure size 432x288 with 1 Axes>"
            ],
            "image/png": "[encoded data removed]"
          },
          "metadata": {}
        }
      ]
    },
    {
      "cell_type": "code",
      "metadata": {
        "id": "lYtj4rTU5Chj",
        "colab": {
          "base_uri": "https://localhost:8080/",
          "height": 0
        },
        "outputId": "d9f21c47-8ce3-422c-ae60-0c3f1465317e"
      },
      "source": [
        "tips = sns.load_dataset('tips')\n",
        "tips"
      ],
      "execution_count": 61,
      "outputs": [
        {
          "output_type": "execute_result",
          "data": {
            "text/plain": [
              "     total_bill   tip     sex smoker   day    time  size\n",
              "0         16.99  1.01  Female     No   Sun  Dinner     2\n",
              "1         10.34  1.66    Male     No   Sun  Dinner     3\n",
              "2         21.01  3.50    Male     No   Sun  Dinner     3\n",
              "3         23.68  3.31    Male     No   Sun  Dinner     2\n",
              "4         24.59  3.61  Female     No   Sun  Dinner     4\n",
              "..          ...   ...     ...    ...   ...     ...   ...\n",
              "239       29.03  5.92    Male     No   Sat  Dinner     3\n",
              "240       27.18  2.00  Female    Yes   Sat  Dinner     2\n",
              "241       22.67  2.00    Male    Yes   Sat  Dinner     2\n",
              "242       17.82  1.75    Male     No   Sat  Dinner     2\n",
              "243       18.78  3.00  Female     No  Thur  Dinner     2\n",
              "\n",
              "[244 rows x 7 columns]"
            ],
            "text/html": [
              "\n",
              "  <div id=\"df-b5471774-bab7-4e9d-b958-29ce5407867a\">\n",
              "    <div class=\"colab-df-container\">\n",
              "      <div>\n",
              "<style scoped>\n",
              "    .dataframe tbody tr th:only-of-type {\n",
              "        vertical-align: middle;\n",
              "    }\n",
              "\n",
              "    .dataframe tbody tr th {\n",
              "        vertical-align: top;\n",
              "    }\n",
              "\n",
              "    .dataframe thead th {\n",
              "        text-align: right;\n",
              "    }\n",
              "</style>\n",
              "<table border=\"1\" class=\"dataframe\">\n",
              "  <thead>\n",
              "    <tr style=\"text-align: right;\">\n",
              "      <th></th>\n",
              "      <th>total_bill</th>\n",
              "      <th>tip</th>\n",
              "      <th>sex</th>\n",
              "      <th>smoker</th>\n",
              "      <th>day</th>\n",
              "      <th>time</th>\n",
              "      <th>size</th>\n",
              "    </tr>\n",
              "  </thead>\n",
              "  <tbody>\n",
              "    <tr>\n",
              "      <th>0</th>\n",
              "      <td>16.99</td>\n",
              "      <td>1.01</td>\n",
              "      <td>Female</td>\n",
              "      <td>No</td>\n",
              "      <td>Sun</td>\n",
              "      <td>Dinner</td>\n",
              "      <td>2</td>\n",
              "    </tr>\n",
              "    <tr>\n",
              "      <th>1</th>\n",
              "      <td>10.34</td>\n",
              "      <td>1.66</td>\n",
              "      <td>Male</td>\n",
              "      <td>No</td>\n",
              "      <td>Sun</td>\n",
              "      <td>Dinner</td>\n",
              "      <td>3</td>\n",
              "    </tr>\n",
              "    <tr>\n",
              "      <th>2</th>\n",
              "      <td>21.01</td>\n",
              "      <td>3.50</td>\n",
              "      <td>Male</td>\n",
              "      <td>No</td>\n",
              "      <td>Sun</td>\n",
              "      <td>Dinner</td>\n",
              "      <td>3</td>\n",
              "    </tr>\n",
              "    <tr>\n",
              "      <th>3</th>\n",
              "      <td>23.68</td>\n",
              "      <td>3.31</td>\n",
              "      <td>Male</td>\n",
              "      <td>No</td>\n",
              "      <td>Sun</td>\n",
              "      <td>Dinner</td>\n",
              "      <td>2</td>\n",
              "    </tr>\n",
              "    <tr>\n",
              "      <th>4</th>\n",
              "      <td>24.59</td>\n",
              "      <td>3.61</td>\n",
              "      <td>Female</td>\n",
              "      <td>No</td>\n",
              "      <td>Sun</td>\n",
              "      <td>Dinner</td>\n",
              "      <td>4</td>\n",
              "    </tr>\n",
              "    <tr>\n",
              "      <th>...</th>\n",
              "      <td>...</td>\n",
              "      <td>...</td>\n",
              "      <td>...</td>\n",
              "      <td>...</td>\n",
              "      <td>...</td>\n",
              "      <td>...</td>\n",
              "      <td>...</td>\n",
              "    </tr>\n",
              "    <tr>\n",
              "      <th>239</th>\n",
              "      <td>29.03</td>\n",
              "      <td>5.92</td>\n",
              "      <td>Male</td>\n",
              "      <td>No</td>\n",
              "      <td>Sat</td>\n",
              "      <td>Dinner</td>\n",
              "      <td>3</td>\n",
              "    </tr>\n",
              "    <tr>\n",
              "      <th>240</th>\n",
              "      <td>27.18</td>\n",
              "      <td>2.00</td>\n",
              "      <td>Female</td>\n",
              "      <td>Yes</td>\n",
              "      <td>Sat</td>\n",
              "      <td>Dinner</td>\n",
              "      <td>2</td>\n",
              "    </tr>\n",
              "    <tr>\n",
              "      <th>241</th>\n",
              "      <td>22.67</td>\n",
              "      <td>2.00</td>\n",
              "      <td>Male</td>\n",
              "      <td>Yes</td>\n",
              "      <td>Sat</td>\n",
              "      <td>Dinner</td>\n",
              "      <td>2</td>\n",
              "    </tr>\n",
              "    <tr>\n",
              "      <th>242</th>\n",
              "      <td>17.82</td>\n",
              "      <td>1.75</td>\n",
              "      <td>Male</td>\n",
              "      <td>No</td>\n",
              "      <td>Sat</td>\n",
              "      <td>Dinner</td>\n",
              "      <td>2</td>\n",
              "    </tr>\n",
              "    <tr>\n",
              "      <th>243</th>\n",
              "      <td>18.78</td>\n",
              "      <td>3.00</td>\n",
              "      <td>Female</td>\n",
              "      <td>No</td>\n",
              "      <td>Thur</td>\n",
              "      <td>Dinner</td>\n",
              "      <td>2</td>\n",
              "    </tr>\n",
              "  </tbody>\n",
              "</table>\n",
              "<p>244 rows × 7 columns</p>\n",
              "</div>\n",
              "      <button class=\"colab-df-convert\" onclick=\"convertToInteractive('df-b5471774-bab7-4e9d-b958-29ce5407867a')\"\n",
              "              title=\"Convert this dataframe to an interactive table.\"\n",
              "              style=\"display:none;\">\n",
              "        \n",
              "  <svg xmlns=\"http://www.w3.org/2000/svg\" height=\"24px\"viewBox=\"0 0 24 24\"\n",
              "       width=\"24px\">\n",
              "    <path d=\"M0 0h24v24H0V0z\" fill=\"none\"/>\n",
              "    <path d=\"M18.56 5.44l.94 2.06.94-2.06 2.06-.94-2.06-.94-.94-2.06-.94 2.06-2.06.94zm-11 1L8.5 8.5l.94-2.06 2.06-.94-2.06-.94L8.5 2.5l-.94 2.06-2.06.94zm10 10l.94 2.06.94-2.06 2.06-.94-2.06-.94-.94-2.06-.94 2.06-2.06.94z\"/><path d=\"M17.41 7.96l-1.37-1.37c-.4-.4-.92-.59-1.43-.59-.52 0-1.04.2-1.43.59L10.3 9.45l-7.72 7.72c-.78.78-.78 2.05 0 2.83L4 21.41c.39.39.9.59 1.41.59.51 0 1.02-.2 1.41-.59l7.78-7.78 2.81-2.81c.8-.78.8-2.07 0-2.86zM5.41 20L4 18.59l7.72-7.72 1.47 1.35L5.41 20z\"/>\n",
              "  </svg>\n",
              "      </button>\n",
              "      \n",
              "  <style>\n",
              "    .colab-df-container {\n",
              "      display:flex;\n",
              "      flex-wrap:wrap;\n",
              "      gap: 12px;\n",
              "    }\n",
              "\n",
              "    .colab-df-convert {\n",
              "      background-color: #E8F0FE;\n",
              "      border: none;\n",
              "      border-radius: 50%;\n",
              "      cursor: pointer;\n",
              "      display: none;\n",
              "      fill: #1967D2;\n",
              "      height: 32px;\n",
              "      padding: 0 0 0 0;\n",
              "      width: 32px;\n",
              "    }\n",
              "\n",
              "    .colab-df-convert:hover {\n",
              "      background-color: #E2EBFA;\n",
              "      box-shadow: 0px 1px 2px rgba(60, 64, 67, 0.3), 0px 1px 3px 1px rgba(60, 64, 67, 0.15);\n",
              "      fill: #174EA6;\n",
              "    }\n",
              "\n",
              "    [theme=dark] .colab-df-convert {\n",
              "      background-color: #3B4455;\n",
              "      fill: #D2E3FC;\n",
              "    }\n",
              "\n",
              "    [theme=dark] .colab-df-convert:hover {\n",
              "      background-color: #434B5C;\n",
              "      box-shadow: 0px 1px 3px 1px rgba(0, 0, 0, 0.15);\n",
              "      filter: drop-shadow(0px 1px 2px rgba(0, 0, 0, 0.3));\n",
              "      fill: #FFFFFF;\n",
              "    }\n",
              "  </style>\n",
              "\n",
              "      <script>\n",
              "        const buttonEl =\n",
              "          document.querySelector('#df-b5471774-bab7-4e9d-b958-29ce5407867a button.colab-df-convert');\n",
              "        buttonEl.style.display =\n",
              "          google.colab.kernel.accessAllowed ? 'block' : 'none';\n",
              "\n",
              "        async function convertToInteractive(key) {\n",
              "          const element = document.querySelector('#df-b5471774-bab7-4e9d-b958-29ce5407867a');\n",
              "          const dataTable =\n",
              "            await google.colab.kernel.invokeFunction('convertToInteractive',\n",
              "                                                     [key], {});\n",
              "          if (!dataTable) return;\n",
              "\n",
              "          const docLinkHtml = 'Like what you see? Visit the ' +\n",
              "            '<a target=\"_blank\" href=https://colab.research.google.com/notebooks/data_table.ipynb>data table notebook</a>'\n",
              "            + ' to learn more about interactive tables.';\n",
              "          element.innerHTML = '';\n",
              "          dataTable['output_type'] = 'display_data';\n",
              "          await google.colab.output.renderOutput(dataTable, element);\n",
              "          const docLink = document.createElement('div');\n",
              "          docLink.innerHTML = docLinkHtml;\n",
              "          element.appendChild(docLink);\n",
              "        }\n",
              "      </script>\n",
              "    </div>\n",
              "  </div>\n",
              "  "
            ]
          },
          "metadata": {},
          "execution_count": 61
        }
      ]
    },
    {
      "cell_type": "code",
      "metadata": {
        "id": "kwt0xVEP5Chj",
        "colab": {
          "base_uri": "https://localhost:8080/",
          "height": 0
        },
        "outputId": "f9d281b3-e200-4b62-d1d0-e33c8899fe50"
      },
      "source": [
        "_ = sns.boxplot(x='day', y='total_bill', hue='smoker', data=tips)"
      ],
      "execution_count": 62,
      "outputs": [
        {
          "output_type": "display_data",
          "data": {
            "text/plain": [
              "<Figure size 432x288 with 1 Axes>"
            ],
            "image/png": "[encoded data removed]"
          },
          "metadata": {}
        }
      ]
    },
    {
      "cell_type": "markdown",
      "metadata": {
        "id": "quNYihVQ5Chk"
      },
      "source": [
        "### Measures of Dispersion"
      ]
    },
    {
      "cell_type": "markdown",
      "metadata": {
        "id": "MKaq4xJ25Chk"
      },
      "source": [
        "IQR is a relatively rare measure of the dispersion of values around the center of a distribution. The most widely-used are: \n",
        "\n",
        "* Variance,\n",
        "* Standard deviation, and\n",
        "* Standard error. "
      ]
    },
    {
      "cell_type": "markdown",
      "metadata": {
        "id": "Ti6GdZeZ5Chk"
      },
      "source": [
        "**Variance** (denoted with $\\sigma^2$) can be written using expected-value notation, but it's easier to understand without it: \n",
        "$$ \\sigma^2 = \\frac{\\sum_{i=1}^n (x_i-\\bar{x})^2}{n} $$"
      ]
    },
    {
      "cell_type": "markdown",
      "metadata": {
        "id": "B1lo6mxN5Chk"
      },
      "source": [
        "(The astute follower of the *Machine Learning Foundations* series may notice that this formula is the same as mean-squared-error cost, except $x_i$ is being compared to the mean $\\mu$ instead of a predicted value $\\hat{x}_i$.)"
      ]
    },
    {
      "cell_type": "markdown",
      "metadata": {
        "id": "wiOq636c5Chk"
      },
      "source": [
        "(Technically speaking, we should divide by $n$-1 with a sample of data, but with the large datasets typical of machine learning, it's a negligible difference. If $n$ were equal to a small number like 8 then it would matter.)"
      ]
    },
    {
      "cell_type": "markdown",
      "metadata": {
        "id": "pD27D-0g5Chk"
      },
      "source": [
        "(Also technically speaking, the variance of a sample is typically denoted with $s^2$ as opposed to the Greek $\\sigma^2$, akin to how $\\bar{x}$ denotes the mean of a sample while the Greek $\\mu$ is reserved for population mean.)"
      ]
    },
    {
      "cell_type": "markdown",
      "metadata": {
        "id": "4G-ogAFP5Chk"
      },
      "source": [
        "As an example let's calculate the variance of the PDF `x` from earlier: "
      ]
    },
    {
      "cell_type": "code",
      "metadata": {
        "id": "AGO5TXzt5Chk",
        "colab": {
          "base_uri": "https://localhost:8080/"
        },
        "outputId": "367f5a61-db75-40fe-85bd-87299ccc6bfb"
      },
      "source": [
        "xbar = np.mean(x)\n",
        "xbar"
      ],
      "execution_count": 63,
      "outputs": [
        {
          "output_type": "execute_result",
          "data": {
            "text/plain": [
              "0.8219573880882259"
            ]
          },
          "metadata": {},
          "execution_count": 63
        }
      ]
    },
    {
      "cell_type": "code",
      "metadata": {
        "id": "u-fEygHR5Chl"
      },
      "source": [
        "squared_differences = [(x_i - xbar)**2 for x_i in x]"
      ],
      "execution_count": 64,
      "outputs": []
    },
    {
      "cell_type": "code",
      "metadata": {
        "id": "qdvZ5_fg5Chl",
        "colab": {
          "base_uri": "https://localhost:8080/"
        },
        "outputId": "d806aaa1-07fb-4e5a-c34e-d64e08ce183a"
      },
      "source": [
        "squared_differences[0:10]"
      ],
      "execution_count": 65,
      "outputs": [
        {
          "output_type": "execute_result",
          "data": {
            "text/plain": [
              "[0.9856434536454379,\n",
              " 0.9170226052916489,\n",
              " 0.8965181282231266,\n",
              " 0.8883307031718269,\n",
              " 0.8733501430824243,\n",
              " 0.8562478309191935,\n",
              " 0.8319771034452769,\n",
              " 0.8310929040089835,\n",
              " 0.7863402041234238,\n",
              " 0.7766155393407362]"
            ]
          },
          "metadata": {},
          "execution_count": 65
        }
      ]
    },
    {
      "cell_type": "code",
      "metadata": {
        "id": "jduq8CVv5Chl",
        "colab": {
          "base_uri": "https://localhost:8080/"
        },
        "outputId": "4501df61-bbdb-4d9a-f132-c6fa84fb9220"
      },
      "source": [
        "sigma_squared = sum(squared_differences)/len(x)\n",
        "sigma_squared"
      ],
      "execution_count": 66,
      "outputs": [
        {
          "output_type": "execute_result",
          "data": {
            "text/plain": [
              "0.39813585982250543"
            ]
          },
          "metadata": {},
          "execution_count": 66
        }
      ]
    },
    {
      "cell_type": "markdown",
      "metadata": {
        "id": "mnZoMJAj5Chl"
      },
      "source": [
        "Of course there's a built-in NumPy method: "
      ]
    },
    {
      "cell_type": "code",
      "metadata": {
        "id": "pIci-1It5Chl",
        "colab": {
          "base_uri": "https://localhost:8080/"
        },
        "outputId": "e86df4d3-47e2-460e-e64d-ae662eda8aff"
      },
      "source": [
        "np.var(x)"
      ],
      "execution_count": 67,
      "outputs": [
        {
          "output_type": "execute_result",
          "data": {
            "text/plain": [
              "0.3981358598225057"
            ]
          },
          "metadata": {},
          "execution_count": 67
        }
      ]
    },
    {
      "cell_type": "markdown",
      "metadata": {
        "id": "TChK1Qii5Chl"
      },
      "source": [
        "#### Standard Deviation"
      ]
    },
    {
      "cell_type": "markdown",
      "metadata": {
        "id": "Ei-js4cF5Chm"
      },
      "source": [
        "A straightforward derivative of variance is **standard deviation** (denoted with $\\sigma$), which is convenient because its units are on the same scale as the values in the distribution: \n",
        "$$ \\sigma = \\sqrt{\\sigma^2} $$"
      ]
    },
    {
      "cell_type": "code",
      "metadata": {
        "id": "ginsMxgi5Chm",
        "colab": {
          "base_uri": "https://localhost:8080/"
        },
        "outputId": "cbb90697-f761-4430-91dd-bf6d305fc57b"
      },
      "source": [
        "sigma = sigma_squared**(1/2)\n",
        "sigma"
      ],
      "execution_count": 68,
      "outputs": [
        {
          "output_type": "execute_result",
          "data": {
            "text/plain": [
              "0.6309800787841923"
            ]
          },
          "metadata": {},
          "execution_count": 68
        }
      ]
    },
    {
      "cell_type": "code",
      "metadata": {
        "id": "mT0pi9Qx5Chm",
        "colab": {
          "base_uri": "https://localhost:8080/"
        },
        "outputId": "4560e541-2537-4c35-f9ff-17e384c2d2ba"
      },
      "source": [
        "np.std(x)"
      ],
      "execution_count": 69,
      "outputs": [
        {
          "output_type": "execute_result",
          "data": {
            "text/plain": [
              "0.6309800787841925"
            ]
          },
          "metadata": {},
          "execution_count": 69
        }
      ]
    },
    {
      "cell_type": "code",
      "metadata": {
        "id": "k7a_hKT75Chm",
        "colab": {
          "base_uri": "https://localhost:8080/",
          "height": 0
        },
        "outputId": "1280c67d-9818-45f8-a4a6-07ca6d6d4d55"
      },
      "source": [
        "fig, ax = plt.subplots()\n",
        "plt.axvline(x = xbar, color='orange')\n",
        "plt.axvline(x = xbar+sigma, color='olivedrab')\n",
        "plt.axvline(x = xbar-sigma, color='olivedrab')\n",
        "_ = plt.hist(x, color = 'lightgray')"
      ],
      "execution_count": 70,
      "outputs": [
        {
          "output_type": "display_data",
          "data": {
            "text/plain": [
              "<Figure size 432x288 with 1 Axes>"
            ],
            "image/png": "[encoded data removed]"
          },
          "metadata": {}
        }
      ]
    },
    {
      "cell_type": "markdown",
      "metadata": {
        "id": "TghPdBIE5Chm"
      },
      "source": [
        "#### Standard Error"
      ]
    },
    {
      "cell_type": "markdown",
      "metadata": {
        "id": "vuIykMWN5Chm"
      },
      "source": [
        "A further derivation of standard deviation is **standard error**, which is denoted with $\\sigma_\\bar{x}$:\n",
        "$$ \\sigma_\\bar{x} = \\frac{\\sigma}{\\sqrt{n}} $$"
      ]
    },
    {
      "cell_type": "code",
      "metadata": {
        "id": "6C2xB1UU5Chn",
        "colab": {
          "base_uri": "https://localhost:8080/"
        },
        "outputId": "7ba71331-7221-4685-d1b5-770dd1032064"
      },
      "source": [
        "sigma/(len(x))**(1/2)"
      ],
      "execution_count": 71,
      "outputs": [
        {
          "output_type": "execute_result",
          "data": {
            "text/plain": [
              "0.019953342071505353"
            ]
          },
          "metadata": {},
          "execution_count": 71
        }
      ]
    },
    {
      "cell_type": "code",
      "metadata": {
        "id": "Itaub6WD5Chn",
        "colab": {
          "base_uri": "https://localhost:8080/"
        },
        "outputId": "8aa80640-7752-48bb-e7bc-5f7a3f908667"
      },
      "source": [
        "st.sem(x) # defaults to 1 degree of freedom (n-1), which can be ignored with the larger data sets of ML"
      ],
      "execution_count": 72,
      "outputs": [
        {
          "output_type": "execute_result",
          "data": {
            "text/plain": [
              "0.01996332623128527"
            ]
          },
          "metadata": {},
          "execution_count": 72
        }
      ]
    },
    {
      "cell_type": "code",
      "metadata": {
        "id": "YAjsX8WB5Chn",
        "colab": {
          "base_uri": "https://localhost:8080/"
        },
        "outputId": "f6611684-66ae-4140-ccf7-0aac92d1eece"
      },
      "source": [
        "st.sem(x, ddof=0) # 0 degrees of freedom (n)"
      ],
      "execution_count": 73,
      "outputs": [
        {
          "output_type": "execute_result",
          "data": {
            "text/plain": [
              "0.01995334207150536"
            ]
          },
          "metadata": {},
          "execution_count": 73
        }
      ]
    },
    {
      "cell_type": "markdown",
      "metadata": {
        "id": "MuPQwbJn5Chn"
      },
      "source": [
        "Standard error enables us to compare whether the means of two distributions differ *significantly*, a focus of *Intro to Stats*."
      ]
    },
    {
      "cell_type": "markdown",
      "metadata": {
        "id": "XwRxQf9E5Chn"
      },
      "source": [
        "### Measures of Relatedness"
      ]
    },
    {
      "cell_type": "markdown",
      "metadata": {
        "id": "ttvO-Q_B5Chn"
      },
      "source": [
        "If we have two vectors of the same length, $x$ and $y$, where each element of $x$ is paired with the corresponding element of $y$, **covariance** provides a measure of how related the variables are to each other:\n",
        "$$ \\text{cov}(x, y) = \\frac{\\sum_{i=1}^n (x_i - \\bar{x})(y_i - \\bar{y}) }{n} $$"
      ]
    },
    {
      "cell_type": "code",
      "metadata": {
        "id": "oP01sWnf5Cho",
        "colab": {
          "base_uri": "https://localhost:8080/",
          "height": 0
        },
        "outputId": "5ee9566e-57d0-4981-9d58-fe8279742196"
      },
      "source": [
        "iris"
      ],
      "execution_count": 74,
      "outputs": [
        {
          "output_type": "execute_result",
          "data": {
            "text/plain": [
              "     sepal_length  sepal_width  petal_length  petal_width    species\n",
              "0             5.1          3.5           1.4          0.2     setosa\n",
              "1             4.9          3.0           1.4          0.2     setosa\n",
              "2             4.7          3.2           1.3          0.2     setosa\n",
              "3             4.6          3.1           1.5          0.2     setosa\n",
              "4             5.0          3.6           1.4          0.2     setosa\n",
              "..            ...          ...           ...          ...        ...\n",
              "145           6.7          3.0           5.2          2.3  virginica\n",
              "146           6.3          2.5           5.0          1.9  virginica\n",
              "147           6.5          3.0           5.2          2.0  virginica\n",
              "148           6.2          3.4           5.4          2.3  virginica\n",
              "149           5.9          3.0           5.1          1.8  virginica\n",
              "\n",
              "[150 rows x 5 columns]"
            ],
            "text/html": [
              "\n",
              "  <div id=\"df-866aa8d0-7739-485e-9bd5-4b3d9f00f919\">\n",
              "    <div class=\"colab-df-container\">\n",
              "      <div>\n",
              "<style scoped>\n",
              "    .dataframe tbody tr th:only-of-type {\n",
              "        vertical-align: middle;\n",
              "    }\n",
              "\n",
              "    .dataframe tbody tr th {\n",
              "        vertical-align: top;\n",
              "    }\n",
              "\n",
              "    .dataframe thead th {\n",
              "        text-align: right;\n",
              "    }\n",
              "</style>\n",
              "<table border=\"1\" class=\"dataframe\">\n",
              "  <thead>\n",
              "    <tr style=\"text-align: right;\">\n",
              "      <th></th>\n",
              "      <th>sepal_length</th>\n",
              "      <th>sepal_width</th>\n",
              "      <th>petal_length</th>\n",
              "      <th>petal_width</th>\n",
              "      <th>species</th>\n",
              "    </tr>\n",
              "  </thead>\n",
              "  <tbody>\n",
              "    <tr>\n",
              "      <th>0</th>\n",
              "      <td>5.1</td>\n",
              "      <td>3.5</td>\n",
              "      <td>1.4</td>\n",
              "      <td>0.2</td>\n",
              "      <td>setosa</td>\n",
              "    </tr>\n",
              "    <tr>\n",
              "      <th>1</th>\n",
              "      <td>4.9</td>\n",
              "      <td>3.0</td>\n",
              "      <td>1.4</td>\n",
              "      <td>0.2</td>\n",
              "      <td>setosa</td>\n",
              "    </tr>\n",
              "    <tr>\n",
              "      <th>2</th>\n",
              "      <td>4.7</td>\n",
              "      <td>3.2</td>\n",
              "      <td>1.3</td>\n",
              "      <td>0.2</td>\n",
              "      <td>setosa</td>\n",
              "    </tr>\n",
              "    <tr>\n",
              "      <th>3</th>\n",
              "      <td>4.6</td>\n",
              "      <td>3.1</td>\n",
              "      <td>1.5</td>\n",
              "      <td>0.2</td>\n",
              "      <td>setosa</td>\n",
              "    </tr>\n",
              "    <tr>\n",
              "      <th>4</th>\n",
              "      <td>5.0</td>\n",
              "      <td>3.6</td>\n",
              "      <td>1.4</td>\n",
              "      <td>0.2</td>\n",
              "      <td>setosa</td>\n",
              "    </tr>\n",
              "    <tr>\n",
              "      <th>...</th>\n",
              "      <td>...</td>\n",
              "      <td>...</td>\n",
              "      <td>...</td>\n",
              "      <td>...</td>\n",
              "      <td>...</td>\n",
              "    </tr>\n",
              "    <tr>\n",
              "      <th>145</th>\n",
              "      <td>6.7</td>\n",
              "      <td>3.0</td>\n",
              "      <td>5.2</td>\n",
              "      <td>2.3</td>\n",
              "      <td>virginica</td>\n",
              "    </tr>\n",
              "    <tr>\n",
              "      <th>146</th>\n",
              "      <td>6.3</td>\n",
              "      <td>2.5</td>\n",
              "      <td>5.0</td>\n",
              "      <td>1.9</td>\n",
              "      <td>virginica</td>\n",
              "    </tr>\n",
              "    <tr>\n",
              "      <th>147</th>\n",
              "      <td>6.5</td>\n",
              "      <td>3.0</td>\n",
              "      <td>5.2</td>\n",
              "      <td>2.0</td>\n",
              "      <td>virginica</td>\n",
              "    </tr>\n",
              "    <tr>\n",
              "      <th>148</th>\n",
              "      <td>6.2</td>\n",
              "      <td>3.4</td>\n",
              "      <td>5.4</td>\n",
              "      <td>2.3</td>\n",
              "      <td>virginica</td>\n",
              "    </tr>\n",
              "    <tr>\n",
              "      <th>149</th>\n",
              "      <td>5.9</td>\n",
              "      <td>3.0</td>\n",
              "      <td>5.1</td>\n",
              "      <td>1.8</td>\n",
              "      <td>virginica</td>\n",
              "    </tr>\n",
              "  </tbody>\n",
              "</table>\n",
              "<p>150 rows × 5 columns</p>\n",
              "</div>\n",
              "      <button class=\"colab-df-convert\" onclick=\"convertToInteractive('df-866aa8d0-7739-485e-9bd5-4b3d9f00f919')\"\n",
              "              title=\"Convert this dataframe to an interactive table.\"\n",
              "              style=\"display:none;\">\n",
              "        \n",
              "  <svg xmlns=\"http://www.w3.org/2000/svg\" height=\"24px\"viewBox=\"0 0 24 24\"\n",
              "       width=\"24px\">\n",
              "    <path d=\"M0 0h24v24H0V0z\" fill=\"none\"/>\n",
              "    <path d=\"M18.56 5.44l.94 2.06.94-2.06 2.06-.94-2.06-.94-.94-2.06-.94 2.06-2.06.94zm-11 1L8.5 8.5l.94-2.06 2.06-.94-2.06-.94L8.5 2.5l-.94 2.06-2.06.94zm10 10l.94 2.06.94-2.06 2.06-.94-2.06-.94-.94-2.06-.94 2.06-2.06.94z\"/><path d=\"M17.41 7.96l-1.37-1.37c-.4-.4-.92-.59-1.43-.59-.52 0-1.04.2-1.43.59L10.3 9.45l-7.72 7.72c-.78.78-.78 2.05 0 2.83L4 21.41c.39.39.9.59 1.41.59.51 0 1.02-.2 1.41-.59l7.78-7.78 2.81-2.81c.8-.78.8-2.07 0-2.86zM5.41 20L4 18.59l7.72-7.72 1.47 1.35L5.41 20z\"/>\n",
              "  </svg>\n",
              "      </button>\n",
              "      \n",
              "  <style>\n",
              "    .colab-df-container {\n",
              "      display:flex;\n",
              "      flex-wrap:wrap;\n",
              "      gap: 12px;\n",
              "    }\n",
              "\n",
              "    .colab-df-convert {\n",
              "      background-color: #E8F0FE;\n",
              "      border: none;\n",
              "      border-radius: 50%;\n",
              "      cursor: pointer;\n",
              "      display: none;\n",
              "      fill: #1967D2;\n",
              "      height: 32px;\n",
              "      padding: 0 0 0 0;\n",
              "      width: 32px;\n",
              "    }\n",
              "\n",
              "    .colab-df-convert:hover {\n",
              "      background-color: #E2EBFA;\n",
              "      box-shadow: 0px 1px 2px rgba(60, 64, 67, 0.3), 0px 1px 3px 1px rgba(60, 64, 67, 0.15);\n",
              "      fill: #174EA6;\n",
              "    }\n",
              "\n",
              "    [theme=dark] .colab-df-convert {\n",
              "      background-color: #3B4455;\n",
              "      fill: #D2E3FC;\n",
              "    }\n",
              "\n",
              "    [theme=dark] .colab-df-convert:hover {\n",
              "      background-color: #434B5C;\n",
              "      box-shadow: 0px 1px 3px 1px rgba(0, 0, 0, 0.15);\n",
              "      filter: drop-shadow(0px 1px 2px rgba(0, 0, 0, 0.3));\n",
              "      fill: #FFFFFF;\n",
              "    }\n",
              "  </style>\n",
              "\n",
              "      <script>\n",
              "        const buttonEl =\n",
              "          document.querySelector('#df-866aa8d0-7739-485e-9bd5-4b3d9f00f919 button.colab-df-convert');\n",
              "        buttonEl.style.display =\n",
              "          google.colab.kernel.accessAllowed ? 'block' : 'none';\n",
              "\n",
              "        async function convertToInteractive(key) {\n",
              "          const element = document.querySelector('#df-866aa8d0-7739-485e-9bd5-4b3d9f00f919');\n",
              "          const dataTable =\n",
              "            await google.colab.kernel.invokeFunction('convertToInteractive',\n",
              "                                                     [key], {});\n",
              "          if (!dataTable) return;\n",
              "\n",
              "          const docLinkHtml = 'Like what you see? Visit the ' +\n",
              "            '<a target=\"_blank\" href=https://colab.research.google.com/notebooks/data_table.ipynb>data table notebook</a>'\n",
              "            + ' to learn more about interactive tables.';\n",
              "          element.innerHTML = '';\n",
              "          dataTable['output_type'] = 'display_data';\n",
              "          await google.colab.output.renderOutput(dataTable, element);\n",
              "          const docLink = document.createElement('div');\n",
              "          docLink.innerHTML = docLinkHtml;\n",
              "          element.appendChild(docLink);\n",
              "        }\n",
              "      </script>\n",
              "    </div>\n",
              "  </div>\n",
              "  "
            ]
          },
          "metadata": {},
          "execution_count": 74
        }
      ]
    },
    {
      "cell_type": "code",
      "metadata": {
        "id": "t9rSqTHC5Cho"
      },
      "source": [
        "x = iris.sepal_length\n",
        "y = iris.petal_length"
      ],
      "execution_count": 75,
      "outputs": []
    },
    {
      "cell_type": "code",
      "metadata": {
        "id": "hM-_V5jF5Cho",
        "colab": {
          "base_uri": "https://localhost:8080/",
          "height": 0
        },
        "outputId": "fd6e46d1-6683-4b61-86f7-1a4901c509c1"
      },
      "source": [
        "_ = sns.scatterplot(x=x, y=y)"
      ],
      "execution_count": 76,
      "outputs": [
        {
          "output_type": "display_data",
          "data": {
            "text/plain": [
              "<Figure size 432x288 with 1 Axes>"
            ],
            "image/png": "[encoded data removed]"
          },
          "metadata": {}
        }
      ]
    },
    {
      "cell_type": "code",
      "metadata": {
        "id": "rfOYkAzt5Cho"
      },
      "source": [
        "n = len(x)"
      ],
      "execution_count": 77,
      "outputs": []
    },
    {
      "cell_type": "code",
      "metadata": {
        "id": "-VIXsv3j5Cho"
      },
      "source": [
        "xbar = sum(x)/n\n",
        "ybar = sum(y)/n"
      ],
      "execution_count": 78,
      "outputs": []
    },
    {
      "cell_type": "code",
      "metadata": {
        "id": "15WoxxTH5Cho"
      },
      "source": [
        "product = []\n",
        "for i in range(n):\n",
        "    product.append((x[i]-xbar)*(y[i]-ybar))"
      ],
      "execution_count": 79,
      "outputs": []
    },
    {
      "cell_type": "code",
      "metadata": {
        "id": "gygz20ti5Cho",
        "colab": {
          "base_uri": "https://localhost:8080/"
        },
        "outputId": "3682a178-2bd6-421c-9042-8abd80480527"
      },
      "source": [
        "cov = sum(product)/n\n",
        "cov"
      ],
      "execution_count": 80,
      "outputs": [
        {
          "output_type": "execute_result",
          "data": {
            "text/plain": [
              "1.2658199999999995"
            ]
          },
          "metadata": {},
          "execution_count": 80
        }
      ]
    },
    {
      "cell_type": "markdown",
      "metadata": {
        "id": "YEc4sv0v5Chp"
      },
      "source": [
        "The NumPy `cov()` method returns a **covariance matrix**, which is a $2 \\times 2$ matrix because $x$ and $y$ together describe a two-dimensional space: "
      ]
    },
    {
      "cell_type": "code",
      "metadata": {
        "id": "6n9HymBG5Chp",
        "colab": {
          "base_uri": "https://localhost:8080/"
        },
        "outputId": "5a106bb0-03b1-4f36-8826-c9e157b8f831"
      },
      "source": [
        "np.cov(x, y, ddof=0) # again, defaults to ddof=1"
      ],
      "execution_count": 81,
      "outputs": [
        {
          "output_type": "execute_result",
          "data": {
            "text/plain": [
              "array([[0.68112222, 1.26582   ],\n",
              "       [1.26582   , 3.09550267]])"
            ]
          },
          "metadata": {},
          "execution_count": 81
        }
      ]
    },
    {
      "cell_type": "markdown",
      "metadata": {
        "id": "yBXI9B2-5Chp"
      },
      "source": [
        "The diagonal elements of the covariance matrix represent the variance of $x$ and $y$, respectively: "
      ]
    },
    {
      "cell_type": "code",
      "metadata": {
        "id": "uKhq8mSA5Chp",
        "colab": {
          "base_uri": "https://localhost:8080/"
        },
        "outputId": "11186075-417b-46bd-eddd-e78a70c5bcc2"
      },
      "source": [
        "np.var(x)"
      ],
      "execution_count": 82,
      "outputs": [
        {
          "output_type": "execute_result",
          "data": {
            "text/plain": [
              "0.6811222222222222"
            ]
          },
          "metadata": {},
          "execution_count": 82
        }
      ]
    },
    {
      "cell_type": "code",
      "metadata": {
        "id": "NrtQqVjr5Chp",
        "colab": {
          "base_uri": "https://localhost:8080/"
        },
        "outputId": "97318707-9cc4-47ad-99fd-fccbdec37587"
      },
      "source": [
        "np.var(y)"
      ],
      "execution_count": 83,
      "outputs": [
        {
          "output_type": "execute_result",
          "data": {
            "text/plain": [
              "3.0955026666666674"
            ]
          },
          "metadata": {},
          "execution_count": 83
        }
      ]
    },
    {
      "cell_type": "markdown",
      "metadata": {
        "id": "1y2wfLeD5Chq"
      },
      "source": [
        "If $x$ and $y$ are inversely related, their covariance is negative. The less related they are, the closer their covariance is to zero: "
      ]
    },
    {
      "cell_type": "code",
      "metadata": {
        "id": "epIqQ-p25Chq",
        "colab": {
          "base_uri": "https://localhost:8080/",
          "height": 0
        },
        "outputId": "768406cd-f6f4-4f2d-ed53-c8bf7c909cbd"
      },
      "source": [
        "_ = sns.scatterplot(x=iris.sepal_length, y=iris.sepal_width)"
      ],
      "execution_count": 84,
      "outputs": [
        {
          "output_type": "display_data",
          "data": {
            "text/plain": [
              "<Figure size 432x288 with 1 Axes>"
            ],
            "image/png": "[encoded data removed]"
          },
          "metadata": {}
        }
      ]
    },
    {
      "cell_type": "code",
      "metadata": {
        "id": "QoIKgBHf5Chq",
        "colab": {
          "base_uri": "https://localhost:8080/"
        },
        "outputId": "d194e10c-27c3-4c1b-c725-d924711c4fd6"
      },
      "source": [
        "np.cov(iris.sepal_length, iris.sepal_width, ddof=0)"
      ],
      "execution_count": 85,
      "outputs": [
        {
          "output_type": "execute_result",
          "data": {
            "text/plain": [
              "array([[ 0.68112222, -0.04215111],\n",
              "       [-0.04215111,  0.18871289]])"
            ]
          },
          "metadata": {},
          "execution_count": 85
        }
      ]
    },
    {
      "cell_type": "markdown",
      "metadata": {
        "id": "t7GPaB_m5Chq"
      },
      "source": [
        "#### Correlation"
      ]
    },
    {
      "cell_type": "markdown",
      "metadata": {
        "id": "uFDuVBQE5Chq"
      },
      "source": [
        "A drawback of covariance is that it confounds the relative scale of two variables with a measure of the variables' relatedness. **Correlation** builds on covariance and overcomes this drawback via rescaling, thereby measuring relatedness exclusively. Correlation is much more common because of this difference. \n",
        "\n",
        "The correlation coefficient (developed by Karl Pearson in the 20th c. though known in the 19th c.) is often denoted with $r$ or $\\rho$ and is defined by: \n",
        "$$ \\rho_{x,y} = \\frac{\\text{cov}(x,y)}{\\sigma_x \\sigma_y} $$"
      ]
    },
    {
      "cell_type": "code",
      "metadata": {
        "id": "j2FfBUs_5Chq"
      },
      "source": [
        "cov = -0.04215111\n",
        "sigma_sq_x = 0.68112222\n",
        "sigma_sq_y = 0.18871289"
      ],
      "execution_count": 86,
      "outputs": []
    },
    {
      "cell_type": "code",
      "metadata": {
        "id": "r6fRzR015Chr"
      },
      "source": [
        "sigma_x = sigma_sq_x**(1/2)\n",
        "sigma_y = sigma_sq_y**(1/2)"
      ],
      "execution_count": 87,
      "outputs": []
    },
    {
      "cell_type": "code",
      "metadata": {
        "id": "O3fHMlFY5Chr",
        "colab": {
          "base_uri": "https://localhost:8080/"
        },
        "outputId": "5ec80b5b-4ae4-4d67-9203-1c9f7646e78f"
      },
      "source": [
        "cov / (sigma_x * sigma_y)"
      ],
      "execution_count": 88,
      "outputs": [
        {
          "output_type": "execute_result",
          "data": {
            "text/plain": [
              "-0.11756978087951572"
            ]
          },
          "metadata": {},
          "execution_count": 88
        }
      ]
    },
    {
      "cell_type": "code",
      "metadata": {
        "id": "LYHyhLnC5Chr",
        "colab": {
          "base_uri": "https://localhost:8080/"
        },
        "outputId": "46657183-79de-4b0e-f631-9bbb28575469"
      },
      "source": [
        "st.pearsonr(iris.sepal_length, iris.sepal_width)"
      ],
      "execution_count": 89,
      "outputs": [
        {
          "output_type": "execute_result",
          "data": {
            "text/plain": [
              "(-0.11756978413300206, 0.15189826071144766)"
            ]
          },
          "metadata": {},
          "execution_count": 89
        }
      ]
    },
    {
      "cell_type": "markdown",
      "metadata": {
        "id": "Jp8yMtiM5Chr"
      },
      "source": [
        "The second value output of `pearsonr` is a measure of statistical significance, which we'll detail in *Intro to Stats*. "
      ]
    },
    {
      "cell_type": "markdown",
      "metadata": {
        "id": "J3HRJ9S7klIp"
      },
      "source": [
        "$\\rho$ has a range of -1 to 1, with values closer to zero indicating less correlation: "
      ]
    },
    {
      "cell_type": "code",
      "metadata": {
        "id": "6vF_9wgj5Chr",
        "colab": {
          "base_uri": "https://localhost:8080/"
        },
        "outputId": "a195fafa-b7de-40ad-ac42-9c2015ca438a"
      },
      "source": [
        "st.pearsonr(iris.sepal_length, iris.sepal_width)[0]"
      ],
      "execution_count": 90,
      "outputs": [
        {
          "output_type": "execute_result",
          "data": {
            "text/plain": [
              "-0.11756978413300206"
            ]
          },
          "metadata": {},
          "execution_count": 90
        }
      ]
    },
    {
      "cell_type": "markdown",
      "metadata": {
        "id": "dUIa7O-6lXy8"
      },
      "source": [
        "The closer $\\rho$ is to 1 or -1, the stronger the positive or negative correlation, respectively: "
      ]
    },
    {
      "cell_type": "code",
      "metadata": {
        "id": "d9KqkNOr5Chr",
        "colab": {
          "base_uri": "https://localhost:8080/"
        },
        "outputId": "a88d431f-600d-492a-a0a9-31e62a733b3b"
      },
      "source": [
        "st.pearsonr(iris.sepal_length, iris.petal_length)[0]"
      ],
      "execution_count": 91,
      "outputs": [
        {
          "output_type": "execute_result",
          "data": {
            "text/plain": [
              "0.8717537758865831"
            ]
          },
          "metadata": {},
          "execution_count": 91
        }
      ]
    },
    {
      "cell_type": "markdown",
      "metadata": {
        "id": "negAO_iA5Chs"
      },
      "source": [
        "N.B.: Covariance and correlation only account for linear relationships. Two variables could be non-linearly related to each other and these metrics could come out as zero."
      ]
    },
    {
      "cell_type": "markdown",
      "metadata": {
        "id": "elRFzq495Chs"
      },
      "source": [
        "**Return to slides here.**"
      ]
    },
    {
      "cell_type": "markdown",
      "metadata": {
        "id": "fwp0wDiy5Chs"
      },
      "source": [
        "## Segment 2: Distributions in Machine Learning"
      ]
    },
    {
      "cell_type": "markdown",
      "metadata": {
        "id": "UtNPNOzj5Cht"
      },
      "source": [
        "### Uniform"
      ]
    },
    {
      "cell_type": "markdown",
      "metadata": {
        "id": "mkg5ZlcY5Cht"
      },
      "source": [
        "The uniform distribution is about as straightforward as they come. It has constant probabilities across the entire range of values in its domain: "
      ]
    },
    {
      "cell_type": "code",
      "metadata": {
        "id": "m3kOc_-t5Cht"
      },
      "source": [
        "u = np.random.uniform(size=10000)"
      ],
      "execution_count": 92,
      "outputs": []
    },
    {
      "cell_type": "code",
      "metadata": {
        "id": "Nfqw-vNJ5Cht"
      },
      "source": [
        "sns.set_style('ticks')"
      ],
      "execution_count": 93,
      "outputs": []
    },
    {
      "cell_type": "code",
      "metadata": {
        "id": "yFF75RyzQCTu",
        "colab": {
          "base_uri": "https://localhost:8080/",
          "height": 0
        },
        "outputId": "7832b245-e4c4-4c98-d3d5-e0ab2d3d9de9"
      },
      "source": [
        "_ = sns.displot(u)"
      ],
      "execution_count": 94,
      "outputs": [
        {
          "output_type": "display_data",
          "data": {
            "text/plain": [
              "<Figure size 360x360 with 1 Axes>"
            ],
            "image/png": "[encoded data removed]"
          },
          "metadata": {}
        }
      ]
    },
    {
      "cell_type": "markdown",
      "metadata": {
        "id": "iAccWery5Cht"
      },
      "source": [
        "Real-world examples include: \n",
        "\n",
        "* Dice rolling (PMF)\n",
        "* Card drawing (PMF)\n",
        "* Model hyperparameters\n",
        "* Emission of radioactive particles\n",
        "* Economic demand \n",
        "* Analog-to-digital signal quantization errors"
      ]
    },
    {
      "cell_type": "markdown",
      "metadata": {
        "id": "q0cQIl945Cht"
      },
      "source": [
        "### Gaussian"
      ]
    },
    {
      "cell_type": "markdown",
      "metadata": {
        "id": "-rW0khrV5Cht"
      },
      "source": [
        "Carl Friedrich Gauss (early 19th c. German mathematician and scientist) is the namesake of over a hundred concepts across mathematics, physics, and astronomy. One of those concepts is the Gaussian distribution, also known as the \"bell curve\" (though several distributions are bell-shaped) or **normal distribution**: "
      ]
    },
    {
      "cell_type": "code",
      "metadata": {
        "id": "zhcadaJu5Chu"
      },
      "source": [
        "x = np.random.normal(size=10000)"
      ],
      "execution_count": 95,
      "outputs": []
    },
    {
      "cell_type": "code",
      "metadata": {
        "id": "1cQ6-LIw5Chu",
        "colab": {
          "base_uri": "https://localhost:8080/",
          "height": 0
        },
        "outputId": "d284c154-ba0e-4c36-9b87-d5353e7ce8a9"
      },
      "source": [
        "_ = sns.displot(x)"
      ],
      "execution_count": 96,
      "outputs": [
        {
          "output_type": "display_data",
          "data": {
            "text/plain": [
              "<Figure size 360x360 with 1 Axes>"
            ],
            "image/png": "[encoded data removed]"
          },
          "metadata": {}
        }
      ]
    },
    {
      "cell_type": "code",
      "metadata": {
        "id": "sFpUGuMX5Chu",
        "colab": {
          "base_uri": "https://localhost:8080/",
          "height": 0
        },
        "outputId": "ca95419f-1f4c-47c2-9a3b-27657cc2cd43"
      },
      "source": [
        "_ = sns.displot(x, kde=True)"
      ],
      "execution_count": 97,
      "outputs": [
        {
          "output_type": "display_data",
          "data": {
            "text/plain": [
              "<Figure size 360x360 with 1 Axes>"
            ],
            "image/png": "[encoded data removed]"
          },
          "metadata": {}
        }
      ]
    },
    {
      "cell_type": "markdown",
      "metadata": {
        "id": "fCrRRX1F5Chu"
      },
      "source": [
        "When the normal distribution has a mean ($\\mu$) of zero and standard deviation ($\\sigma$) of one, as it does by default with the NumPy `normal()` method..."
      ]
    },
    {
      "cell_type": "code",
      "metadata": {
        "id": "DMa4Z2h35Chu",
        "colab": {
          "base_uri": "https://localhost:8080/"
        },
        "outputId": "d464e02b-27a1-41ae-c998-66dd874a00d2"
      },
      "source": [
        "np.mean(x)"
      ],
      "execution_count": 98,
      "outputs": [
        {
          "output_type": "execute_result",
          "data": {
            "text/plain": [
              "0.010746657894433886"
            ]
          },
          "metadata": {},
          "execution_count": 98
        }
      ]
    },
    {
      "cell_type": "code",
      "metadata": {
        "scrolled": true,
        "id": "k8QSIvEJ5Chu",
        "colab": {
          "base_uri": "https://localhost:8080/"
        },
        "outputId": "77b47571-090a-48b1-94d4-afb3e292941d"
      },
      "source": [
        "np.std(x)"
      ],
      "execution_count": 99,
      "outputs": [
        {
          "output_type": "execute_result",
          "data": {
            "text/plain": [
              "1.006376502514602"
            ]
          },
          "metadata": {},
          "execution_count": 99
        }
      ]
    },
    {
      "cell_type": "markdown",
      "metadata": {
        "id": "iD-WgAZd5Chv"
      },
      "source": [
        "...it is a **standard normal distribution** (a.k.a., standard Gaussian distribution). Normal distributions can be denoted with the *math calligraphy* font as $\\mathcal{N}(\\mu, \\sigma^2)$, thus the standard normal distribution can be denoted as $\\mathcal{N}(0, 1)$. \n",
        "\n",
        "(N.B.: $\\sigma^2 = \\sigma$ in this case because $1^2 = 1$.)"
      ]
    },
    {
      "cell_type": "markdown",
      "metadata": {
        "id": "3FelqdY05Chv"
      },
      "source": [
        "Normal distributions are by far the most common distribution in statistics and machine learning. They are typically the default option, particularly if you have limited information about the random process you're modeling, because: \n",
        "\n",
        "1. Normal distributions assume the greatest possible uncertainty about the random variable they represent (relative to any other distribution of equivalent variance). Details of this are beyond the scope of this tutorial. \n",
        "2. Simple and very complex random processes alike are, under all common conditions, normally distributed when we sample values from the process. Since we sample data for statistical and machine learning models alike, this so-called **central limit theorem** (covered next) is a critically important concept. "
      ]
    },
    {
      "cell_type": "markdown",
      "metadata": {
        "id": "WE8R8Y385Chv"
      },
      "source": [
        "Real-world examples include: \n",
        "\n",
        "* Probability of heads across *n* tosses (PMF; $n = 5$ earlier, $n = 100$ below)\n",
        "* Sum of di(c)e rolls (PMF)\n",
        "* Height of adult women\n",
        "* Height of adult men\n",
        "* Education test scores, e.g., SAT"
      ]
    },
    {
      "cell_type": "code",
      "metadata": {
        "id": "iLylH-4m5Chv"
      },
      "source": [
        "n_experiments = 10000\n",
        "heads_count = [np.random.binomial(100, 0.5) for i in range (n_experiments)]\n",
        "heads, event_count = np.unique(heads_count, return_counts=True)\n",
        "event_proba = event_count/n_experiments"
      ],
      "execution_count": 100,
      "outputs": []
    },
    {
      "cell_type": "code",
      "metadata": {
        "id": "1OAA4vlZ5Chv",
        "colab": {
          "base_uri": "https://localhost:8080/",
          "height": 0
        },
        "outputId": "630c7d28-1e0f-4028-f56e-2a0d3267c11b"
      },
      "source": [
        "plt.bar(heads, event_proba)\n",
        "_ = plt.xlabel('Heads flips (out of 100 tosses)')"
      ],
      "execution_count": 101,
      "outputs": [
        {
          "output_type": "display_data",
          "data": {
            "text/plain": [
              "<Figure size 432x288 with 1 Axes>"
            ],
            "image/png": "[encoded data removed]"
          },
          "metadata": {}
        }
      ]
    },
    {
      "cell_type": "markdown",
      "metadata": {
        "id": "HOY28bQX5Chv"
      },
      "source": [
        "### The Central Limit Theorem"
      ]
    },
    {
      "cell_type": "markdown",
      "metadata": {
        "id": "9UIXSsAh5Chv"
      },
      "source": [
        "To develop a functional understanding of the CLT, let's sample some values from our normal distribution:"
      ]
    },
    {
      "cell_type": "code",
      "metadata": {
        "id": "GJkIY5N75Chw",
        "colab": {
          "base_uri": "https://localhost:8080/"
        },
        "outputId": "ab039c5e-9083-48f1-dfeb-c7b5e6971629"
      },
      "source": [
        "x_sample = np.random.choice(x, size=10, replace=False)\n",
        "x_sample"
      ],
      "execution_count": 102,
      "outputs": [
        {
          "output_type": "execute_result",
          "data": {
            "text/plain": [
              "array([ 0.32659596, -0.93700698,  2.27851732,  1.21587356,  1.35370984,\n",
              "       -0.4057365 ,  0.38816803, -0.55343125, -1.6885922 , -2.33595362])"
            ]
          },
          "metadata": {},
          "execution_count": 102
        }
      ]
    },
    {
      "cell_type": "markdown",
      "metadata": {
        "id": "SrS19VdK5Chw"
      },
      "source": [
        "The mean of a sample isn't always going to be close to zero with such a small sample:"
      ]
    },
    {
      "cell_type": "code",
      "metadata": {
        "id": "2B3kjm-H5Chw",
        "colab": {
          "base_uri": "https://localhost:8080/"
        },
        "outputId": "51bae542-ee5e-4c06-bd28-17830bcd5ca0"
      },
      "source": [
        "np.mean(x_sample)"
      ],
      "execution_count": 103,
      "outputs": [
        {
          "output_type": "execute_result",
          "data": {
            "text/plain": [
              "-0.03578558368006331"
            ]
          },
          "metadata": {},
          "execution_count": 103
        }
      ]
    },
    {
      "cell_type": "markdown",
      "metadata": {
        "id": "nOlR7gor5Chw"
      },
      "source": [
        "Let's define a function for generating **sampling distributions** of the mean of a given input distribution:"
      ]
    },
    {
      "cell_type": "code",
      "metadata": {
        "id": "YiPPxQLF5Chw"
      },
      "source": [
        "def sample_mean_calculator(input_dist, sample_size, n_samples):\n",
        "    sample_means = []\n",
        "    for i in range(n_samples):\n",
        "        sample = np.random.choice(input_dist, size=sample_size, replace=False)\n",
        "        sample_means.append(sample.mean())\n",
        "    return sample_means"
      ],
      "execution_count": 104,
      "outputs": []
    },
    {
      "cell_type": "code",
      "metadata": {
        "id": "0FAWIZvn5Chw",
        "colab": {
          "base_uri": "https://localhost:8080/",
          "height": 0
        },
        "outputId": "800adc78-a094-4d6f-d132-86b1de881e1b"
      },
      "source": [
        "sns.displot(sample_mean_calculator(x, 10, 10), color='green')\n",
        "_ = plt.xlim(-1.5, 1.5)"
      ],
      "execution_count": 105,
      "outputs": [
        {
          "output_type": "display_data",
          "data": {
            "text/plain": [
              "<Figure size 360x360 with 1 Axes>"
            ],
            "image/png": "[encoded data removed]"
          },
          "metadata": {}
        }
      ]
    },
    {
      "cell_type": "markdown",
      "metadata": {
        "id": "5KWmR4HE5Chx"
      },
      "source": [
        "The more samples we take, the more likely that the sampling distribution of the means will be normally distributed: "
      ]
    },
    {
      "cell_type": "code",
      "metadata": {
        "id": "_8ZtuXJu5Chx",
        "colab": {
          "base_uri": "https://localhost:8080/",
          "height": 0
        },
        "outputId": "3f623974-5a47-4a50-c5fd-1204e8fd4f80"
      },
      "source": [
        "sns.displot(sample_mean_calculator(x, 10, 1000), color='green', kde=True)\n",
        "_ = plt.xlim(-1.5, 1.5)"
      ],
      "execution_count": 106,
      "outputs": [
        {
          "output_type": "display_data",
          "data": {
            "text/plain": [
              "<Figure size 360x360 with 1 Axes>"
            ],
            "image/png": "[encoded data removed]"
          },
          "metadata": {}
        }
      ]
    },
    {
      "cell_type": "markdown",
      "metadata": {
        "id": "jgeYnkEz5Chx"
      },
      "source": [
        "The larger the sample, the tighter the sample means will tend to be around the population mean:"
      ]
    },
    {
      "cell_type": "code",
      "metadata": {
        "id": "d1plzceb5Chx",
        "colab": {
          "base_uri": "https://localhost:8080/",
          "height": 0
        },
        "outputId": "61cda73a-ec69-4978-bb14-9eb0f6d6baa4"
      },
      "source": [
        "sns.displot(sample_mean_calculator(x, 100, 1000), color='green', kde=True)\n",
        "_ = plt.xlim(-1.5, 1.5)"
      ],
      "execution_count": 107,
      "outputs": [
        {
          "output_type": "display_data",
          "data": {
            "text/plain": [
              "<Figure size 360x360 with 1 Axes>"
            ],
            "image/png": "[encoded data removed]"
          },
          "metadata": {}
        }
      ]
    },
    {
      "cell_type": "code",
      "metadata": {
        "id": "ITeo-nOc5Chx",
        "colab": {
          "base_uri": "https://localhost:8080/",
          "height": 0
        },
        "outputId": "d7fdb42e-d921-460d-f4d8-be8ec512b817"
      },
      "source": [
        "sns.displot(sample_mean_calculator(x, 1000, 1000), color='green', kde=True)\n",
        "_ = plt.xlim(-1.5, 1.5)"
      ],
      "execution_count": 108,
      "outputs": [
        {
          "output_type": "display_data",
          "data": {
            "text/plain": [
              "<Figure size 360x360 with 1 Axes>"
            ],
            "image/png": "[encoded data removed]"
          },
          "metadata": {}
        }
      ]
    },
    {
      "cell_type": "markdown",
      "metadata": {
        "id": "Jti_SH175Chx"
      },
      "source": [
        "#### Sampling from a skewed distribution"
      ]
    },
    {
      "cell_type": "code",
      "metadata": {
        "id": "T-cjJ4K65Chx"
      },
      "source": [
        "s = st.skewnorm.rvs(10, size=10000)"
      ],
      "execution_count": 109,
      "outputs": []
    },
    {
      "cell_type": "code",
      "metadata": {
        "id": "bYcXrbZ45Chx",
        "colab": {
          "base_uri": "https://localhost:8080/",
          "height": 0
        },
        "outputId": "04af0856-6666-4570-a80c-870d3f161902"
      },
      "source": [
        "_ = sns.displot(s, kde=True)"
      ],
      "execution_count": 110,
      "outputs": [
        {
          "output_type": "display_data",
          "data": {
            "text/plain": [
              "<Figure size 360x360 with 1 Axes>"
            ],
            "image/png": "[encoded data removed]"
          },
          "metadata": {}
        }
      ]
    },
    {
      "cell_type": "code",
      "metadata": {
        "id": "X5asvK2p5Chy",
        "colab": {
          "base_uri": "https://localhost:8080/",
          "height": 0
        },
        "outputId": "0651daa8-b5e0-418d-cd5a-ff96e7cb0c48"
      },
      "source": [
        "_ = sns.displot(sample_mean_calculator(s, 10, 1000), color='green', kde=True)"
      ],
      "execution_count": 111,
      "outputs": [
        {
          "output_type": "display_data",
          "data": {
            "text/plain": [
              "<Figure size 360x360 with 1 Axes>"
            ],
            "image/png": "[encoded data removed]"
          },
          "metadata": {}
        }
      ]
    },
    {
      "cell_type": "code",
      "metadata": {
        "id": "o5-tyS_N5Chy",
        "colab": {
          "base_uri": "https://localhost:8080/",
          "height": 0
        },
        "outputId": "a1a1a4ac-a1db-42e8-989b-67c2f18f1dbb"
      },
      "source": [
        "_ = sns.displot(sample_mean_calculator(s, 1000, 1000), color='green', kde=True)"
      ],
      "execution_count": 112,
      "outputs": [
        {
          "output_type": "display_data",
          "data": {
            "text/plain": [
              "<Figure size 360x360 with 1 Axes>"
            ],
            "image/png": "[encoded data removed]"
          },
          "metadata": {}
        }
      ]
    },
    {
      "cell_type": "markdown",
      "metadata": {
        "id": "VD1FyOP-5Chy"
      },
      "source": [
        "#### Sampling from a multimodal distribution"
      ]
    },
    {
      "cell_type": "code",
      "metadata": {
        "id": "qefz7pqq5Chy"
      },
      "source": [
        "m = np.concatenate((np.random.normal(size=5000), np.random.normal(loc = 4.0, size=5000)))"
      ],
      "execution_count": 113,
      "outputs": []
    },
    {
      "cell_type": "code",
      "metadata": {
        "id": "dUVIgXcq5Chy",
        "colab": {
          "base_uri": "https://localhost:8080/",
          "height": 0
        },
        "outputId": "23c9d418-605f-4823-bf21-86c5030cc936"
      },
      "source": [
        "_ = sns.displot(m, kde=True)"
      ],
      "execution_count": 114,
      "outputs": [
        {
          "output_type": "display_data",
          "data": {
            "text/plain": [
              "<Figure size 360x360 with 1 Axes>"
            ],
            "image/png": "[encoded data removed]"
          },
          "metadata": {}
        }
      ]
    },
    {
      "cell_type": "code",
      "metadata": {
        "id": "RooddaTD5Chy",
        "colab": {
          "base_uri": "https://localhost:8080/",
          "height": 0
        },
        "outputId": "78bd7195-678a-4485-a5d5-a78649793113"
      },
      "source": [
        "_ = sns.displot(sample_mean_calculator(m, 1000, 1000), color='green', kde=True)"
      ],
      "execution_count": 115,
      "outputs": [
        {
          "output_type": "display_data",
          "data": {
            "text/plain": [
              "<Figure size 360x360 with 1 Axes>"
            ],
            "image/png": "[encoded data removed]"
          },
          "metadata": {}
        }
      ]
    },
    {
      "cell_type": "markdown",
      "metadata": {
        "id": "5LjEuVP85Chz"
      },
      "source": [
        "#### Sampling from uniform"
      ]
    },
    {
      "cell_type": "markdown",
      "metadata": {
        "id": "IwjCW3vY5Chz"
      },
      "source": [
        "Even sampling from the highly non-normal uniform distribution, the sampling distribution comes out normal: "
      ]
    },
    {
      "cell_type": "code",
      "metadata": {
        "id": "9yf6jQQW5Chz",
        "colab": {
          "base_uri": "https://localhost:8080/",
          "height": 0
        },
        "outputId": "21a4ec75-0720-4d65-eeeb-bd9fc6524be2"
      },
      "source": [
        "_ = sns.displot(u)"
      ],
      "execution_count": 116,
      "outputs": [
        {
          "output_type": "display_data",
          "data": {
            "text/plain": [
              "<Figure size 360x360 with 1 Axes>"
            ],
            "image/png": "[encoded data removed]"
          },
          "metadata": {}
        }
      ]
    },
    {
      "cell_type": "code",
      "metadata": {
        "id": "AKEuTLxd5Chz",
        "colab": {
          "base_uri": "https://localhost:8080/",
          "height": 0
        },
        "outputId": "e4f4a983-1354-410a-bd22-dc5ed03384d8"
      },
      "source": [
        "_ = sns.displot(sample_mean_calculator(u, 1000, 1000), color='green', kde=True)"
      ],
      "execution_count": 117,
      "outputs": [
        {
          "output_type": "display_data",
          "data": {
            "text/plain": [
              "<Figure size 360x360 with 1 Axes>"
            ],
            "image/png": "[encoded data removed]"
          },
          "metadata": {}
        }
      ]
    },
    {
      "cell_type": "markdown",
      "metadata": {
        "id": "3rU0m--S5Chz"
      },
      "source": [
        "Therefore, with large enough sample sizes, we can assume the sampling distribution of the means will be normally distributed, allowing us to apply statistical and ML models that are configured for normally distributed noise, which is often the default assumption.\n",
        "\n",
        "As an example, the \"*t*-test\" (covered in *Intro to Stats*) allows us to infer whether two samples come from different populations (say, an experimental group that receives a treatment and a control group that receives a placebo). Thanks to the CLT, we can use this test even if we have no idea what the underlying distributions of the populations being tested are, which may be the case more frequently than not. "
      ]
    },
    {
      "cell_type": "markdown",
      "metadata": {
        "id": "UHfmjg3I5Chz"
      },
      "source": [
        "(Despite being associated with such a key concept as the CLT, the name \"normal distribution\" wasn't originally intended to imply that other distributions are \"abnormal\". It's a historical quirk related to Gauss describing orthogonal (technically a.k.a. \"normal\") equations associated with applied uses of the distribution.)"
      ]
    },
    {
      "cell_type": "markdown",
      "metadata": {
        "id": "I7HILoi55Chz"
      },
      "source": [
        "(Finally, you may wonder what the purpose of sampling means is! Well, when we gather data from the real world we are nearly always sampling a subset of all the available data produced by a given random process. And, once we've collected a sample of data, the aspect of it we're often most interested in above all else is its mean.)"
      ]
    },
    {
      "cell_type": "markdown",
      "metadata": {
        "id": "cY6d8KLa5Chz"
      },
      "source": [
        "### Log-Normal Distribution"
      ]
    },
    {
      "cell_type": "markdown",
      "metadata": {
        "id": "JhgvQLTF5Ch0"
      },
      "source": [
        "The natural logarithm of the **log-normal** distribution is normally distributed: "
      ]
    },
    {
      "cell_type": "code",
      "metadata": {
        "id": "nwf4rsyP5Ch0"
      },
      "source": [
        "x = np.random.lognormal(size=10000) # defaults to standard normal mu=0, sigma=1"
      ],
      "execution_count": 118,
      "outputs": []
    },
    {
      "cell_type": "code",
      "metadata": {
        "id": "SwTmkQTu5Ch0",
        "colab": {
          "base_uri": "https://localhost:8080/",
          "height": 0
        },
        "outputId": "09bafaac-725d-4eeb-afec-1a8ad6f3330d"
      },
      "source": [
        "_ = sns.displot(x, kde=True)"
      ],
      "execution_count": 119,
      "outputs": [
        {
          "output_type": "display_data",
          "data": {
            "text/plain": [
              "<Figure size 360x360 with 1 Axes>"
            ],
            "image/png": "[encoded data removed]"
          },
          "metadata": {}
        }
      ]
    },
    {
      "cell_type": "code",
      "metadata": {
        "id": "WPw_gPIY5Ch0",
        "colab": {
          "base_uri": "https://localhost:8080/",
          "height": 0
        },
        "outputId": "f313ba45-0385-4dcf-e689-c78449d6ffb3"
      },
      "source": [
        "_ = sns.displot(np.log(x), color='brown', kde=True)"
      ],
      "execution_count": 120,
      "outputs": [
        {
          "output_type": "display_data",
          "data": {
            "text/plain": [
              "<Figure size 360x360 with 1 Axes>"
            ],
            "image/png": "[encoded data removed]"
          },
          "metadata": {}
        }
      ]
    },
    {
      "cell_type": "markdown",
      "metadata": {
        "id": "DaSbudQP5Ch0"
      },
      "source": [
        "Real-world examples: \n",
        "\n",
        "* Income\n",
        "* Length of comments in online forums\n",
        "* Duration of chess games or Rubik's Cube solves\n",
        "* Size of publicly-available video files \n",
        "* Number of hospitalized cases in an epidemic where public interventions are involved"
      ]
    },
    {
      "cell_type": "markdown",
      "metadata": {
        "id": "pj-m50lH5Ch0"
      },
      "source": [
        "### Exponential Distribution"
      ]
    },
    {
      "cell_type": "markdown",
      "metadata": {
        "id": "oBeXEmHF5Ch0"
      },
      "source": [
        "Relatively squished up against zero and then decreases exponentially toward higher values. Log-normal distribution, in contrast, could take negative values and both increases and decreases."
      ]
    },
    {
      "cell_type": "code",
      "metadata": {
        "id": "tQy3DRwB5Ch0"
      },
      "source": [
        "x = np.random.exponential(scale=4, size=10000) # \"scale\" parameter defaults to one"
      ],
      "execution_count": 121,
      "outputs": []
    },
    {
      "cell_type": "code",
      "metadata": {
        "id": "sTFF5gku5Ch0",
        "colab": {
          "base_uri": "https://localhost:8080/",
          "height": 0
        },
        "outputId": "2e382b46-5b9a-472a-d932-b71ee512b062"
      },
      "source": [
        "_ = sns.displot(x)"
      ],
      "execution_count": 122,
      "outputs": [
        {
          "output_type": "display_data",
          "data": {
            "text/plain": [
              "<Figure size 360x360 with 1 Axes>"
            ],
            "image/png": "[encoded data removed]"
          },
          "metadata": {}
        }
      ]
    },
    {
      "cell_type": "markdown",
      "metadata": {
        "id": "NMC_Fxai5Ch1"
      },
      "source": [
        "Its logarithm has a skewed distribution: "
      ]
    },
    {
      "cell_type": "code",
      "metadata": {
        "id": "dV1cUVv65Ch1",
        "colab": {
          "base_uri": "https://localhost:8080/",
          "height": 0
        },
        "outputId": "5e7df796-0faa-4bca-8f36-bad2ba49a226"
      },
      "source": [
        "_ = sns.displot(np.log(x), color='brown', kde=True)"
      ],
      "execution_count": 123,
      "outputs": [
        {
          "output_type": "display_data",
          "data": {
            "text/plain": [
              "<Figure size 360x360 with 1 Axes>"
            ],
            "image/png": "[encoded data removed]"
          },
          "metadata": {}
        }
      ]
    },
    {
      "cell_type": "markdown",
      "metadata": {
        "id": "5T79UJ9c5Ch1"
      },
      "source": [
        "Real-world examples: \n",
        "\n",
        "* Time between requests to access Wikipedia pages\n",
        "* Used frequently in deep learning"
      ]
    },
    {
      "cell_type": "markdown",
      "metadata": {
        "id": "xwnjFNt25Ch1"
      },
      "source": [
        "### Laplace Distribution"
      ]
    },
    {
      "cell_type": "markdown",
      "metadata": {
        "id": "tpfYwTti5Ch1"
      },
      "source": [
        "Named after Pierre-Simon Laplace, whom we mentioned (and pictured) earlier as a key figure in the development of Bayesian statistics."
      ]
    },
    {
      "cell_type": "code",
      "metadata": {
        "id": "o-sFY5c_5Ch1"
      },
      "source": [
        "x = np.random.laplace(size=10000)"
      ],
      "execution_count": 124,
      "outputs": []
    },
    {
      "cell_type": "markdown",
      "metadata": {
        "id": "IGOrnTD25Ch1"
      },
      "source": [
        "Alternatively referred to as the \"double exponential distribution\":"
      ]
    },
    {
      "cell_type": "code",
      "metadata": {
        "id": "J9xS2v3K5Ch1",
        "colab": {
          "base_uri": "https://localhost:8080/",
          "height": 0
        },
        "outputId": "fc0ee1ee-1517-4faa-d3df-ec90e0ae0338"
      },
      "source": [
        "_ = sns.displot(x, kde=True)"
      ],
      "execution_count": 125,
      "outputs": [
        {
          "output_type": "display_data",
          "data": {
            "text/plain": [
              "<Figure size 360x360 with 1 Axes>"
            ],
            "image/png": "[encoded data removed]"
          },
          "metadata": {}
        }
      ]
    },
    {
      "cell_type": "markdown",
      "metadata": {
        "id": "_Yq0Lj3h5Ch2"
      },
      "source": [
        "In addition to the scale parameter of the exponential function, it has a location parameter that allows it to be centered on any value: "
      ]
    },
    {
      "cell_type": "code",
      "metadata": {
        "id": "HkgA0XMm5Ch2",
        "colab": {
          "base_uri": "https://localhost:8080/",
          "height": 0
        },
        "outputId": "05b90767-3626-4f4e-8ae4-674f11abf043"
      },
      "source": [
        "_ = sns.displot(np.random.laplace(loc=25, size=10000), kde=True)"
      ],
      "execution_count": 126,
      "outputs": [
        {
          "output_type": "display_data",
          "data": {
            "text/plain": [
              "<Figure size 360x360 with 1 Axes>"
            ],
            "image/png": "[encoded data removed]"
          },
          "metadata": {}
        }
      ]
    },
    {
      "cell_type": "markdown",
      "metadata": {
        "id": "KfY4anzI5Ch2"
      },
      "source": [
        "Real-world examples: \n",
        "\n",
        "* Extreme weather events, e.g., maximum rainfall in a day\n",
        "* Many machine learning applications; wherever an acute peak of probability is desired"
      ]
    },
    {
      "cell_type": "markdown",
      "metadata": {
        "id": "9Dvi1l8o5Ch2"
      },
      "source": [
        "### Binomial Distribution"
      ]
    },
    {
      "cell_type": "markdown",
      "metadata": {
        "id": "Yco-2t4s5Ch2"
      },
      "source": [
        "All distributions so far have been for continuous variables (PDFs). This one is discrete (PMF). \n",
        "\n",
        "We've already been using it for coin flips; it's used for binary (0 or 1) outcome. \n",
        "\n",
        "Its parameters are: \n",
        "\n",
        "* *n*: number of trials\n",
        "* *p*: probability of outcome of 1\n",
        "* *size*: number of experiments with *n* trials each"
      ]
    },
    {
      "cell_type": "code",
      "metadata": {
        "id": "LmaDYQm75Ch2"
      },
      "source": [
        "n = 5\n",
        "n_experiments = 1000"
      ],
      "execution_count": 127,
      "outputs": []
    },
    {
      "cell_type": "markdown",
      "metadata": {
        "id": "vfSCVQer5Ch2"
      },
      "source": [
        "#### Fair coin (p = 0.5)"
      ]
    },
    {
      "cell_type": "code",
      "metadata": {
        "id": "YnyWevsS5Ch2"
      },
      "source": [
        "heads_count = np.random.binomial(n, 0.5, n_experiments)\n",
        "heads, event_count = np.unique(heads_count, return_counts=True)\n",
        "event_proba = event_count/n_experiments"
      ],
      "execution_count": 128,
      "outputs": []
    },
    {
      "cell_type": "code",
      "metadata": {
        "id": "5i0myZqv5Ch2",
        "colab": {
          "base_uri": "https://localhost:8080/",
          "height": 0
        },
        "outputId": "cddef694-fb5c-4238-d31a-fbb7d305ae83"
      },
      "source": [
        "plt.bar(heads, event_proba, color='mediumpurple')\n",
        "plt.xlabel('Heads flips (out of 5 tosses)')\n",
        "_ = plt.ylabel('Event probability')"
      ],
      "execution_count": 129,
      "outputs": [
        {
          "output_type": "display_data",
          "data": {
            "text/plain": [
              "<Figure size 432x288 with 1 Axes>"
            ],
            "image/png": "[encoded data removed]"
          },
          "metadata": {}
        }
      ]
    },
    {
      "cell_type": "markdown",
      "metadata": {
        "id": "i5qIJ8-m5Ch3"
      },
      "source": [
        "#### Weighted coin (p = 0.8)"
      ]
    },
    {
      "cell_type": "code",
      "metadata": {
        "id": "eT0s3yiI5Ch3"
      },
      "source": [
        "heads_count = np.random.binomial(n, 0.8, n_experiments)\n",
        "heads, event_count = np.unique(heads_count, return_counts=True)\n",
        "event_proba = event_count/n_experiments"
      ],
      "execution_count": 130,
      "outputs": []
    },
    {
      "cell_type": "code",
      "metadata": {
        "id": "SB2qD95l5Ch3",
        "colab": {
          "base_uri": "https://localhost:8080/",
          "height": 0
        },
        "outputId": "440cb648-14d2-4257-e7da-2235e5d743f4"
      },
      "source": [
        "plt.bar(heads, event_proba, color='mediumpurple')\n",
        "plt.xlabel('Heads flips (out of 5 tosses)')\n",
        "_ = plt.ylabel('Event probability')"
      ],
      "execution_count": 131,
      "outputs": [
        {
          "output_type": "display_data",
          "data": {
            "text/plain": [
              "<Figure size 432x288 with 1 Axes>"
            ],
            "image/png": "[encoded data removed]"
          },
          "metadata": {}
        }
      ]
    },
    {
      "cell_type": "markdown",
      "metadata": {
        "id": "cjCnz1zD5Ch3"
      },
      "source": [
        "Technically, binomial distributions are created by sampling $n>1$ \"Bernoulli trials\". The **Bernoulli** distribution is equivalent to the binomial distribution where $n=1$: "
      ]
    },
    {
      "cell_type": "code",
      "metadata": {
        "id": "9j9WlO9v5Ch3",
        "colab": {
          "base_uri": "https://localhost:8080/"
        },
        "outputId": "6e31e058-53cd-4be5-9295-80a0a7cac225"
      },
      "source": [
        "np.random.binomial(1, 0.5)"
      ],
      "execution_count": 132,
      "outputs": [
        {
          "output_type": "execute_result",
          "data": {
            "text/plain": [
              "1"
            ]
          },
          "metadata": {},
          "execution_count": 132
        }
      ]
    },
    {
      "cell_type": "markdown",
      "metadata": {
        "id": "xuv_176n5Ch3"
      },
      "source": [
        "Real-world examples:\n",
        "\n",
        "* Making it to work on time\n",
        "* Candidate being invited to interview\n",
        "* Epidemiology: probability of death or catching disease"
      ]
    },
    {
      "cell_type": "markdown",
      "metadata": {
        "id": "dXZYgPdw5Ch4"
      },
      "source": [
        "### Multinomial Distribution"
      ]
    },
    {
      "cell_type": "markdown",
      "metadata": {
        "id": "aVhAIJvE5Ch4"
      },
      "source": [
        "Generalization of the binomial distribution to discrete random variables with more than two possible outcomes, e.g., the roll of a die: "
      ]
    },
    {
      "cell_type": "code",
      "metadata": {
        "id": "bvnRByqA5Ch4"
      },
      "source": [
        "n = 1000"
      ],
      "execution_count": 133,
      "outputs": []
    },
    {
      "cell_type": "code",
      "metadata": {
        "id": "tYPHmsMT5Ch4",
        "colab": {
          "base_uri": "https://localhost:8080/"
        },
        "outputId": "91569fbb-8cb7-4fcf-c3dd-cc68821bbd1a"
      },
      "source": [
        "rolls = np.random.multinomial(n, [1/6.]*6)\n",
        "rolls"
      ],
      "execution_count": 134,
      "outputs": [
        {
          "output_type": "execute_result",
          "data": {
            "text/plain": [
              "array([176, 150, 178, 183, 171, 142])"
            ]
          },
          "metadata": {},
          "execution_count": 134
        }
      ]
    },
    {
      "cell_type": "code",
      "metadata": {
        "id": "dB9d5Zo_5Ch4"
      },
      "source": [
        "event_proba = rolls/n"
      ],
      "execution_count": 135,
      "outputs": []
    },
    {
      "cell_type": "code",
      "metadata": {
        "id": "04T9DyGf5Ch4",
        "colab": {
          "base_uri": "https://localhost:8080/",
          "height": 0
        },
        "outputId": "bdeafc1f-706e-44a9-91dd-f0d5ca9ecb5e"
      },
      "source": [
        "plt.bar(range(1, 7), event_proba, color='mediumpurple')\n",
        "plt.xlabel('Die roll')\n",
        "_ = plt.ylabel('Event probability')"
      ],
      "execution_count": 136,
      "outputs": [
        {
          "output_type": "display_data",
          "data": {
            "text/plain": [
              "<Figure size 432x288 with 1 Axes>"
            ],
            "image/png": "[encoded data removed]"
          },
          "metadata": {}
        }
      ]
    },
    {
      "cell_type": "markdown",
      "metadata": {
        "id": "aWl-KRXL5Ch4"
      },
      "source": [
        "As in the binomial case, multinomial distributions are created by sampling $n>1$ multinoulli distributions, where the multinoulli distribution is equivalent to the multinomial distribution when $n=1$: "
      ]
    },
    {
      "cell_type": "code",
      "metadata": {
        "id": "MrwYus375Ch4",
        "colab": {
          "base_uri": "https://localhost:8080/"
        },
        "outputId": "ac085f89-8800-410c-c6aa-fdf21ca12b60"
      },
      "source": [
        "np.random.multinomial(1, [1/6.]*6)"
      ],
      "execution_count": 137,
      "outputs": [
        {
          "output_type": "execute_result",
          "data": {
            "text/plain": [
              "array([0, 0, 0, 0, 1, 0])"
            ]
          },
          "metadata": {},
          "execution_count": 137
        }
      ]
    },
    {
      "cell_type": "markdown",
      "metadata": {
        "id": "Bs2JiMaN5Ch5"
      },
      "source": [
        "Since multinomial distributions can represent any categorical variable (e.g., burger, hot dog, pizza; 52 playing cards; NFL teams), not just integer values, we can't always calculate an expected value."
      ]
    },
    {
      "cell_type": "markdown",
      "metadata": {
        "id": "dKoLXZ5I5Ch5"
      },
      "source": [
        "### Poisson Distribution"
      ]
    },
    {
      "cell_type": "markdown",
      "metadata": {
        "id": "Z3EQEF9u5Ch5"
      },
      "source": [
        "**Poisson** is a third widely-used distribution for discrete random variables and it's the final distribution we'll cover."
      ]
    },
    {
      "cell_type": "markdown",
      "metadata": {
        "id": "C_9PDyAf5Ch5"
      },
      "source": [
        "It's named after French mathematician Simeon Denis Poisson and is used for count data, e.g.: \n",
        "\n",
        "* Number of cars that drive by in a minute\n",
        "* Number of guests at restaurant in an evening\n",
        "* Number of new hires in a month"
      ]
    },
    {
      "cell_type": "markdown",
      "metadata": {
        "id": "CcX5Mtbl5Ch5"
      },
      "source": [
        "First argument to NumPy `poisson()` method is $\\lambda$, which must be greater than zero and guides peak of probability distribution. E.g., sampling from Poisson with $\\lambda=5$ will tend to draw samples near 5."
      ]
    },
    {
      "cell_type": "code",
      "metadata": {
        "id": "zi31GP2P5Ch5"
      },
      "source": [
        "lam=5"
      ],
      "execution_count": 138,
      "outputs": []
    },
    {
      "cell_type": "markdown",
      "metadata": {
        "id": "d45vG8QF5Ch5"
      },
      "source": [
        "Second argument is number of samples to draw: "
      ]
    },
    {
      "cell_type": "code",
      "metadata": {
        "id": "Y3VB3Y1P5Ch5"
      },
      "source": [
        "n=1000"
      ],
      "execution_count": 139,
      "outputs": []
    },
    {
      "cell_type": "code",
      "metadata": {
        "id": "WxtctajF5Ch5"
      },
      "source": [
        "samples = np.random.poisson(lam, n) "
      ],
      "execution_count": 140,
      "outputs": []
    },
    {
      "cell_type": "code",
      "metadata": {
        "id": "2Ayn0Vfb5Ch6",
        "colab": {
          "base_uri": "https://localhost:8080/"
        },
        "outputId": "575dbc9f-d0ea-4c5c-86ae-56eba6af78e8"
      },
      "source": [
        "samples[0:20]"
      ],
      "execution_count": 141,
      "outputs": [
        {
          "output_type": "execute_result",
          "data": {
            "text/plain": [
              "array([4, 3, 2, 2, 6, 6, 6, 5, 5, 3, 6, 4, 5, 6, 3, 6, 7, 6, 5, 4])"
            ]
          },
          "metadata": {},
          "execution_count": 141
        }
      ]
    },
    {
      "cell_type": "code",
      "metadata": {
        "id": "F2ys381P5Ch6"
      },
      "source": [
        "x, x_count = np.unique(samples, return_counts=True)"
      ],
      "execution_count": 142,
      "outputs": []
    },
    {
      "cell_type": "code",
      "metadata": {
        "id": "_JSi8Jtc5Ch6",
        "colab": {
          "base_uri": "https://localhost:8080/"
        },
        "outputId": "901f0c66-3c4b-4f2c-d579-25060e2c1aca"
      },
      "source": [
        "x"
      ],
      "execution_count": 143,
      "outputs": [
        {
          "output_type": "execute_result",
          "data": {
            "text/plain": [
              "array([ 0,  1,  2,  3,  4,  5,  6,  7,  8,  9, 10, 11, 12, 13])"
            ]
          },
          "metadata": {},
          "execution_count": 143
        }
      ]
    },
    {
      "cell_type": "code",
      "metadata": {
        "id": "APZbiuhN5Ch6",
        "colab": {
          "base_uri": "https://localhost:8080/"
        },
        "outputId": "155d6e3a-67a9-4596-be7e-2a9dad9e576c"
      },
      "source": [
        "x_count"
      ],
      "execution_count": 144,
      "outputs": [
        {
          "output_type": "execute_result",
          "data": {
            "text/plain": [
              "array([  6,  43,  82, 146, 166, 162, 141, 132,  54,  33,  20,   8,   5,\n",
              "         2])"
            ]
          },
          "metadata": {},
          "execution_count": 144
        }
      ]
    },
    {
      "cell_type": "code",
      "metadata": {
        "id": "BqXl7-hB5Ch6"
      },
      "source": [
        "Px = x_count/n"
      ],
      "execution_count": 145,
      "outputs": []
    },
    {
      "cell_type": "code",
      "metadata": {
        "id": "mwzYi1QW5Ch7",
        "colab": {
          "base_uri": "https://localhost:8080/",
          "height": 0
        },
        "outputId": "ff75fe4f-1cc4-467b-e07c-c5f6f7d35d20"
      },
      "source": [
        "plt.bar(x, Px, color='mediumpurple')\n",
        "plt.title('PMF of Poisson with lambda = {}'.format(lam))\n",
        "plt.xlabel('x')\n",
        "_ = plt.ylabel('P(x)')"
      ],
      "execution_count": 146,
      "outputs": [
        {
          "output_type": "display_data",
          "data": {
            "text/plain": [
              "<Figure size 432x288 with 1 Axes>"
            ],
            "image/png": "[encoded data removed]"
          },
          "metadata": {}
        }
      ]
    },
    {
      "cell_type": "markdown",
      "metadata": {
        "id": "Ekuyn4Zx5Ch7"
      },
      "source": [
        "### Mixture Distributions"
      ]
    },
    {
      "cell_type": "markdown",
      "metadata": {
        "id": "gHHStGFb5Ch7"
      },
      "source": [
        "Adapted from [Stack Overflow post](https://stackoverflow.com/questions/47759577/creating-a-mixture-of-probability-distributions-for-sampling):"
      ]
    },
    {
      "cell_type": "markdown",
      "metadata": {
        "id": "gD4x2RJu5Ch7"
      },
      "source": [
        "Multinomial distribution (driven by `np.random.choice()`) with probabilities set by `coefficients` array determines which of the three distributions to sample from."
      ]
    },
    {
      "cell_type": "code",
      "metadata": {
        "id": "v4-2kJVr5Ch7",
        "colab": {
          "base_uri": "https://localhost:8080/",
          "height": 0
        },
        "outputId": "96d4bb9f-d7f6-4538-8cf3-f0a3b4014de5"
      },
      "source": [
        "distributions = [\n",
        "    {\"type\": np.random.normal, \"kwargs\": {\"loc\": -3, \"scale\": 2}},\n",
        "    {\"type\": np.random.uniform, \"kwargs\": {\"low\": 4, \"high\": 6}},\n",
        "    {\"type\": np.random.normal, \"kwargs\": {\"loc\": 2, \"scale\": 1}},\n",
        "]\n",
        "\n",
        "coefficients = np.array([0.5, 0.2, 0.3])\n",
        "coefficients /= coefficients.sum()      # in case these did not add up to 1\n",
        "sample_size = 10000\n",
        "\n",
        "num_distr = len(distributions)\n",
        "data = np.zeros((sample_size, num_distr))\n",
        "for idx, distr in enumerate(distributions):\n",
        "    data[:, idx] = distr[\"type\"](size=(sample_size,), **distr[\"kwargs\"])\n",
        "\n",
        "random_idx = np.random.choice(np.arange(num_distr), size=(sample_size,), p=coefficients)\n",
        "sample = data[np.arange(sample_size), random_idx]\n",
        "_ = sns.displot(sample, bins=100, kde=True)"
      ],
      "execution_count": 147,
      "outputs": [
        {
          "output_type": "display_data",
          "data": {
            "text/plain": [
              "<Figure size 360x360 with 1 Axes>"
            ],
            "image/png": "[encoded data removed]"
          },
          "metadata": {}
        }
      ]
    },
    {
      "cell_type": "markdown",
      "metadata": {
        "id": "zctZVQbB5Ch7"
      },
      "source": [
        "**Gaussian mixture model** (GMM) is common type of mixture distribution, wherein all of the component distributions are normal."
      ]
    },
    {
      "cell_type": "markdown",
      "metadata": {
        "id": "Lvje2Own5Ch8"
      },
      "source": [
        "**Return to slides here.**"
      ]
    },
    {
      "cell_type": "markdown",
      "metadata": {
        "id": "tAvcSl185Ch8"
      },
      "source": [
        "## Segment 3: Information Theory"
      ]
    },
    {
      "cell_type": "markdown",
      "metadata": {
        "id": "CIj2L7gD5Ch8"
      },
      "source": [
        "From the slides, the **self-information** formula is: \n",
        "$$ I(x)=-\\text{log}P(x) $$"
      ]
    },
    {
      "cell_type": "code",
      "metadata": {
        "id": "xcm3rorj5Ch8"
      },
      "source": [
        "def self_info(my_p):\n",
        "    return -1*np.log(my_p)"
      ],
      "execution_count": 148,
      "outputs": []
    },
    {
      "cell_type": "code",
      "metadata": {
        "id": "d2PfIyUV5Ch8",
        "colab": {
          "base_uri": "https://localhost:8080/"
        },
        "outputId": "d974f9b1-ea4b-4944-e236-d2d40dd08437"
      },
      "source": [
        "self_info(1)"
      ],
      "execution_count": 149,
      "outputs": [
        {
          "output_type": "execute_result",
          "data": {
            "text/plain": [
              "-0.0"
            ]
          },
          "metadata": {},
          "execution_count": 149
        }
      ]
    },
    {
      "cell_type": "code",
      "metadata": {
        "id": "W8xI5mfL5Ch8",
        "colab": {
          "base_uri": "https://localhost:8080/"
        },
        "outputId": "db33af67-02e0-44e4-dd4f-702148be8bf9"
      },
      "source": [
        "self_info(0.1)"
      ],
      "execution_count": 150,
      "outputs": [
        {
          "output_type": "execute_result",
          "data": {
            "text/plain": [
              "2.3025850929940455"
            ]
          },
          "metadata": {},
          "execution_count": 150
        }
      ]
    },
    {
      "cell_type": "code",
      "metadata": {
        "id": "sF-OyYxq5Ch8",
        "colab": {
          "base_uri": "https://localhost:8080/"
        },
        "outputId": "88397ccb-6684-4f5d-e26f-5e53a2be4e0a"
      },
      "source": [
        "self_info(0.01)"
      ],
      "execution_count": 151,
      "outputs": [
        {
          "output_type": "execute_result",
          "data": {
            "text/plain": [
              "4.605170185988091"
            ]
          },
          "metadata": {},
          "execution_count": 151
        }
      ]
    },
    {
      "cell_type": "code",
      "metadata": {
        "id": "82cIxElx5Ch8",
        "colab": {
          "base_uri": "https://localhost:8080/"
        },
        "outputId": "700be077-6353-4309-ab71-bbfee6deb9e1"
      },
      "source": [
        "self_info(0.5)"
      ],
      "execution_count": 152,
      "outputs": [
        {
          "output_type": "execute_result",
          "data": {
            "text/plain": [
              "0.6931471805599453"
            ]
          },
          "metadata": {},
          "execution_count": 152
        }
      ]
    },
    {
      "cell_type": "code",
      "metadata": {
        "id": "PycwWSm_5Ch9",
        "colab": {
          "base_uri": "https://localhost:8080/"
        },
        "outputId": "9714e9d8-26b3-451c-da65-625515840564"
      },
      "source": [
        "self_info(0.5) + self_info(0.5)"
      ],
      "execution_count": 153,
      "outputs": [
        {
          "output_type": "execute_result",
          "data": {
            "text/plain": [
              "1.3862943611198906"
            ]
          },
          "metadata": {},
          "execution_count": 153
        }
      ]
    },
    {
      "cell_type": "markdown",
      "metadata": {
        "id": "xRSf8Q7M5Ch9"
      },
      "source": [
        "Depending on what logarithm base we use, the units of self-information vary. Most frequently, the units are either:\n",
        "\n",
        "* **nats**: \n",
        "    * Natural logarithm, as above with `np.log()` \n",
        "    * Typical in ML\n",
        "* **bits**: \n",
        "    * Base-2 logarithm\n",
        "    * A.k.a. **shannons**\n",
        "    * Typical in computer science\n",
        "\n",
        "So, the self-information of $P(x) = 0.1$ is ~2.3 nats."
      ]
    },
    {
      "cell_type": "markdown",
      "metadata": {
        "id": "892saRjz5Ch9"
      },
      "source": [
        "### Shannon and Differential Entropy"
      ]
    },
    {
      "cell_type": "markdown",
      "metadata": {
        "id": "gy2ByHs35Ch9"
      },
      "source": [
        "To quantify uncertainty about a probability distribution (as opposed to a single event), we can use **Shannon entropy**, which is denoted $H(x)$ or $H(P)$: \n",
        "$$ H(x) = \\mathbb{E}_{\\text{x}\\sim P}[I(x)] \\\\\n",
        "= -\\mathbb{E}_{\\text{x}\\sim P}[\\text{log}P(x)] $$\n",
        "\n",
        "Conveys the expected informational content associated with an event drawn from the distribution:\n",
        "* **Low entropy**: \n",
        "    * Distribution is ~deterministic and outcomes are ~certain\n",
        "    * E.g., weighted coin always lands heads up ($P(1)=1$)\n",
        "* **High entropy**: \n",
        "    * Outcomes are uncertain\n",
        "    * Uniform distribution can be highest entropy\n",
        "    * E.g., coin is as likely to be heads as tails ($P(0)=P(1)=0.5$)"
      ]
    },
    {
      "cell_type": "markdown",
      "metadata": {
        "id": "1h_CUdNh5Ch9"
      },
      "source": [
        "As an example, Shannon entropy for a binary random variable (e.g., coin flip) is: \n",
        "$$ (p-1)\\text{log}(1-p)-p \\text{log}p $$"
      ]
    },
    {
      "cell_type": "code",
      "metadata": {
        "id": "MQAUp05w5Ch9"
      },
      "source": [
        "def binary_entropy(my_p):\n",
        "    return (my_p-1)*np.log(1-my_p) - my_p*np.log(my_p)"
      ],
      "execution_count": 154,
      "outputs": []
    },
    {
      "cell_type": "markdown",
      "metadata": {
        "id": "og4zT2kS5Ch-"
      },
      "source": [
        "Will throw `nan` with $p=0$ (always tails) or $p=1$ (always heads), but we can get close: "
      ]
    },
    {
      "cell_type": "code",
      "metadata": {
        "id": "TohThggW5Ch-",
        "colab": {
          "base_uri": "https://localhost:8080/"
        },
        "outputId": "2ad506a7-ccf6-4de2-88c8-03e5288b47d6"
      },
      "source": [
        "binary_entropy(0.00001)"
      ],
      "execution_count": 155,
      "outputs": [
        {
          "output_type": "execute_result",
          "data": {
            "text/plain": [
              "0.00012512920464949012"
            ]
          },
          "metadata": {},
          "execution_count": 155
        }
      ]
    },
    {
      "cell_type": "code",
      "metadata": {
        "id": "Pg8tz7f95Ch-",
        "colab": {
          "base_uri": "https://localhost:8080/"
        },
        "outputId": "83186813-2f40-4354-a840-55e583d4f19e"
      },
      "source": [
        "binary_entropy(0.99999)"
      ],
      "execution_count": 156,
      "outputs": [
        {
          "output_type": "execute_result",
          "data": {
            "text/plain": [
              "0.00012512920464901166"
            ]
          },
          "metadata": {},
          "execution_count": 156
        }
      ]
    },
    {
      "cell_type": "code",
      "metadata": {
        "id": "9cJU5CP-5Ch-",
        "colab": {
          "base_uri": "https://localhost:8080/"
        },
        "outputId": "ec5d1860-79f7-4a59-deac-787cfbced659"
      },
      "source": [
        "binary_entropy(0.9)"
      ],
      "execution_count": 157,
      "outputs": [
        {
          "output_type": "execute_result",
          "data": {
            "text/plain": [
              "0.3250829733914482"
            ]
          },
          "metadata": {},
          "execution_count": 157
        }
      ]
    },
    {
      "cell_type": "code",
      "metadata": {
        "id": "zASdy_6X5Ch-",
        "colab": {
          "base_uri": "https://localhost:8080/"
        },
        "outputId": "51969bf0-71a9-4e80-d1c6-57202664d986"
      },
      "source": [
        "binary_entropy(0.5)"
      ],
      "execution_count": 158,
      "outputs": [
        {
          "output_type": "execute_result",
          "data": {
            "text/plain": [
              "0.6931471805599453"
            ]
          },
          "metadata": {},
          "execution_count": 158
        }
      ]
    },
    {
      "cell_type": "code",
      "metadata": {
        "id": "hEFpmgMF5Ch-"
      },
      "source": [
        "p = np.linspace(0.001, 0.999, 1000) # start, finish, n points"
      ],
      "execution_count": 159,
      "outputs": []
    },
    {
      "cell_type": "code",
      "metadata": {
        "id": "63lu2Yda5Ch-"
      },
      "source": [
        "H = binary_entropy(p)"
      ],
      "execution_count": 160,
      "outputs": []
    },
    {
      "cell_type": "code",
      "metadata": {
        "id": "g7oaT7kb5Ch_",
        "colab": {
          "base_uri": "https://localhost:8080/",
          "height": 301
        },
        "outputId": "92b73bf3-2416-4562-89ce-d71d6d539eaf"
      },
      "source": [
        "fig, ax = plt.subplots()\n",
        "plt.title('Shannon entropy of Bernoulli trial')\n",
        "plt.xlabel('p')\n",
        "plt.ylabel('H (nats)')\n",
        "_ = ax.plot(p,H)"
      ],
      "execution_count": 161,
      "outputs": [
        {
          "output_type": "display_data",
          "data": {
            "text/plain": [
              "<Figure size 432x288 with 1 Axes>"
            ],
            "image/png": "[encoded data removed]"
          },
          "metadata": {}
        }
      ]
    },
    {
      "cell_type": "markdown",
      "metadata": {
        "id": "Gg4IxIJ25Ch_"
      },
      "source": [
        "**Differential entropy**: simply the term for Shannon entropy if distribution is PDF"
      ]
    },
    {
      "cell_type": "markdown",
      "metadata": {
        "id": "uVpOXC3K5Ch_"
      },
      "source": [
        "### Kullback-Leibler Divergence"
      ]
    },
    {
      "cell_type": "markdown",
      "metadata": {
        "id": "b-qE4xHD5Ch_"
      },
      "source": [
        "**KL divergence** enables us to quantify the relative Shannon (or differential) entropy of two probability distributions that are over the same random variable x.\n",
        "\n",
        "For example, if we have one probability distribution described by $P(x)$ and another by $Q(x)$, their KL divergence (denoted $D_\\text{KL}$) is: \n",
        "$$ D_\\text{KL}(P||Q) = \\mathbb{E}_{\\text{x} \\sim P}[\\text{log}P(x) - \\text{log}Q(x)] $$"
      ]
    },
    {
      "cell_type": "markdown",
      "metadata": {
        "id": "0IGVYCUx5Ch_"
      },
      "source": [
        "### Cross-Entropy"
      ]
    },
    {
      "cell_type": "markdown",
      "metadata": {
        "id": "TaFwwQIC5Ch_"
      },
      "source": [
        "Cross-entropy is a concept derived from KL divergence. Its detail is beyond the scope of this series except to mention that it provides us with the **cross-entropy cost** function. \n",
        "\n",
        "This cost function is ubiquitous in neural networks as it's the cost function of choice for predicting discrete, categorical outcomes. E.g., for a binary classifier, the cross-entropy cost ($C$) is: \n",
        "\n",
        "$$ C = -(y \\cdot \\text{log}(\\hat{y}) + (1-y) \\cdot \\text{log}(1-\\hat{y})) $$"
      ]
    },
    {
      "cell_type": "code",
      "metadata": {
        "id": "vSUxkRMX5Ch_"
      },
      "source": [
        "def cross_entropy(y, a):\n",
        "    return -1*(y*np.log(a) + (1-y)*np.log(1-a))"
      ],
      "execution_count": 162,
      "outputs": []
    },
    {
      "cell_type": "code",
      "metadata": {
        "id": "0RNuubWo5Ch_",
        "colab": {
          "base_uri": "https://localhost:8080/"
        },
        "outputId": "e9111867-88ca-437a-9d5f-c4b6c8713023"
      },
      "source": [
        "cross_entropy(1, 0.9997)"
      ],
      "execution_count": 163,
      "outputs": [
        {
          "output_type": "execute_result",
          "data": {
            "text/plain": [
              "0.00030004500900199243"
            ]
          },
          "metadata": {},
          "execution_count": 163
        }
      ]
    },
    {
      "cell_type": "code",
      "metadata": {
        "id": "rRiZkkxX5CiA",
        "colab": {
          "base_uri": "https://localhost:8080/"
        },
        "outputId": "32bc007f-297e-4bb1-ca8d-b732f2239e27"
      },
      "source": [
        "cross_entropy(1, 0.9)"
      ],
      "execution_count": 164,
      "outputs": [
        {
          "output_type": "execute_result",
          "data": {
            "text/plain": [
              "0.10536051565782628"
            ]
          },
          "metadata": {},
          "execution_count": 164
        }
      ]
    },
    {
      "cell_type": "code",
      "metadata": {
        "id": "kvQ-JUk45CiA",
        "colab": {
          "base_uri": "https://localhost:8080/"
        },
        "outputId": "f8549a6e-a604-4ad7-e75c-d6d1401230f6"
      },
      "source": [
        "cross_entropy(1, 0.6)"
      ],
      "execution_count": 165,
      "outputs": [
        {
          "output_type": "execute_result",
          "data": {
            "text/plain": [
              "0.5108256237659907"
            ]
          },
          "metadata": {},
          "execution_count": 165
        }
      ]
    },
    {
      "cell_type": "code",
      "metadata": {
        "id": "__hYqZuT5CiA",
        "colab": {
          "base_uri": "https://localhost:8080/"
        },
        "outputId": "5c3848d5-a16d-48e3-91c0-720584a58c4d"
      },
      "source": [
        "cross_entropy(1, 0.3)"
      ],
      "execution_count": 166,
      "outputs": [
        {
          "output_type": "execute_result",
          "data": {
            "text/plain": [
              "1.2039728043259361"
            ]
          },
          "metadata": {},
          "execution_count": 166
        }
      ]
    }
  ]
}