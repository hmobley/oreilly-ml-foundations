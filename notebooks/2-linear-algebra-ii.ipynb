{
  "nbformat": 4,
  "nbformat_minor": 0,
  "metadata": {
    "colab": {
      "name": "2-linear-algebra-ii.ipynb",
      "provenance": [],
      "toc_visible": true,
      "include_colab_link": true
    },
    "kernelspec": {
      "display_name": "Python 3",
      "language": "python",
      "name": "python3"
    },
    "language_info": {
      "codemirror_mode": {
        "name": "ipython",
        "version": 3
      },
      "file_extension": ".py",
      "mimetype": "text/x-python",
      "name": "python",
      "nbconvert_exporter": "python",
      "pygments_lexer": "ipython3",
      "version": "3.7.6"
    }
  },
  "cells": [
    {
      "cell_type": "markdown",
      "metadata": {
        "id": "view-in-github",
        "colab_type": "text"
      },
      "source": [
        "<a href=\"https://colab.research.google.com/github/jonkrohn/ML-foundations/blob/master/notebooks/2-linear-algebra-ii.ipynb\" target=\"_parent\"><img src=\"https://colab.research.google.com/assets/colab-badge.svg\" alt=\"Open In Colab\"/></a>"
      ]
    },
    {
      "cell_type": "markdown",
      "metadata": {
        "id": "aTOLgsbN69-P"
      },
      "source": [
        "# Linear Algebra II: Matrix Operations"
      ]
    },
    {
      "cell_type": "markdown",
      "metadata": {
        "id": "yqUB9FTRAxd-"
      },
      "source": [
        "This topic, *Linear Algebra II: Matrix Operations*, builds on the basics of linear algebra. It is essential because these intermediate-level manipulations of tensors lie at the heart of most machine learning approaches and are especially predominant in deep learning. \n",
        "\n",
        "Through the measured exposition of theory paired with interactive examples, you’ll develop an understanding of how linear algebra is used to solve for unknown values in high-dimensional spaces as well as to reduce the dimensionality of complex spaces. The content covered in this topic is itself foundational for several other topics in the *Machine Learning Foundations* series, especially *Probability & Information Theory* and *Optimization*. "
      ]
    },
    {
      "cell_type": "markdown",
      "metadata": {
        "id": "d4tBvI88BheF"
      },
      "source": [
        "Over the course of studying this topic, you'll: \n",
        "\n",
        "* Develop a geometric intuition of what’s going on beneath the hood of machine learning algorithms, including those used for deep learning. \n",
        "* Be able to more intimately grasp the details of machine learning papers as well as all of the other subjects that underlie ML, including calculus, statistics, and optimization algorithms. \n",
        "* Reduce the dimensionalty of complex spaces down to their most informative elements with techniques such as eigendecomposition, singular value decomposition, and principal component analysis."
      ]
    },
    {
      "cell_type": "markdown",
      "metadata": {
        "id": "Z68nQ0ekCYhF"
      },
      "source": [
        "**Note that this Jupyter notebook is not intended to stand alone. It is the companion code to a lecture or to videos from Jon Krohn's [Machine Learning Foundations](https://github.com/jonkrohn/ML-foundations) series, which offer detail on the following:**\n",
        "\n",
        "*Review of Introductory Linear Algebra*\n",
        "\n",
        "* Modern Linear Algebra Applications\n",
        "* Tensors, Vectors, and Norms\n",
        "* Matrix Multiplication\n",
        "* Matrix Inversion\n",
        "* Identity, Diagonal and Orthogonal Matrices\n",
        "\n",
        "*Segment 2: Eigendecomposition*\n",
        "\n",
        "* Affine Transformation via Matrix Application\n",
        "* Eigenvectors and Eigenvalues\n",
        "* Matrix Determinants\n",
        "* Matrix Decomposition \n",
        "* Applications of Eigendecomposition\n",
        "\n",
        "*Segment 3: Matrix Operations for Machine Learning*\n",
        "\n",
        "* Singular Value Decomposition (SVD)\n",
        "* The Moore-Penrose Pseudoinverse\n",
        "* The Trace Operator\n",
        "* Principal Component Analysis (PCA): A Simple Machine Learning Algorithm\n",
        "* Resources for Further Study of Linear Algebra"
      ]
    },
    {
      "cell_type": "markdown",
      "metadata": {
        "id": "ty8zFJj9j3Ui"
      },
      "source": [
        "## Segment 1: Review of Introductory Linear Algebra"
      ]
    },
    {
      "cell_type": "code",
      "metadata": {
        "id": "ixvqsCeFj3Uj"
      },
      "source": [
        "import numpy as np\n",
        "import torch"
      ],
      "execution_count": null,
      "outputs": []
    },
    {
      "cell_type": "markdown",
      "metadata": {
        "id": "E0LgmflFj3Um"
      },
      "source": [
        "### Vector Transposition"
      ]
    },
    {
      "cell_type": "code",
      "metadata": {
        "colab": {
          "base_uri": "https://localhost:8080/"
        },
        "id": "6enkxzMmLWtm",
        "outputId": "11614ad5-3af0-4a91-e243-d5704f9840ea"
      },
      "source": [
        "x = np.array([25, 2, 5])\n",
        "x"
      ],
      "execution_count": null,
      "outputs": [
        {
          "output_type": "execute_result",
          "data": {
            "text/plain": [
              "array([25,  2,  5])"
            ]
          },
          "metadata": {
            "tags": []
          },
          "execution_count": 2
        }
      ]
    },
    {
      "cell_type": "code",
      "metadata": {
        "colab": {
          "base_uri": "https://localhost:8080/"
        },
        "id": "apVGqjNCLWtp",
        "outputId": "a697c790-88ad-409b-c2d4-b78a84031112"
      },
      "source": [
        "x.shape"
      ],
      "execution_count": null,
      "outputs": [
        {
          "output_type": "execute_result",
          "data": {
            "text/plain": [
              "(3,)"
            ]
          },
          "metadata": {
            "tags": []
          },
          "execution_count": 3
        }
      ]
    },
    {
      "cell_type": "code",
      "metadata": {
        "colab": {
          "base_uri": "https://localhost:8080/"
        },
        "id": "hvLQEylJj3Un",
        "outputId": "d3d92704-7f4a-467f-cd0c-861947c6cb6a"
      },
      "source": [
        "x = np.array([[25, 2, 5]])\n",
        "x"
      ],
      "execution_count": null,
      "outputs": [
        {
          "output_type": "execute_result",
          "data": {
            "text/plain": [
              "array([[25,  2,  5]])"
            ]
          },
          "metadata": {
            "tags": []
          },
          "execution_count": 4
        }
      ]
    },
    {
      "cell_type": "code",
      "metadata": {
        "colab": {
          "base_uri": "https://localhost:8080/"
        },
        "id": "WE7xFVxiLWtu",
        "outputId": "de66408e-f7e0-44d3-b099-d958e9cf5885"
      },
      "source": [
        "x.shape"
      ],
      "execution_count": null,
      "outputs": [
        {
          "output_type": "execute_result",
          "data": {
            "text/plain": [
              "(1, 3)"
            ]
          },
          "metadata": {
            "tags": []
          },
          "execution_count": 5
        }
      ]
    },
    {
      "cell_type": "code",
      "metadata": {
        "colab": {
          "base_uri": "https://localhost:8080/"
        },
        "id": "D6XtfKZ8j3Ut",
        "outputId": "a86b8395-033e-4127-eb6b-0eabee40a197"
      },
      "source": [
        "x.T"
      ],
      "execution_count": null,
      "outputs": [
        {
          "output_type": "execute_result",
          "data": {
            "text/plain": [
              "array([[25],\n",
              "       [ 2],\n",
              "       [ 5]])"
            ]
          },
          "metadata": {
            "tags": []
          },
          "execution_count": 6
        }
      ]
    },
    {
      "cell_type": "code",
      "metadata": {
        "colab": {
          "base_uri": "https://localhost:8080/"
        },
        "id": "IN1_aSVQj3Uw",
        "outputId": "7c76c511-c7f3-4490-82b2-1f5c9850b6e1"
      },
      "source": [
        "x.T.shape"
      ],
      "execution_count": null,
      "outputs": [
        {
          "output_type": "execute_result",
          "data": {
            "text/plain": [
              "(3, 1)"
            ]
          },
          "metadata": {
            "tags": []
          },
          "execution_count": 7
        }
      ]
    },
    {
      "cell_type": "code",
      "metadata": {
        "colab": {
          "base_uri": "https://localhost:8080/"
        },
        "id": "K-_nrgesj3U4",
        "outputId": "c284ae79-eb4d-413e-a706-d9e3a1941788"
      },
      "source": [
        "x_p = torch.tensor([25, 2, 5])\n",
        "x_p"
      ],
      "execution_count": null,
      "outputs": [
        {
          "output_type": "execute_result",
          "data": {
            "text/plain": [
              "tensor([25,  2,  5])"
            ]
          },
          "metadata": {
            "tags": []
          },
          "execution_count": 8
        }
      ]
    },
    {
      "cell_type": "code",
      "metadata": {
        "colab": {
          "base_uri": "https://localhost:8080/"
        },
        "id": "X0YuG9Pmj3U6",
        "outputId": "35d9e48e-2db1-4d83-e2f7-cf0fa660adb6"
      },
      "source": [
        "x_p.T"
      ],
      "execution_count": null,
      "outputs": [
        {
          "output_type": "execute_result",
          "data": {
            "text/plain": [
              "tensor([25,  2,  5])"
            ]
          },
          "metadata": {
            "tags": []
          },
          "execution_count": 9
        }
      ]
    },
    {
      "cell_type": "code",
      "metadata": {
        "colab": {
          "base_uri": "https://localhost:8080/"
        },
        "id": "S_bRLc5wj3U8",
        "outputId": "6c1d50d9-8a4c-4b1e-f661-0501f85b13cf"
      },
      "source": [
        "x_p.view(3, 1) # \"view\" because we're changing output but not the way x is stored in memory"
      ],
      "execution_count": null,
      "outputs": [
        {
          "output_type": "execute_result",
          "data": {
            "text/plain": [
              "tensor([[25],\n",
              "        [ 2],\n",
              "        [ 5]])"
            ]
          },
          "metadata": {
            "tags": []
          },
          "execution_count": 10
        }
      ]
    },
    {
      "cell_type": "markdown",
      "metadata": {
        "id": "llPpXVPHj3U_"
      },
      "source": [
        "**Return to slides here.**"
      ]
    },
    {
      "cell_type": "markdown",
      "metadata": {
        "id": "43tlq2huj3U_"
      },
      "source": [
        "## $L^2$ Norm"
      ]
    },
    {
      "cell_type": "code",
      "metadata": {
        "colab": {
          "base_uri": "https://localhost:8080/"
        },
        "id": "wF1B2qL1j3VA",
        "outputId": "bf7c5f86-3118-44ff-d869-0c5122f68f9b"
      },
      "source": [
        "x"
      ],
      "execution_count": null,
      "outputs": [
        {
          "output_type": "execute_result",
          "data": {
            "text/plain": [
              "array([[25,  2,  5]])"
            ]
          },
          "metadata": {
            "tags": []
          },
          "execution_count": 11
        }
      ]
    },
    {
      "cell_type": "code",
      "metadata": {
        "colab": {
          "base_uri": "https://localhost:8080/"
        },
        "id": "SW2iYHE8j3VC",
        "outputId": "13e3359f-0eed-4d85-de8e-23c58cada736"
      },
      "source": [
        "(25**2 + 2**2 + 5**2)**(1/2)"
      ],
      "execution_count": null,
      "outputs": [
        {
          "output_type": "execute_result",
          "data": {
            "text/plain": [
              "25.573423705088842"
            ]
          },
          "metadata": {
            "tags": []
          },
          "execution_count": 12
        }
      ]
    },
    {
      "cell_type": "code",
      "metadata": {
        "colab": {
          "base_uri": "https://localhost:8080/"
        },
        "id": "BGiMFU0pj3VE",
        "outputId": "150523de-597f-4bdf-ad78-dea7a8111233"
      },
      "source": [
        "np.linalg.norm(x)"
      ],
      "execution_count": null,
      "outputs": [
        {
          "output_type": "execute_result",
          "data": {
            "text/plain": [
              "25.573423705088842"
            ]
          },
          "metadata": {
            "tags": []
          },
          "execution_count": 13
        }
      ]
    },
    {
      "cell_type": "markdown",
      "metadata": {
        "id": "3YBk8ta2j3VI"
      },
      "source": [
        "So, if units in this 3-dimensional vector space are meters, then the vector $x$ has a length of 25.6m"
      ]
    },
    {
      "cell_type": "code",
      "metadata": {
        "id": "jjS4_w_Rj3VI"
      },
      "source": [
        "# the following line of code will fail because torch.norm() requires input to be float not integer\n",
        "# torch.norm(p)"
      ],
      "execution_count": null,
      "outputs": []
    },
    {
      "cell_type": "code",
      "metadata": {
        "colab": {
          "base_uri": "https://localhost:8080/"
        },
        "id": "fgadi8SFj3VK",
        "outputId": "f75d2562-1306-44c3-eb15-70c28b54c9d0"
      },
      "source": [
        "torch.norm(torch.tensor([25, 2, 5.]))"
      ],
      "execution_count": null,
      "outputs": [
        {
          "output_type": "execute_result",
          "data": {
            "text/plain": [
              "tensor(25.5734)"
            ]
          },
          "metadata": {
            "tags": []
          },
          "execution_count": 15
        }
      ]
    },
    {
      "cell_type": "markdown",
      "metadata": {
        "id": "qHti3Xslj3VM"
      },
      "source": [
        "**Return to slides here.**"
      ]
    },
    {
      "cell_type": "markdown",
      "metadata": {
        "id": "4xDLTPutj3VN"
      },
      "source": [
        "### Matrices"
      ]
    },
    {
      "cell_type": "code",
      "metadata": {
        "colab": {
          "base_uri": "https://localhost:8080/"
        },
        "id": "Fep93KC7j3VN",
        "outputId": "903feceb-dd1d-483a-9f4e-0d819fd915a0"
      },
      "source": [
        "X = np.array([[25, 2], [5, 26], [3, 7]])\n",
        "X"
      ],
      "execution_count": null,
      "outputs": [
        {
          "output_type": "execute_result",
          "data": {
            "text/plain": [
              "array([[25,  2],\n",
              "       [ 5, 26],\n",
              "       [ 3,  7]])"
            ]
          },
          "metadata": {
            "tags": []
          },
          "execution_count": 16
        }
      ]
    },
    {
      "cell_type": "code",
      "metadata": {
        "colab": {
          "base_uri": "https://localhost:8080/"
        },
        "id": "S_yMqWdSj3VP",
        "outputId": "f5b88777-730f-4ebd-cdfd-0cff71f1c4be"
      },
      "source": [
        "X.shape"
      ],
      "execution_count": null,
      "outputs": [
        {
          "output_type": "execute_result",
          "data": {
            "text/plain": [
              "(3, 2)"
            ]
          },
          "metadata": {
            "tags": []
          },
          "execution_count": 17
        }
      ]
    },
    {
      "cell_type": "code",
      "metadata": {
        "colab": {
          "base_uri": "https://localhost:8080/"
        },
        "id": "RDkn2n92j3VX",
        "outputId": "1c1126b5-8a0f-4bc8-8649-de06344c8b46"
      },
      "source": [
        "X_p = torch.tensor([[25, 2], [5, 26], [3, 7]])\n",
        "X_p"
      ],
      "execution_count": null,
      "outputs": [
        {
          "output_type": "execute_result",
          "data": {
            "text/plain": [
              "tensor([[25,  2],\n",
              "        [ 5, 26],\n",
              "        [ 3,  7]])"
            ]
          },
          "metadata": {
            "tags": []
          },
          "execution_count": 18
        }
      ]
    },
    {
      "cell_type": "code",
      "metadata": {
        "colab": {
          "base_uri": "https://localhost:8080/"
        },
        "id": "SzpKBCqKj3VY",
        "outputId": "67af8715-9f4f-4a46-a5b0-cce4072fb3a1"
      },
      "source": [
        "X_p.shape"
      ],
      "execution_count": null,
      "outputs": [
        {
          "output_type": "execute_result",
          "data": {
            "text/plain": [
              "torch.Size([3, 2])"
            ]
          },
          "metadata": {
            "tags": []
          },
          "execution_count": 19
        }
      ]
    },
    {
      "cell_type": "markdown",
      "metadata": {
        "id": "pC1rWTlVj3Vg"
      },
      "source": [
        "### Matrix Transposition"
      ]
    },
    {
      "cell_type": "code",
      "metadata": {
        "colab": {
          "base_uri": "https://localhost:8080/"
        },
        "id": "srh333wTj3Vg",
        "outputId": "924ebdcb-d50f-4485-8973-a4db1d41311b"
      },
      "source": [
        "X"
      ],
      "execution_count": null,
      "outputs": [
        {
          "output_type": "execute_result",
          "data": {
            "text/plain": [
              "array([[25,  2],\n",
              "       [ 5, 26],\n",
              "       [ 3,  7]])"
            ]
          },
          "metadata": {
            "tags": []
          },
          "execution_count": 20
        }
      ]
    },
    {
      "cell_type": "code",
      "metadata": {
        "colab": {
          "base_uri": "https://localhost:8080/"
        },
        "id": "e7siMBsRj3Vi",
        "outputId": "c08f5fb4-b4bf-433b-bb05-cdf9039d3732"
      },
      "source": [
        "X.T"
      ],
      "execution_count": null,
      "outputs": [
        {
          "output_type": "execute_result",
          "data": {
            "text/plain": [
              "array([[25,  5,  3],\n",
              "       [ 2, 26,  7]])"
            ]
          },
          "metadata": {
            "tags": []
          },
          "execution_count": 21
        }
      ]
    },
    {
      "cell_type": "code",
      "metadata": {
        "colab": {
          "base_uri": "https://localhost:8080/"
        },
        "id": "YF3iqTkUj3Vk",
        "outputId": "c1c7b592-bcf1-4111-e4c6-0ec18ed3ba63"
      },
      "source": [
        "X_p.T"
      ],
      "execution_count": null,
      "outputs": [
        {
          "output_type": "execute_result",
          "data": {
            "text/plain": [
              "tensor([[25,  5,  3],\n",
              "        [ 2, 26,  7]])"
            ]
          },
          "metadata": {
            "tags": []
          },
          "execution_count": 22
        }
      ]
    },
    {
      "cell_type": "markdown",
      "metadata": {
        "id": "mXo5iD5Xj3Vm"
      },
      "source": [
        "**Return to slides here.**"
      ]
    },
    {
      "cell_type": "markdown",
      "metadata": {
        "id": "loFYZ-pXj3Vm"
      },
      "source": [
        "### Matrix Multiplication"
      ]
    },
    {
      "cell_type": "markdown",
      "metadata": {
        "id": "BrHCDYrzj3Vm"
      },
      "source": [
        "Scalars are applied to each element of matrix:"
      ]
    },
    {
      "cell_type": "code",
      "metadata": {
        "colab": {
          "base_uri": "https://localhost:8080/"
        },
        "id": "Yf3WIZ6Jj3Vn",
        "outputId": "9553f178-bb4f-4a17-c995-c8ed247ee759"
      },
      "source": [
        "X*3"
      ],
      "execution_count": null,
      "outputs": [
        {
          "output_type": "execute_result",
          "data": {
            "text/plain": [
              "array([[75,  6],\n",
              "       [15, 78],\n",
              "       [ 9, 21]])"
            ]
          },
          "metadata": {
            "tags": []
          },
          "execution_count": 23
        }
      ]
    },
    {
      "cell_type": "code",
      "metadata": {
        "colab": {
          "base_uri": "https://localhost:8080/"
        },
        "id": "Pk-lY78Nj3Vp",
        "outputId": "afa1ba2d-8786-42a0-95d9-f29fb7cbe128"
      },
      "source": [
        "X*3+3"
      ],
      "execution_count": null,
      "outputs": [
        {
          "output_type": "execute_result",
          "data": {
            "text/plain": [
              "array([[78,  9],\n",
              "       [18, 81],\n",
              "       [12, 24]])"
            ]
          },
          "metadata": {
            "tags": []
          },
          "execution_count": 24
        }
      ]
    },
    {
      "cell_type": "code",
      "metadata": {
        "colab": {
          "base_uri": "https://localhost:8080/"
        },
        "id": "g_sJ0NI8j3Vq",
        "outputId": "cc35cf49-c8a6-48f5-d043-36716840c3af"
      },
      "source": [
        "X_p*3"
      ],
      "execution_count": null,
      "outputs": [
        {
          "output_type": "execute_result",
          "data": {
            "text/plain": [
              "tensor([[75,  6],\n",
              "        [15, 78],\n",
              "        [ 9, 21]])"
            ]
          },
          "metadata": {
            "tags": []
          },
          "execution_count": 25
        }
      ]
    },
    {
      "cell_type": "code",
      "metadata": {
        "colab": {
          "base_uri": "https://localhost:8080/"
        },
        "id": "jebPN-iPj3Vs",
        "outputId": "54af2b03-f9b9-4fe5-d3af-3a0aa21eca99"
      },
      "source": [
        "X_p*3+3"
      ],
      "execution_count": null,
      "outputs": [
        {
          "output_type": "execute_result",
          "data": {
            "text/plain": [
              "tensor([[78,  9],\n",
              "        [18, 81],\n",
              "        [12, 24]])"
            ]
          },
          "metadata": {
            "tags": []
          },
          "execution_count": 26
        }
      ]
    },
    {
      "cell_type": "markdown",
      "metadata": {
        "id": "-a4o6abYj3Vu"
      },
      "source": [
        "Using the multiplication operator on two tensors of the same size in PyTorch (or Numpy or TensorFlow) applies element-wise operations. This is the **Hadamard product** (denoted by the $\\odot$ operator, e.g., $A \\odot B$) *not* **matrix multiplication**: "
      ]
    },
    {
      "cell_type": "code",
      "metadata": {
        "colab": {
          "base_uri": "https://localhost:8080/"
        },
        "id": "JtRT2V0cj3Vu",
        "outputId": "20d4c8ae-10b8-4684-bf35-f9cbc7917621"
      },
      "source": [
        "A = np.array([[3, 4], [5, 6], [7, 8]])\n",
        "A"
      ],
      "execution_count": null,
      "outputs": [
        {
          "output_type": "execute_result",
          "data": {
            "text/plain": [
              "array([[3, 4],\n",
              "       [5, 6],\n",
              "       [7, 8]])"
            ]
          },
          "metadata": {
            "tags": []
          },
          "execution_count": 27
        }
      ]
    },
    {
      "cell_type": "code",
      "metadata": {
        "colab": {
          "base_uri": "https://localhost:8080/"
        },
        "id": "LLJYG8MIj3Vw",
        "outputId": "4f2ed3ee-e73d-4d08-fc86-fc9686e80ae1"
      },
      "source": [
        "X"
      ],
      "execution_count": null,
      "outputs": [
        {
          "output_type": "execute_result",
          "data": {
            "text/plain": [
              "array([[25,  2],\n",
              "       [ 5, 26],\n",
              "       [ 3,  7]])"
            ]
          },
          "metadata": {
            "tags": []
          },
          "execution_count": 28
        }
      ]
    },
    {
      "cell_type": "code",
      "metadata": {
        "colab": {
          "base_uri": "https://localhost:8080/"
        },
        "id": "MtXoLfKbj3Vx",
        "outputId": "5ec52048-a53c-4a73-f03e-596cd5c07e21"
      },
      "source": [
        "X * A"
      ],
      "execution_count": null,
      "outputs": [
        {
          "output_type": "execute_result",
          "data": {
            "text/plain": [
              "array([[ 75,   8],\n",
              "       [ 25, 156],\n",
              "       [ 21,  56]])"
            ]
          },
          "metadata": {
            "tags": []
          },
          "execution_count": 29
        }
      ]
    },
    {
      "cell_type": "code",
      "metadata": {
        "colab": {
          "base_uri": "https://localhost:8080/"
        },
        "id": "8T09ZO4ij3Vz",
        "outputId": "1b4d9009-0f4c-4d10-cba2-12af61170884"
      },
      "source": [
        "A_p = torch.tensor([[3, 4], [5, 6], [7, 8]])\n",
        "A_p"
      ],
      "execution_count": null,
      "outputs": [
        {
          "output_type": "execute_result",
          "data": {
            "text/plain": [
              "tensor([[3, 4],\n",
              "        [5, 6],\n",
              "        [7, 8]])"
            ]
          },
          "metadata": {
            "tags": []
          },
          "execution_count": 30
        }
      ]
    },
    {
      "cell_type": "code",
      "metadata": {
        "colab": {
          "base_uri": "https://localhost:8080/"
        },
        "id": "VBadBzQJj3V1",
        "outputId": "6de65a38-6ae2-4c64-ebec-646ff6dea1fa"
      },
      "source": [
        "X_p * A_p"
      ],
      "execution_count": null,
      "outputs": [
        {
          "output_type": "execute_result",
          "data": {
            "text/plain": [
              "tensor([[ 75,   8],\n",
              "        [ 25, 156],\n",
              "        [ 21,  56]])"
            ]
          },
          "metadata": {
            "tags": []
          },
          "execution_count": 31
        }
      ]
    },
    {
      "cell_type": "markdown",
      "metadata": {
        "id": "s_4kMhF7j3V4"
      },
      "source": [
        "Matrix multiplication with a vector: "
      ]
    },
    {
      "cell_type": "code",
      "metadata": {
        "colab": {
          "base_uri": "https://localhost:8080/"
        },
        "id": "LAJEstCLj3V5",
        "outputId": "a5616fd7-6bd4-4db9-8576-d2716b013d2a"
      },
      "source": [
        "b = np.array([1, 2])\n",
        "b"
      ],
      "execution_count": null,
      "outputs": [
        {
          "output_type": "execute_result",
          "data": {
            "text/plain": [
              "array([1, 2])"
            ]
          },
          "metadata": {
            "tags": []
          },
          "execution_count": 32
        }
      ]
    },
    {
      "cell_type": "code",
      "metadata": {
        "colab": {
          "base_uri": "https://localhost:8080/"
        },
        "id": "ZOxK6XEXj3V8",
        "outputId": "f9dd86f0-9127-4faa-de34-2ca28030bf62"
      },
      "source": [
        "np.dot(A, b) # even though technically dot products is between 2 vectors"
      ],
      "execution_count": null,
      "outputs": [
        {
          "output_type": "execute_result",
          "data": {
            "text/plain": [
              "array([11, 17, 23])"
            ]
          },
          "metadata": {
            "tags": []
          },
          "execution_count": 33
        }
      ]
    },
    {
      "cell_type": "code",
      "metadata": {
        "colab": {
          "base_uri": "https://localhost:8080/"
        },
        "id": "0Y3Ohltbj3V-",
        "outputId": "0c617b79-4a7a-4630-ede3-8d745a805527"
      },
      "source": [
        "b_p = torch.tensor([1, 2])\n",
        "b_p"
      ],
      "execution_count": null,
      "outputs": [
        {
          "output_type": "execute_result",
          "data": {
            "text/plain": [
              "tensor([1, 2])"
            ]
          },
          "metadata": {
            "tags": []
          },
          "execution_count": 34
        }
      ]
    },
    {
      "cell_type": "code",
      "metadata": {
        "colab": {
          "base_uri": "https://localhost:8080/"
        },
        "id": "LioexYZ_j3WB",
        "outputId": "3c20aeb2-4d26-4e62-88b1-125d641ca130"
      },
      "source": [
        "torch.matmul(A_p, b_p)"
      ],
      "execution_count": null,
      "outputs": [
        {
          "output_type": "execute_result",
          "data": {
            "text/plain": [
              "tensor([11, 17, 23])"
            ]
          },
          "metadata": {
            "tags": []
          },
          "execution_count": 35
        }
      ]
    },
    {
      "cell_type": "markdown",
      "metadata": {
        "id": "6Wa5CB28j3WC"
      },
      "source": [
        "Matrix multiplication with two matrices:"
      ]
    },
    {
      "cell_type": "code",
      "metadata": {
        "colab": {
          "base_uri": "https://localhost:8080/"
        },
        "id": "a8ZXM-T4j3WD",
        "outputId": "ee700c6c-07e0-476e-f158-42db9ab1ba64"
      },
      "source": [
        "B = np.array([[1, 9], [2, 0]])\n",
        "B"
      ],
      "execution_count": null,
      "outputs": [
        {
          "output_type": "execute_result",
          "data": {
            "text/plain": [
              "array([[1, 9],\n",
              "       [2, 0]])"
            ]
          },
          "metadata": {
            "tags": []
          },
          "execution_count": 36
        }
      ]
    },
    {
      "cell_type": "code",
      "metadata": {
        "colab": {
          "base_uri": "https://localhost:8080/"
        },
        "id": "xE0DA5Xrj3WF",
        "outputId": "9ad4c12f-a24a-45c5-cbd3-0b6ef4d1234e"
      },
      "source": [
        "np.dot(A, B) # note first column is same as Xb"
      ],
      "execution_count": null,
      "outputs": [
        {
          "output_type": "execute_result",
          "data": {
            "text/plain": [
              "array([[11, 27],\n",
              "       [17, 45],\n",
              "       [23, 63]])"
            ]
          },
          "metadata": {
            "tags": []
          },
          "execution_count": 37
        }
      ]
    },
    {
      "cell_type": "code",
      "metadata": {
        "colab": {
          "base_uri": "https://localhost:8080/"
        },
        "id": "bBvYO9jFj3WH",
        "outputId": "1e3ad0ac-5970-483b-d3d1-aea14b7eb4ac"
      },
      "source": [
        "B_p = torch.tensor([[1, 9], [2, 0]])\n",
        "B_p"
      ],
      "execution_count": null,
      "outputs": [
        {
          "output_type": "execute_result",
          "data": {
            "text/plain": [
              "tensor([[1, 9],\n",
              "        [2, 0]])"
            ]
          },
          "metadata": {
            "tags": []
          },
          "execution_count": 38
        }
      ]
    },
    {
      "cell_type": "code",
      "metadata": {
        "colab": {
          "base_uri": "https://localhost:8080/"
        },
        "id": "o2nEnn3Mj3WI",
        "outputId": "560d96dd-64c1-4f30-ad32-a8d81c33a20b"
      },
      "source": [
        "torch.matmul(A_p, B_p) "
      ],
      "execution_count": null,
      "outputs": [
        {
          "output_type": "execute_result",
          "data": {
            "text/plain": [
              "tensor([[11, 27],\n",
              "        [17, 45],\n",
              "        [23, 63]])"
            ]
          },
          "metadata": {
            "tags": []
          },
          "execution_count": 39
        }
      ]
    },
    {
      "cell_type": "markdown",
      "metadata": {
        "id": "eCFqu8LWj3WJ"
      },
      "source": [
        "### Matrix Inversion"
      ]
    },
    {
      "cell_type": "code",
      "metadata": {
        "colab": {
          "base_uri": "https://localhost:8080/"
        },
        "id": "Hhr16-XVj3WK",
        "outputId": "bcd77f90-b2ea-4a56-f17a-e9d5b8f188ab"
      },
      "source": [
        "X = np.array([[4, 2], [-5, -3]])\n",
        "X"
      ],
      "execution_count": null,
      "outputs": [
        {
          "output_type": "execute_result",
          "data": {
            "text/plain": [
              "array([[ 4,  2],\n",
              "       [-5, -3]])"
            ]
          },
          "metadata": {
            "tags": []
          },
          "execution_count": 40
        }
      ]
    },
    {
      "cell_type": "code",
      "metadata": {
        "colab": {
          "base_uri": "https://localhost:8080/"
        },
        "id": "FIGmFK9oj3WM",
        "outputId": "e1f07c91-957f-4753-b33f-85facd606219"
      },
      "source": [
        "Xinv = np.linalg.inv(X)\n",
        "Xinv"
      ],
      "execution_count": null,
      "outputs": [
        {
          "output_type": "execute_result",
          "data": {
            "text/plain": [
              "array([[ 1.5,  1. ],\n",
              "       [-2.5, -2. ]])"
            ]
          },
          "metadata": {
            "tags": []
          },
          "execution_count": 41
        }
      ]
    },
    {
      "cell_type": "code",
      "metadata": {
        "colab": {
          "base_uri": "https://localhost:8080/"
        },
        "id": "WWEFauNsj3WO",
        "outputId": "16432486-a596-4555-b3b9-a760e782e10d"
      },
      "source": [
        "y = np.array([4, -7])\n",
        "y"
      ],
      "execution_count": null,
      "outputs": [
        {
          "output_type": "execute_result",
          "data": {
            "text/plain": [
              "array([ 4, -7])"
            ]
          },
          "metadata": {
            "tags": []
          },
          "execution_count": 42
        }
      ]
    },
    {
      "cell_type": "code",
      "metadata": {
        "colab": {
          "base_uri": "https://localhost:8080/"
        },
        "id": "egKyXcZhj3WR",
        "outputId": "dc29ee18-127b-403c-ba23-0facac2527e9"
      },
      "source": [
        "w = np.dot(Xinv, y)\n",
        "w"
      ],
      "execution_count": null,
      "outputs": [
        {
          "output_type": "execute_result",
          "data": {
            "text/plain": [
              "array([-1.,  4.])"
            ]
          },
          "metadata": {
            "tags": []
          },
          "execution_count": 43
        }
      ]
    },
    {
      "cell_type": "markdown",
      "metadata": {
        "id": "4-QHJQR5LWvF"
      },
      "source": [
        "Show that $y = Xw$: "
      ]
    },
    {
      "cell_type": "code",
      "metadata": {
        "colab": {
          "base_uri": "https://localhost:8080/"
        },
        "id": "W-6jEzyRLWvG",
        "outputId": "5e5c96af-b77d-4c4b-dd10-5f4a25932f86"
      },
      "source": [
        "np.dot(X, w)"
      ],
      "execution_count": null,
      "outputs": [
        {
          "output_type": "execute_result",
          "data": {
            "text/plain": [
              "array([ 4., -7.])"
            ]
          },
          "metadata": {
            "tags": []
          },
          "execution_count": 44
        }
      ]
    },
    {
      "cell_type": "code",
      "metadata": {
        "colab": {
          "base_uri": "https://localhost:8080/"
        },
        "id": "jro-lItLj3WT",
        "outputId": "0a26156e-3268-4366-c7fc-00ea137a358a"
      },
      "source": [
        "X_p = torch.tensor([[4, 2], [-5, -3.]]) # note that torch.inverse() requires floats\n",
        "X_p"
      ],
      "execution_count": null,
      "outputs": [
        {
          "output_type": "execute_result",
          "data": {
            "text/plain": [
              "tensor([[ 4.,  2.],\n",
              "        [-5., -3.]])"
            ]
          },
          "metadata": {
            "tags": []
          },
          "execution_count": 45
        }
      ]
    },
    {
      "cell_type": "code",
      "metadata": {
        "colab": {
          "base_uri": "https://localhost:8080/"
        },
        "id": "o4HfI57Nj3WW",
        "outputId": "a0c775b1-197e-4e2b-99e8-c5028567aa71"
      },
      "source": [
        "Xinv_p = torch.inverse(X_p)\n",
        "Xinv_p"
      ],
      "execution_count": null,
      "outputs": [
        {
          "output_type": "execute_result",
          "data": {
            "text/plain": [
              "tensor([[ 1.5000,  1.0000],\n",
              "        [-2.5000, -2.0000]])"
            ]
          },
          "metadata": {
            "tags": []
          },
          "execution_count": 46
        }
      ]
    },
    {
      "cell_type": "code",
      "metadata": {
        "colab": {
          "base_uri": "https://localhost:8080/"
        },
        "id": "dy88LRcyj3WY",
        "outputId": "ea7db28e-9853-4a9b-ee73-cfa07d1788b8"
      },
      "source": [
        "y_p = torch.tensor([4, -7.])\n",
        "y_p"
      ],
      "execution_count": null,
      "outputs": [
        {
          "output_type": "execute_result",
          "data": {
            "text/plain": [
              "tensor([ 4., -7.])"
            ]
          },
          "metadata": {
            "tags": []
          },
          "execution_count": 47
        }
      ]
    },
    {
      "cell_type": "code",
      "metadata": {
        "colab": {
          "base_uri": "https://localhost:8080/"
        },
        "id": "1wB3r-ggj3Wa",
        "outputId": "00f64cbf-d79c-4a75-baf2-12488a834342"
      },
      "source": [
        "w_p = torch.matmul(Xinv_p, y_p)\n",
        "w_p"
      ],
      "execution_count": null,
      "outputs": [
        {
          "output_type": "execute_result",
          "data": {
            "text/plain": [
              "tensor([-1.,  4.])"
            ]
          },
          "metadata": {
            "tags": []
          },
          "execution_count": 48
        }
      ]
    },
    {
      "cell_type": "code",
      "metadata": {
        "colab": {
          "base_uri": "https://localhost:8080/"
        },
        "id": "tksRdg5JLWvQ",
        "outputId": "6033185b-6249-4a73-e6b0-725a84cde236"
      },
      "source": [
        "torch.matmul(X_p, w_p)"
      ],
      "execution_count": null,
      "outputs": [
        {
          "output_type": "execute_result",
          "data": {
            "text/plain": [
              "tensor([ 4., -7.])"
            ]
          },
          "metadata": {
            "tags": []
          },
          "execution_count": 49
        }
      ]
    },
    {
      "cell_type": "markdown",
      "metadata": {
        "id": "oWXikiwFj3Wb"
      },
      "source": [
        "**Return to slides here.**"
      ]
    },
    {
      "cell_type": "markdown",
      "metadata": {
        "id": "R4XpcVX2j3Wc"
      },
      "source": [
        "## Segment 2: Eigendecomposition"
      ]
    },
    {
      "cell_type": "markdown",
      "metadata": {
        "id": "2vgT25z9fN_E"
      },
      "source": [
        "### Affine Transformation via Matrix Application"
      ]
    },
    {
      "cell_type": "markdown",
      "metadata": {
        "id": "gLjGas2ij3Ws"
      },
      "source": [
        "Let's say we have a vector $v$:"
      ]
    },
    {
      "cell_type": "code",
      "metadata": {
        "colab": {
          "base_uri": "https://localhost:8080/"
        },
        "id": "zZvzKGRkj3Ws",
        "outputId": "e4948d7d-0202-4e46-f7a3-cfc7e065e5d9"
      },
      "source": [
        "v = np.array([3, 1])\n",
        "v"
      ],
      "execution_count": null,
      "outputs": [
        {
          "output_type": "execute_result",
          "data": {
            "text/plain": [
              "array([3, 1])"
            ]
          },
          "metadata": {
            "tags": []
          },
          "execution_count": 50
        }
      ]
    },
    {
      "cell_type": "markdown",
      "metadata": {
        "id": "4UlRvHvZj3Wt"
      },
      "source": [
        "Let's plot $v$ using my `plot_vectors()` function (which is based on Hadrien Jean's `plotVectors()` function from [this notebook](https://github.com/hadrienj/deepLearningBook-Notes/blob/master/2.7%20Eigendecomposition/2.7%20Eigendecomposition.ipynb), under [MIT license](https://github.com/hadrienj/deepLearningBook-Notes/blob/master/LICENSE))."
      ]
    },
    {
      "cell_type": "code",
      "metadata": {
        "id": "Hl54713Rj3Wt"
      },
      "source": [
        "import matplotlib.pyplot as plt"
      ],
      "execution_count": null,
      "outputs": []
    },
    {
      "cell_type": "code",
      "metadata": {
        "id": "fmyWW7Xvj3Wu"
      },
      "source": [
        "def plot_vectors(vectors, colors):\n",
        "    \"\"\"\n",
        "    Plot one or more vectors in a 2D plane, specifying a color for each. \n",
        "\n",
        "    Arguments\n",
        "    ---------\n",
        "    vectors: list of lists or of arrays\n",
        "        Coordinates of the vectors to plot. For example, [[1, 3], [2, 2]] \n",
        "        contains two vectors to plot, [1, 3] and [2, 2].\n",
        "    colors: list\n",
        "        Colors of the vectors. For instance: ['red', 'blue'] will display the\n",
        "        first vector in red and the second in blue.\n",
        "        \n",
        "    Example\n",
        "    -------\n",
        "    plot_vectors([[1, 3], [2, 2]], ['red', 'blue'])\n",
        "    plt.xlim(-1, 4)\n",
        "    plt.ylim(-1, 4)\n",
        "    \"\"\"\n",
        "    plt.figure()\n",
        "    plt.axvline(x=0, color='lightgray')\n",
        "    plt.axhline(y=0, color='lightgray')\n",
        "\n",
        "    for i in range(len(vectors)):\n",
        "        x = np.concatenate([[0,0],vectors[i]])\n",
        "        plt.quiver([x[0]], [x[1]], [x[2]], [x[3]],\n",
        "                   angles='xy', scale_units='xy', scale=1, color=colors[i],)"
      ],
      "execution_count": null,
      "outputs": []
    },
    {
      "cell_type": "code",
      "metadata": {
        "colab": {
          "base_uri": "https://localhost:8080/",
          "height": 269
        },
        "id": "8uP1xgnLj3Wx",
        "outputId": "2136da79-aa1d-4f1c-c864-d518b1632540"
      },
      "source": [
        "plot_vectors([v], ['lightblue'])\n",
        "plt.xlim(-1, 5)\n",
        "_ = plt.ylim(-1, 5)"
      ],
      "execution_count": null,
      "outputs": [
        {
          "output_type": "display_data",
          "data": {
            "image/png": "[encoded data removed]",
            "text/plain": [
              "<Figure size 432x288 with 1 Axes>"
            ]
          },
          "metadata": {
            "tags": [],
            "needs_background": "light"
          }
        }
      ]
    },
    {
      "cell_type": "markdown",
      "metadata": {
        "id": "ydGgh5lRj3Wy"
      },
      "source": [
        "\"Applying\" a matrix to a vector (i.e., performing matrix-vector multiplication) can linearly transform the vector, e.g, rotate it or rescale it."
      ]
    },
    {
      "cell_type": "markdown",
      "metadata": {
        "id": "ReW9fF-sj3Wy"
      },
      "source": [
        "The identity matrix, introduced earlier, is the exception that proves the rule: Applying an identity matrix does not transform the vector: "
      ]
    },
    {
      "cell_type": "code",
      "metadata": {
        "colab": {
          "base_uri": "https://localhost:8080/"
        },
        "id": "0riv3SS8j3Wz",
        "outputId": "0ae43869-0889-424e-f0b0-d0c31eb45bea"
      },
      "source": [
        "I = np.array([[1, 0], [0, 1]])\n",
        "I"
      ],
      "execution_count": null,
      "outputs": [
        {
          "output_type": "execute_result",
          "data": {
            "text/plain": [
              "array([[1, 0],\n",
              "       [0, 1]])"
            ]
          },
          "metadata": {
            "tags": []
          },
          "execution_count": 54
        }
      ]
    },
    {
      "cell_type": "code",
      "metadata": {
        "colab": {
          "base_uri": "https://localhost:8080/"
        },
        "id": "nc7nn6VDj3W0",
        "outputId": "2be11f81-4fb8-49b0-c1d9-d28237e8431d"
      },
      "source": [
        "Iv = np.dot(I, v)\n",
        "Iv"
      ],
      "execution_count": null,
      "outputs": [
        {
          "output_type": "execute_result",
          "data": {
            "text/plain": [
              "array([3, 1])"
            ]
          },
          "metadata": {
            "tags": []
          },
          "execution_count": 55
        }
      ]
    },
    {
      "cell_type": "code",
      "metadata": {
        "colab": {
          "base_uri": "https://localhost:8080/"
        },
        "id": "AXQBaq2fj3W1",
        "outputId": "88366d2a-93b6-4fbb-f11f-e56d71a4b8db"
      },
      "source": [
        "v == Iv"
      ],
      "execution_count": null,
      "outputs": [
        {
          "output_type": "execute_result",
          "data": {
            "text/plain": [
              "array([ True,  True])"
            ]
          },
          "metadata": {
            "tags": []
          },
          "execution_count": 56
        }
      ]
    },
    {
      "cell_type": "code",
      "metadata": {
        "colab": {
          "base_uri": "https://localhost:8080/",
          "height": 269
        },
        "id": "SP81dIksj3W3",
        "outputId": "e591e35b-d7ce-4007-8abb-3474a836f4b9"
      },
      "source": [
        "plot_vectors([Iv], ['blue'])\n",
        "plt.xlim(-1, 5)\n",
        "_ = plt.ylim(-1, 5)"
      ],
      "execution_count": null,
      "outputs": [
        {
          "output_type": "display_data",
          "data": {
            "image/png": "[encoded data removed]",
            "text/plain": [
              "<Figure size 432x288 with 1 Axes>"
            ]
          },
          "metadata": {
            "tags": [],
            "needs_background": "light"
          }
        }
      ]
    },
    {
      "cell_type": "markdown",
      "metadata": {
        "id": "knI50bEJ8UsQ"
      },
      "source": [
        "In contrast, consider this matrix (let's call it $E$) that flips vectors over the $x$-axis: "
      ]
    },
    {
      "cell_type": "code",
      "metadata": {
        "id": "PTGnNFx48UsR",
        "colab": {
          "base_uri": "https://localhost:8080/"
        },
        "outputId": "d2e52a9c-39f1-4bf1-9523-cf8c0c7cc08e"
      },
      "source": [
        "E = np.array([[1, 0], [0, -1]])\n",
        "E"
      ],
      "execution_count": null,
      "outputs": [
        {
          "output_type": "execute_result",
          "data": {
            "text/plain": [
              "array([[ 1,  0],\n",
              "       [ 0, -1]])"
            ]
          },
          "metadata": {
            "tags": []
          },
          "execution_count": 58
        }
      ]
    },
    {
      "cell_type": "code",
      "metadata": {
        "id": "d6CZbgfT8UsS",
        "colab": {
          "base_uri": "https://localhost:8080/"
        },
        "outputId": "0e65b8c5-40c0-4fc1-f364-575d2a4fb3fe"
      },
      "source": [
        "Ev = np.dot(E, v)\n",
        "Ev"
      ],
      "execution_count": null,
      "outputs": [
        {
          "output_type": "execute_result",
          "data": {
            "text/plain": [
              "array([ 3, -1])"
            ]
          },
          "metadata": {
            "tags": []
          },
          "execution_count": 59
        }
      ]
    },
    {
      "cell_type": "code",
      "metadata": {
        "id": "0hDvoi258UsS",
        "colab": {
          "base_uri": "https://localhost:8080/",
          "height": 269
        },
        "outputId": "8c91af12-0cd5-499c-8f09-fd84cf899109"
      },
      "source": [
        "plot_vectors([v, Ev], ['lightblue', 'blue'])\n",
        "plt.xlim(-1, 5)\n",
        "_ = plt.ylim(-3, 3)"
      ],
      "execution_count": null,
      "outputs": [
        {
          "output_type": "display_data",
          "data": {
            "image/png": "[encoded data removed]",
            "text/plain": [
              "<Figure size 432x288 with 1 Axes>"
            ]
          },
          "metadata": {
            "tags": [],
            "needs_background": "light"
          }
        }
      ]
    },
    {
      "cell_type": "markdown",
      "metadata": {
        "id": "cfj26eui8UsS"
      },
      "source": [
        "Or, this matrix, $F$, which flips vectors over the $y$-axis: "
      ]
    },
    {
      "cell_type": "code",
      "metadata": {
        "id": "E5wijvsi8UsT",
        "colab": {
          "base_uri": "https://localhost:8080/"
        },
        "outputId": "542688c6-9b76-4a05-9e98-0f0d6c19a96c"
      },
      "source": [
        "F = np.array([[-1, 0], [0, 1]])\n",
        "F "
      ],
      "execution_count": null,
      "outputs": [
        {
          "output_type": "execute_result",
          "data": {
            "text/plain": [
              "array([[-1,  0],\n",
              "       [ 0,  1]])"
            ]
          },
          "metadata": {
            "tags": []
          },
          "execution_count": 61
        }
      ]
    },
    {
      "cell_type": "code",
      "metadata": {
        "id": "P7tQhi2Z8UsT",
        "colab": {
          "base_uri": "https://localhost:8080/"
        },
        "outputId": "98445eb4-f3b3-4afa-d94d-0e7219e004ec"
      },
      "source": [
        "Fv = np.dot(F, v)\n",
        "Fv"
      ],
      "execution_count": null,
      "outputs": [
        {
          "output_type": "execute_result",
          "data": {
            "text/plain": [
              "array([-3,  1])"
            ]
          },
          "metadata": {
            "tags": []
          },
          "execution_count": 62
        }
      ]
    },
    {
      "cell_type": "code",
      "metadata": {
        "id": "xrlgyYFH8UsT",
        "colab": {
          "base_uri": "https://localhost:8080/",
          "height": 269
        },
        "outputId": "52722d15-4e3c-4a35-8ef6-73cdf37ed960"
      },
      "source": [
        "plot_vectors([v, Fv], ['lightblue', 'blue'])\n",
        "plt.xlim(-4, 4)\n",
        "_ = plt.ylim(-1, 5)"
      ],
      "execution_count": null,
      "outputs": [
        {
          "output_type": "display_data",
          "data": {
            "image/png": "[encoded data removed]",
            "text/plain": [
              "<Figure size 432x288 with 1 Axes>"
            ]
          },
          "metadata": {
            "tags": [],
            "needs_background": "light"
          }
        }
      ]
    },
    {
      "cell_type": "markdown",
      "metadata": {
        "id": "bDVVb2Ty8UsT"
      },
      "source": [
        "Applying a flipping matrix is an example of an **affine transformation**: a change in geometry that may adjust distances or angles between vectors, but preserves parallelism between them.\n",
        "\n",
        "In addition to flipping a matrix over an axis (a.k.a., *reflection*), other common affine transformations include:\n",
        "* *Scaling* (changing the length of vectors)\n",
        "* *Shearing* (example of this on the Mona Lisa coming up shortly)\n",
        "* *Rotation* \n",
        "\n",
        "(See [here](https://stackabuse.com/affine-image-transformations-in-python-with-numpy-pillow-and-opencv/) for an outstanding blog post on affine transformations in Python, including how to apply them to images as well as vectors.)"
      ]
    },
    {
      "cell_type": "markdown",
      "metadata": {
        "id": "JcdkCchSj3W4"
      },
      "source": [
        "A single matrix can apply multiple affine transforms simultaneously (e.g., flip over an axis and rotate 45 degrees). As an example, let's see what happens when we apply this matrix $A$ to the vector $v$: "
      ]
    },
    {
      "cell_type": "code",
      "metadata": {
        "colab": {
          "base_uri": "https://localhost:8080/"
        },
        "id": "R-EsIE7cj3W4",
        "outputId": "c3903fca-b72c-4277-8768-f586ff11f510"
      },
      "source": [
        "A = np.array([[-1, 4], [2, -2]])\n",
        "A"
      ],
      "execution_count": null,
      "outputs": [
        {
          "output_type": "execute_result",
          "data": {
            "text/plain": [
              "array([[-1,  4],\n",
              "       [ 2, -2]])"
            ]
          },
          "metadata": {
            "tags": []
          },
          "execution_count": 64
        }
      ]
    },
    {
      "cell_type": "code",
      "metadata": {
        "colab": {
          "base_uri": "https://localhost:8080/"
        },
        "id": "DZ0rxeKTj3W5",
        "outputId": "fd61867f-b549-44dc-8a37-b0c7ceb97a9b"
      },
      "source": [
        "Av = np.dot(A, v)\n",
        "Av"
      ],
      "execution_count": null,
      "outputs": [
        {
          "output_type": "execute_result",
          "data": {
            "text/plain": [
              "array([1, 4])"
            ]
          },
          "metadata": {
            "tags": []
          },
          "execution_count": 65
        }
      ]
    },
    {
      "cell_type": "code",
      "metadata": {
        "colab": {
          "base_uri": "https://localhost:8080/",
          "height": 269
        },
        "id": "RCAfNJ8hj3W7",
        "outputId": "70f81cfe-49c2-4596-e938-8c640f3390bc"
      },
      "source": [
        "plot_vectors([v, Av], ['lightblue', 'blue'])\n",
        "plt.xlim(-1, 5)\n",
        "_ = plt.ylim(-1, 5)"
      ],
      "execution_count": null,
      "outputs": [
        {
          "output_type": "display_data",
          "data": {
            "image/png": "[encoded data removed]",
            "text/plain": [
              "<Figure size 432x288 with 1 Axes>"
            ]
          },
          "metadata": {
            "tags": [],
            "needs_background": "light"
          }
        }
      ]
    },
    {
      "cell_type": "code",
      "metadata": {
        "colab": {
          "base_uri": "https://localhost:8080/",
          "height": 269
        },
        "id": "7cMA5yMij3W8",
        "outputId": "d32f2d9a-9246-4ad0-e000-5417c8f1ab8e"
      },
      "source": [
        "# Another example of applying A:\n",
        "v2 = np.array([2, 1])\n",
        "plot_vectors([v2, np.dot(A, v2)], ['lightgreen', 'green'])\n",
        "plt.xlim(-1, 5)\n",
        "_ = plt.ylim(-1, 5)"
      ],
      "execution_count": null,
      "outputs": [
        {
          "output_type": "display_data",
          "data": {
            "image/png": "[encoded data removed]",
            "text/plain": [
              "<Figure size 432x288 with 1 Axes>"
            ]
          },
          "metadata": {
            "tags": [],
            "needs_background": "light"
          }
        }
      ]
    },
    {
      "cell_type": "markdown",
      "metadata": {
        "id": "gRqpCA6qj3W-"
      },
      "source": [
        "We can concatenate several vectors together into a matrix (say, $V$), where each column is a separate vector. Then, whatever linear transformations we apply to $V$ will be independently applied to each column (vector): "
      ]
    },
    {
      "cell_type": "code",
      "metadata": {
        "colab": {
          "base_uri": "https://localhost:8080/"
        },
        "id": "dsRo3xPFj3W-",
        "outputId": "4304eeb7-e534-4d96-e790-37cce6f4c2bb"
      },
      "source": [
        "v"
      ],
      "execution_count": null,
      "outputs": [
        {
          "output_type": "execute_result",
          "data": {
            "text/plain": [
              "array([3, 1])"
            ]
          },
          "metadata": {
            "tags": []
          },
          "execution_count": 68
        }
      ]
    },
    {
      "cell_type": "code",
      "metadata": {
        "colab": {
          "base_uri": "https://localhost:8080/"
        },
        "id": "nQDdsKXNj3XA",
        "outputId": "d3ed01f9-db60-4616-9d21-23781a454ebc"
      },
      "source": [
        "# recall that we need to convert array to 2D to transpose into column, e.g.:\n",
        "np.matrix(v).T "
      ],
      "execution_count": null,
      "outputs": [
        {
          "output_type": "execute_result",
          "data": {
            "text/plain": [
              "matrix([[3],\n",
              "        [1]])"
            ]
          },
          "metadata": {
            "tags": []
          },
          "execution_count": 69
        }
      ]
    },
    {
      "cell_type": "code",
      "metadata": {
        "id": "Zb9cSgjnj3XB"
      },
      "source": [
        "v3 = np.array([-3, -1]) # mirror image of v over both axes\n",
        "v4 = np.array([-1, 1])"
      ],
      "execution_count": null,
      "outputs": []
    },
    {
      "cell_type": "code",
      "metadata": {
        "colab": {
          "base_uri": "https://localhost:8080/"
        },
        "id": "EsdcEFXYj3XC",
        "outputId": "d2934a39-ce74-47d5-f72c-737c6c52a902"
      },
      "source": [
        "V = np.concatenate((np.matrix(v).T, \n",
        "                    np.matrix(v2).T,\n",
        "                    np.matrix(v3).T,\n",
        "                    np.matrix(v4).T), \n",
        "                   axis=1)\n",
        "V"
      ],
      "execution_count": null,
      "outputs": [
        {
          "output_type": "execute_result",
          "data": {
            "text/plain": [
              "matrix([[ 3,  2, -3, -1],\n",
              "        [ 1,  1, -1,  1]])"
            ]
          },
          "metadata": {
            "tags": []
          },
          "execution_count": 71
        }
      ]
    },
    {
      "cell_type": "code",
      "metadata": {
        "colab": {
          "base_uri": "https://localhost:8080/"
        },
        "id": "t3CSo0Hrj3XD",
        "outputId": "ac2a1403-1fa1-4097-9938-4049c15c834d"
      },
      "source": [
        "IV = np.dot(I, V)\n",
        "IV"
      ],
      "execution_count": null,
      "outputs": [
        {
          "output_type": "execute_result",
          "data": {
            "text/plain": [
              "matrix([[ 3,  2, -3, -1],\n",
              "        [ 1,  1, -1,  1]])"
            ]
          },
          "metadata": {
            "tags": []
          },
          "execution_count": 72
        }
      ]
    },
    {
      "cell_type": "code",
      "metadata": {
        "colab": {
          "base_uri": "https://localhost:8080/"
        },
        "id": "a6M61JEWj3XE",
        "outputId": "a0a35ad1-2584-46a2-f429-32b8d7c88723"
      },
      "source": [
        "AV = np.dot(A, V)\n",
        "AV"
      ],
      "execution_count": null,
      "outputs": [
        {
          "output_type": "execute_result",
          "data": {
            "text/plain": [
              "matrix([[ 1,  2, -1,  5],\n",
              "        [ 4,  2, -4, -4]])"
            ]
          },
          "metadata": {
            "tags": []
          },
          "execution_count": 73
        }
      ]
    },
    {
      "cell_type": "code",
      "metadata": {
        "id": "wGmvjr85j3XG"
      },
      "source": [
        "# function to convert column of matrix to 1D vector: \n",
        "def vectorfy(mtrx, clmn):\n",
        "    return np.array(mtrx[:,clmn]).reshape(-1)"
      ],
      "execution_count": null,
      "outputs": []
    },
    {
      "cell_type": "code",
      "metadata": {
        "colab": {
          "base_uri": "https://localhost:8080/"
        },
        "id": "L2eQ4w83j3XH",
        "outputId": "d5c09731-8d6a-4539-b49a-400c0f00c1f2"
      },
      "source": [
        "vectorfy(V, 0)"
      ],
      "execution_count": null,
      "outputs": [
        {
          "output_type": "execute_result",
          "data": {
            "text/plain": [
              "array([3, 1])"
            ]
          },
          "metadata": {
            "tags": []
          },
          "execution_count": 75
        }
      ]
    },
    {
      "cell_type": "code",
      "metadata": {
        "colab": {
          "base_uri": "https://localhost:8080/"
        },
        "id": "_o4HOgEwj3XI",
        "outputId": "6da61ad6-e365-4d05-d539-0bd04418fbf5"
      },
      "source": [
        "vectorfy(V, 0) == v"
      ],
      "execution_count": null,
      "outputs": [
        {
          "output_type": "execute_result",
          "data": {
            "text/plain": [
              "array([ True,  True])"
            ]
          },
          "metadata": {
            "tags": []
          },
          "execution_count": 76
        }
      ]
    },
    {
      "cell_type": "code",
      "metadata": {
        "colab": {
          "base_uri": "https://localhost:8080/",
          "height": 265
        },
        "id": "btsivNB_j3XK",
        "outputId": "a0475146-074d-443b-888f-15956aeb78eb"
      },
      "source": [
        "plot_vectors([vectorfy(V, 0), vectorfy(V, 1), vectorfy(V, 2), vectorfy(V, 3),\n",
        "             vectorfy(AV, 0), vectorfy(AV, 1), vectorfy(AV, 2), vectorfy(AV, 3)], \n",
        "            ['lightblue', 'lightgreen', 'lightgray', 'orange',\n",
        "             'blue', 'green', 'gray', 'red'])\n",
        "plt.xlim(-4, 6)\n",
        "_ = plt.ylim(-5, 5)"
      ],
      "execution_count": null,
      "outputs": [
        {
          "output_type": "display_data",
          "data": {
            "image/png": "[encoded data removed]",
            "text/plain": [
              "<Figure size 432x288 with 1 Axes>"
            ]
          },
          "metadata": {
            "tags": [],
            "needs_background": "light"
          }
        }
      ]
    },
    {
      "cell_type": "markdown",
      "metadata": {
        "id": "EFTcb9xkf3vT"
      },
      "source": [
        "Now that we can appreciate the linear transformation of vectors by matrices, let's move on to working with eigenvectors and eigenvalues...\n",
        "\n",
        "**Return to slides here.**"
      ]
    },
    {
      "cell_type": "markdown",
      "metadata": {
        "id": "et4bgYFDj3Wr"
      },
      "source": [
        "### Eigenvectors and Eigenvalues"
      ]
    },
    {
      "cell_type": "markdown",
      "metadata": {
        "id": "4n31lIDpj3XL"
      },
      "source": [
        "An **eigenvector** (*eigen* is German for \"typical\"; we could translate *eigenvector* to \"characteristic vector\") is a special vector $v$ such that when it is transformed by some matrix (let's say $A$), the product $Av$ has the exact same direction as $v$.\n",
        "\n",
        "An **eigenvalue** is a scalar (traditionally represented as $\\lambda$) that simply scales the eigenvector $v$ such that the following equation is satisfied: \n",
        "\n",
        "$Av = \\lambda v$"
      ]
    },
    {
      "cell_type": "markdown",
      "metadata": {
        "id": "G7zVjpW-j3XL"
      },
      "source": [
        "Easiest way to understand this is to work through an example: "
      ]
    },
    {
      "cell_type": "code",
      "metadata": {
        "colab": {
          "base_uri": "https://localhost:8080/"
        },
        "id": "GbXJtk1Ej3XL",
        "outputId": "acd1fee7-c1b5-4802-f1d9-c4c45da43a40"
      },
      "source": [
        "A"
      ],
      "execution_count": null,
      "outputs": [
        {
          "output_type": "execute_result",
          "data": {
            "text/plain": [
              "array([[-1,  4],\n",
              "       [ 2, -2]])"
            ]
          },
          "metadata": {
            "tags": []
          },
          "execution_count": 78
        }
      ]
    },
    {
      "cell_type": "markdown",
      "metadata": {
        "id": "0t2JsM6Wj3XN"
      },
      "source": [
        "Eigenvectors and eigenvalues can be derived algebraically (e.g., with the [QR algorithm](https://en.wikipedia.org/wiki/QR_algorithm), which was independently developed in the 1950s by both [Vera Kublanovskaya](https://en.wikipedia.org/wiki/Vera_Kublanovskaya) and John Francis), however this is outside scope of the *ML Foundations* series. We'll cheat with NumPy `eig()` method, which returns a tuple of: \n",
        "\n",
        "* a vector of eigenvalues\n",
        "* a matrix of eigenvectors"
      ]
    },
    {
      "cell_type": "code",
      "metadata": {
        "id": "CYWmgM7jj3XN"
      },
      "source": [
        "lambdas, V = np.linalg.eig(A) "
      ],
      "execution_count": null,
      "outputs": []
    },
    {
      "cell_type": "markdown",
      "metadata": {
        "id": "OVUp_p6-j3XO"
      },
      "source": [
        "The matrix contains as many eigenvectors as there are columns of A: "
      ]
    },
    {
      "cell_type": "code",
      "metadata": {
        "colab": {
          "base_uri": "https://localhost:8080/"
        },
        "id": "7iHlAMa7j3XO",
        "outputId": "75314623-6a8f-4287-b353-007b28cc6a3c"
      },
      "source": [
        "V # each column is a separate eigenvector v"
      ],
      "execution_count": null,
      "outputs": [
        {
          "output_type": "execute_result",
          "data": {
            "text/plain": [
              "array([[ 0.86011126, -0.76454754],\n",
              "       [ 0.51010647,  0.64456735]])"
            ]
          },
          "metadata": {
            "tags": []
          },
          "execution_count": 80
        }
      ]
    },
    {
      "cell_type": "markdown",
      "metadata": {
        "id": "EBSmc2JLj3XP"
      },
      "source": [
        "With a corresponding eigenvalue for each eigenvector:"
      ]
    },
    {
      "cell_type": "code",
      "metadata": {
        "colab": {
          "base_uri": "https://localhost:8080/"
        },
        "id": "QYJbCydNj3XP",
        "outputId": "684c5f9b-71ae-4ef9-a2be-5f2f85c153f2"
      },
      "source": [
        "lambdas"
      ],
      "execution_count": null,
      "outputs": [
        {
          "output_type": "execute_result",
          "data": {
            "text/plain": [
              "array([ 1.37228132, -4.37228132])"
            ]
          },
          "metadata": {
            "tags": []
          },
          "execution_count": 81
        }
      ]
    },
    {
      "cell_type": "markdown",
      "metadata": {
        "id": "OoZPiaBMj3XR"
      },
      "source": [
        "Let's confirm that $Av = \\lambda v$ for the first eigenvector: "
      ]
    },
    {
      "cell_type": "code",
      "metadata": {
        "colab": {
          "base_uri": "https://localhost:8080/"
        },
        "id": "n1QZ57TJj3XR",
        "outputId": "d7a16ced-5d9f-4eff-a72d-80946c0d3b88"
      },
      "source": [
        "v = V[:,0] \n",
        "v"
      ],
      "execution_count": null,
      "outputs": [
        {
          "output_type": "execute_result",
          "data": {
            "text/plain": [
              "array([0.86011126, 0.51010647])"
            ]
          },
          "metadata": {
            "tags": []
          },
          "execution_count": 82
        }
      ]
    },
    {
      "cell_type": "code",
      "metadata": {
        "colab": {
          "base_uri": "https://localhost:8080/"
        },
        "id": "6vwkWMiIj3XV",
        "outputId": "52edc4c1-90ea-4d44-b7fa-c969da736616"
      },
      "source": [
        "lambduh = lambdas[0] # note that \"lambda\" is reserved term in Python\n",
        "lambduh"
      ],
      "execution_count": null,
      "outputs": [
        {
          "output_type": "execute_result",
          "data": {
            "text/plain": [
              "1.3722813232690143"
            ]
          },
          "metadata": {
            "tags": []
          },
          "execution_count": 83
        }
      ]
    },
    {
      "cell_type": "code",
      "metadata": {
        "colab": {
          "base_uri": "https://localhost:8080/"
        },
        "id": "Leh9n8QBj3XW",
        "outputId": "16a28285-ff50-4254-8d8b-3659b5175e07"
      },
      "source": [
        "Av = np.dot(A, v)\n",
        "Av"
      ],
      "execution_count": null,
      "outputs": [
        {
          "output_type": "execute_result",
          "data": {
            "text/plain": [
              "array([1.18031462, 0.70000958])"
            ]
          },
          "metadata": {
            "tags": []
          },
          "execution_count": 84
        }
      ]
    },
    {
      "cell_type": "code",
      "metadata": {
        "colab": {
          "base_uri": "https://localhost:8080/"
        },
        "id": "PROIJU30j3XX",
        "outputId": "e50ee151-86e9-4447-e367-efb35d8c5e78"
      },
      "source": [
        "lambduh * v"
      ],
      "execution_count": null,
      "outputs": [
        {
          "output_type": "execute_result",
          "data": {
            "text/plain": [
              "array([1.18031462, 0.70000958])"
            ]
          },
          "metadata": {
            "tags": []
          },
          "execution_count": 85
        }
      ]
    },
    {
      "cell_type": "code",
      "metadata": {
        "colab": {
          "base_uri": "https://localhost:8080/",
          "height": 269
        },
        "id": "0bT3vjoQj3XY",
        "outputId": "61d76876-3eb2-4b49-bf20-d8d98e090377"
      },
      "source": [
        "plot_vectors([Av, v], ['blue', 'lightblue'])\n",
        "plt.xlim(-1, 2)\n",
        "_ = plt.ylim(-1, 2)"
      ],
      "execution_count": null,
      "outputs": [
        {
          "output_type": "display_data",
          "data": {
            "image/png": "[encoded data removed]",
            "text/plain": [
              "<Figure size 432x288 with 1 Axes>"
            ]
          },
          "metadata": {
            "tags": [],
            "needs_background": "light"
          }
        }
      ]
    },
    {
      "cell_type": "markdown",
      "metadata": {
        "id": "tKQI4691j3XZ"
      },
      "source": [
        "And again for the second eigenvector of A: "
      ]
    },
    {
      "cell_type": "code",
      "metadata": {
        "colab": {
          "base_uri": "https://localhost:8080/"
        },
        "id": "riOJuqz3j3XZ",
        "outputId": "0272716e-ffd7-4f8c-edcc-91853ce73df5"
      },
      "source": [
        "v2 = V[:,1]\n",
        "v2"
      ],
      "execution_count": null,
      "outputs": [
        {
          "output_type": "execute_result",
          "data": {
            "text/plain": [
              "array([-0.76454754,  0.64456735])"
            ]
          },
          "metadata": {
            "tags": []
          },
          "execution_count": 87
        }
      ]
    },
    {
      "cell_type": "code",
      "metadata": {
        "colab": {
          "base_uri": "https://localhost:8080/"
        },
        "id": "QveeHYhDj3Xa",
        "outputId": "00f6aa04-7142-418a-9a51-f4730a15807f"
      },
      "source": [
        "lambda2 = lambdas[1]\n",
        "lambda2"
      ],
      "execution_count": null,
      "outputs": [
        {
          "output_type": "execute_result",
          "data": {
            "text/plain": [
              "-4.372281323269014"
            ]
          },
          "metadata": {
            "tags": []
          },
          "execution_count": 88
        }
      ]
    },
    {
      "cell_type": "code",
      "metadata": {
        "colab": {
          "base_uri": "https://localhost:8080/"
        },
        "id": "TDk1VoVIj3Xb",
        "outputId": "04e289f4-088f-4c6f-f81e-d068df12f09e"
      },
      "source": [
        "Av2 = np.dot(A, v2)\n",
        "Av2"
      ],
      "execution_count": null,
      "outputs": [
        {
          "output_type": "execute_result",
          "data": {
            "text/plain": [
              "array([ 3.34281692, -2.81822977])"
            ]
          },
          "metadata": {
            "tags": []
          },
          "execution_count": 89
        }
      ]
    },
    {
      "cell_type": "code",
      "metadata": {
        "colab": {
          "base_uri": "https://localhost:8080/"
        },
        "id": "smlYxxgpj3Xc",
        "outputId": "673979e9-340b-4133-d338-59a160226dad"
      },
      "source": [
        "lambda2 * v2"
      ],
      "execution_count": null,
      "outputs": [
        {
          "output_type": "execute_result",
          "data": {
            "text/plain": [
              "array([ 3.34281692, -2.81822977])"
            ]
          },
          "metadata": {
            "tags": []
          },
          "execution_count": 90
        }
      ]
    },
    {
      "cell_type": "code",
      "metadata": {
        "colab": {
          "base_uri": "https://localhost:8080/",
          "height": 269
        },
        "id": "3IigKHp0j3Xd",
        "outputId": "2eb1f8ba-9ea6-4811-b8b0-2aa73d909cf6"
      },
      "source": [
        "plot_vectors([Av, v, Av2, v2], \n",
        "            ['blue', 'lightblue', 'green', 'lightgreen'])\n",
        "plt.xlim(-1, 4)\n",
        "_ = plt.ylim(-3, 2)"
      ],
      "execution_count": null,
      "outputs": [
        {
          "output_type": "display_data",
          "data": {
            "image/png": "[encoded data removed]",
            "text/plain": [
              "<Figure size 432x288 with 1 Axes>"
            ]
          },
          "metadata": {
            "tags": [],
            "needs_background": "light"
          }
        }
      ]
    },
    {
      "cell_type": "markdown",
      "metadata": {
        "id": "VF9uLWjOj3Xe"
      },
      "source": [
        "Using the PyTorch `eig()` method, we can do exactly the same: "
      ]
    },
    {
      "cell_type": "code",
      "metadata": {
        "colab": {
          "base_uri": "https://localhost:8080/"
        },
        "id": "EcJa6w0mj3Xe",
        "outputId": "3644237f-e752-4fb8-8b8f-4885a0f16b31"
      },
      "source": [
        "A"
      ],
      "execution_count": null,
      "outputs": [
        {
          "output_type": "execute_result",
          "data": {
            "text/plain": [
              "array([[-1,  4],\n",
              "       [ 2, -2]])"
            ]
          },
          "metadata": {
            "tags": []
          },
          "execution_count": 92
        }
      ]
    },
    {
      "cell_type": "code",
      "metadata": {
        "colab": {
          "base_uri": "https://localhost:8080/"
        },
        "id": "9WvCqoRij3Xf",
        "outputId": "cc7e56c3-8297-4456-be71-8aace5dafe86"
      },
      "source": [
        "A_p = torch.tensor([[-1, 4], [2, -2.]]) # must be float for PyTorch eig()\n",
        "A_p"
      ],
      "execution_count": null,
      "outputs": [
        {
          "output_type": "execute_result",
          "data": {
            "text/plain": [
              "tensor([[-1.,  4.],\n",
              "        [ 2., -2.]])"
            ]
          },
          "metadata": {
            "tags": []
          },
          "execution_count": 93
        }
      ]
    },
    {
      "cell_type": "code",
      "metadata": {
        "id": "TE1W1lykjHfW"
      },
      "source": [
        "lambdas_cplx, V_cplx = torch.linalg.eig(A_p) # outputs complex numbers because real matrices can have complex eigenvectors"
      ],
      "execution_count": null,
      "outputs": []
    },
    {
      "cell_type": "code",
      "metadata": {
        "id": "lEIkBb8OjhTk",
        "outputId": "209c2388-342a-4117-9d61-93c27b618126",
        "colab": {
          "base_uri": "https://localhost:8080/"
        }
      },
      "source": [
        "V_cplx # complex-typed values with \"0.j\" imaginary part are in fact real numbers"
      ],
      "execution_count": null,
      "outputs": [
        {
          "output_type": "execute_result",
          "data": {
            "text/plain": [
              "tensor([[ 0.8601+0.j, -0.7645+0.j],\n",
              "        [ 0.5101+0.j,  0.6446+0.j]])"
            ]
          },
          "metadata": {
            "tags": []
          },
          "execution_count": 95
        }
      ]
    },
    {
      "cell_type": "code",
      "metadata": {
        "id": "ycqfObc1pyca",
        "outputId": "641e88a4-26c7-4af6-9d0e-d22593b5ab00",
        "colab": {
          "base_uri": "https://localhost:8080/"
        }
      },
      "source": [
        "V_p = V_cplx.float()\n",
        "V_p"
      ],
      "execution_count": null,
      "outputs": [
        {
          "output_type": "stream",
          "text": [
            "/usr/local/lib/python3.7/dist-packages/ipykernel_launcher.py:1: UserWarning: Casting complex values to real discards the imaginary part (Triggered internally at  /pytorch/aten/src/ATen/native/Copy.cpp:240.)\n",
            "  \"\"\"Entry point for launching an IPython kernel.\n"
          ],
          "name": "stderr"
        },
        {
          "output_type": "execute_result",
          "data": {
            "text/plain": [
              "tensor([[ 0.8601, -0.7645],\n",
              "        [ 0.5101,  0.6446]])"
            ]
          },
          "metadata": {
            "tags": []
          },
          "execution_count": 96
        }
      ]
    },
    {
      "cell_type": "code",
      "metadata": {
        "id": "h9_Ri5MGntlz",
        "outputId": "258427a0-e318-47d9-f973-a99b1e67f128",
        "colab": {
          "base_uri": "https://localhost:8080/"
        }
      },
      "source": [
        "v_p = V_p[:,0]\n",
        "v_p"
      ],
      "execution_count": null,
      "outputs": [
        {
          "output_type": "execute_result",
          "data": {
            "text/plain": [
              "tensor([0.8601, 0.5101])"
            ]
          },
          "metadata": {
            "tags": []
          },
          "execution_count": 97
        }
      ]
    },
    {
      "cell_type": "code",
      "metadata": {
        "id": "cnjVvGxEqHM6",
        "outputId": "846997ef-f166-4af3-8fe0-542b7420a040",
        "colab": {
          "base_uri": "https://localhost:8080/"
        }
      },
      "source": [
        "lambdas_cplx"
      ],
      "execution_count": null,
      "outputs": [
        {
          "output_type": "execute_result",
          "data": {
            "text/plain": [
              "tensor([ 1.3723+0.j, -4.3723+0.j])"
            ]
          },
          "metadata": {
            "tags": []
          },
          "execution_count": 98
        }
      ]
    },
    {
      "cell_type": "code",
      "metadata": {
        "id": "_7bIBSQuoGVk",
        "outputId": "e29e0853-28c2-4d23-fee7-c9677e73b354",
        "colab": {
          "base_uri": "https://localhost:8080/"
        }
      },
      "source": [
        "lambdas_p = lambdas_cplx.float()\n",
        "lambdas_p"
      ],
      "execution_count": null,
      "outputs": [
        {
          "output_type": "execute_result",
          "data": {
            "text/plain": [
              "tensor([ 1.3723, -4.3723])"
            ]
          },
          "metadata": {
            "tags": []
          },
          "execution_count": 99
        }
      ]
    },
    {
      "cell_type": "code",
      "metadata": {
        "colab": {
          "base_uri": "https://localhost:8080/"
        },
        "id": "VrYaxNCRj3Xj",
        "outputId": "56084ce8-18fa-427c-9924-09844b70a155"
      },
      "source": [
        "lambda_p = lambdas_p[0]\n",
        "lambda_p"
      ],
      "execution_count": null,
      "outputs": [
        {
          "output_type": "execute_result",
          "data": {
            "text/plain": [
              "tensor(1.3723)"
            ]
          },
          "metadata": {
            "tags": []
          },
          "execution_count": 100
        }
      ]
    },
    {
      "cell_type": "code",
      "metadata": {
        "colab": {
          "base_uri": "https://localhost:8080/"
        },
        "id": "SUq1UGH7j3Xl",
        "outputId": "2654ae27-e3f5-47c2-be58-2d423f1f4494"
      },
      "source": [
        "Av_p = torch.matmul(A_p, v_p) # matmul() expects float-typed tensors\n",
        "Av_p"
      ],
      "execution_count": null,
      "outputs": [
        {
          "output_type": "execute_result",
          "data": {
            "text/plain": [
              "tensor([1.1803, 0.7000])"
            ]
          },
          "metadata": {
            "tags": []
          },
          "execution_count": 101
        }
      ]
    },
    {
      "cell_type": "code",
      "metadata": {
        "colab": {
          "base_uri": "https://localhost:8080/"
        },
        "id": "co1VNLIej3Xn",
        "outputId": "b0f72a7f-f020-428f-de01-8566096010fd"
      },
      "source": [
        "lambda_p * v_p"
      ],
      "execution_count": null,
      "outputs": [
        {
          "output_type": "execute_result",
          "data": {
            "text/plain": [
              "tensor([1.1803, 0.7000])"
            ]
          },
          "metadata": {
            "tags": []
          },
          "execution_count": 102
        }
      ]
    },
    {
      "cell_type": "code",
      "metadata": {
        "colab": {
          "base_uri": "https://localhost:8080/"
        },
        "id": "1b47vG92j3Xo",
        "outputId": "18e1f0d5-79d3-47b8-9b1d-b0f5e5312c4f"
      },
      "source": [
        "v2_p = V_p[:,1]\n",
        "v2_p"
      ],
      "execution_count": null,
      "outputs": [
        {
          "output_type": "execute_result",
          "data": {
            "text/plain": [
              "tensor([-0.7645,  0.6446])"
            ]
          },
          "metadata": {
            "tags": []
          },
          "execution_count": 103
        }
      ]
    },
    {
      "cell_type": "code",
      "metadata": {
        "colab": {
          "base_uri": "https://localhost:8080/"
        },
        "id": "B-evpW17j3Xp",
        "outputId": "02bf3935-2f35-48d3-d478-874d5fce786f"
      },
      "source": [
        "lambda2_p = lambdas_p[1]\n",
        "lambda2_p"
      ],
      "execution_count": null,
      "outputs": [
        {
          "output_type": "execute_result",
          "data": {
            "text/plain": [
              "tensor(-4.3723)"
            ]
          },
          "metadata": {
            "tags": []
          },
          "execution_count": 104
        }
      ]
    },
    {
      "cell_type": "code",
      "metadata": {
        "colab": {
          "base_uri": "https://localhost:8080/"
        },
        "id": "2d5gjh2sj3Xq",
        "outputId": "61f13b16-3549-431e-daa3-cf21a2ee83ca"
      },
      "source": [
        "Av2_p = torch.matmul(A_p.float(), v2_p.float())\n",
        "Av2_p"
      ],
      "execution_count": null,
      "outputs": [
        {
          "output_type": "execute_result",
          "data": {
            "text/plain": [
              "tensor([ 3.3428, -2.8182])"
            ]
          },
          "metadata": {
            "tags": []
          },
          "execution_count": 105
        }
      ]
    },
    {
      "cell_type": "code",
      "metadata": {
        "colab": {
          "base_uri": "https://localhost:8080/"
        },
        "id": "8-ki3i8dj3Xr",
        "outputId": "8fadf2d4-4546-469d-cde0-d88f4873ffdb"
      },
      "source": [
        "lambda2_p.float() * v2_p.float()"
      ],
      "execution_count": null,
      "outputs": [
        {
          "output_type": "execute_result",
          "data": {
            "text/plain": [
              "tensor([ 3.3428, -2.8182])"
            ]
          },
          "metadata": {
            "tags": []
          },
          "execution_count": 106
        }
      ]
    },
    {
      "cell_type": "code",
      "metadata": {
        "colab": {
          "base_uri": "https://localhost:8080/",
          "height": 269
        },
        "id": "s2p8yb_Zj3Xs",
        "outputId": "a3512303-e8b5-46a1-fd52-98129161ff21"
      },
      "source": [
        "plot_vectors([Av_p.numpy(), v_p.numpy(), Av2_p.numpy(), v2_p.numpy()], \n",
        "            ['blue', 'lightblue', 'green', 'lightgreen'])\n",
        "plt.xlim(-1, 4)\n",
        "_ = plt.ylim(-3, 2)"
      ],
      "execution_count": null,
      "outputs": [
        {
          "output_type": "display_data",
          "data": {
            "image/png": "[encoded data removed]",
            "text/plain": [
              "<Figure size 432x288 with 1 Axes>"
            ]
          },
          "metadata": {
            "tags": [],
            "needs_background": "light"
          }
        }
      ]
    },
    {
      "cell_type": "markdown",
      "metadata": {
        "id": "6-HqwyESj3Xt"
      },
      "source": [
        "### Eigenvectors in >2 Dimensions"
      ]
    },
    {
      "cell_type": "markdown",
      "metadata": {
        "id": "M01JPwToj3Xt"
      },
      "source": [
        "While plotting gets trickier in higher-dimensional spaces, we can nevertheless find and use eigenvectors with more than two dimensions. Here's a 3D example (there are three dimensions handled over three rows): "
      ]
    },
    {
      "cell_type": "code",
      "metadata": {
        "colab": {
          "base_uri": "https://localhost:8080/"
        },
        "id": "HWsBDEMgj3Xt",
        "outputId": "2facbb5a-a032-450a-a315-5a6e68996d28"
      },
      "source": [
        "X = np.array([[25, 2, 9], [5, 26, -5], [3, 7, -1]])\n",
        "X"
      ],
      "execution_count": null,
      "outputs": [
        {
          "output_type": "execute_result",
          "data": {
            "text/plain": [
              "array([[25,  2,  9],\n",
              "       [ 5, 26, -5],\n",
              "       [ 3,  7, -1]])"
            ]
          },
          "metadata": {
            "tags": []
          },
          "execution_count": 108
        }
      ]
    },
    {
      "cell_type": "code",
      "metadata": {
        "id": "Y-uUMyRFj3Xv"
      },
      "source": [
        "lambdas_X, V_X = np.linalg.eig(X) "
      ],
      "execution_count": null,
      "outputs": []
    },
    {
      "cell_type": "code",
      "metadata": {
        "colab": {
          "base_uri": "https://localhost:8080/"
        },
        "id": "virh7GVFj3Xw",
        "outputId": "406581f3-928c-4498-bb86-45fefdf6e14d"
      },
      "source": [
        "V_X # one eigenvector per column of X"
      ],
      "execution_count": null,
      "outputs": [
        {
          "output_type": "execute_result",
          "data": {
            "text/plain": [
              "array([[-0.71175736, -0.6501921 , -0.34220476],\n",
              "       [-0.66652125,  0.74464056,  0.23789717],\n",
              "       [-0.22170001,  0.15086635,  0.90901091]])"
            ]
          },
          "metadata": {
            "tags": []
          },
          "execution_count": 110
        }
      ]
    },
    {
      "cell_type": "code",
      "metadata": {
        "colab": {
          "base_uri": "https://localhost:8080/"
        },
        "id": "9yHkmEd0j3Xw",
        "outputId": "f570a46a-353e-41f1-a9e9-43851a59e9d8"
      },
      "source": [
        "lambdas_X # a corresponding eigenvalue for each eigenvector"
      ],
      "execution_count": null,
      "outputs": [
        {
          "output_type": "execute_result",
          "data": {
            "text/plain": [
              "array([29.67623202, 20.62117365, -0.29740567])"
            ]
          },
          "metadata": {
            "tags": []
          },
          "execution_count": 111
        }
      ]
    },
    {
      "cell_type": "markdown",
      "metadata": {
        "id": "Qp3qPeUxj3Xy"
      },
      "source": [
        "Confirm $Xv = \\lambda v$ for an example eigenvector: "
      ]
    },
    {
      "cell_type": "code",
      "metadata": {
        "colab": {
          "base_uri": "https://localhost:8080/"
        },
        "id": "dUEfbThhj3Xy",
        "outputId": "20aacd11-e2c0-44fc-f4e5-4c4737b8cb0a"
      },
      "source": [
        "v_X = V_X[:,0] \n",
        "v_X"
      ],
      "execution_count": null,
      "outputs": [
        {
          "output_type": "execute_result",
          "data": {
            "text/plain": [
              "array([-0.71175736, -0.66652125, -0.22170001])"
            ]
          },
          "metadata": {
            "tags": []
          },
          "execution_count": 112
        }
      ]
    },
    {
      "cell_type": "code",
      "metadata": {
        "colab": {
          "base_uri": "https://localhost:8080/"
        },
        "id": "xhnF5asDj3X0",
        "outputId": "ae9e4750-8413-46c5-83eb-1a79a9e4995d"
      },
      "source": [
        "lambda_X = lambdas_X[0] \n",
        "lambda_X"
      ],
      "execution_count": null,
      "outputs": [
        {
          "output_type": "execute_result",
          "data": {
            "text/plain": [
              "29.676232023948902"
            ]
          },
          "metadata": {
            "tags": []
          },
          "execution_count": 113
        }
      ]
    },
    {
      "cell_type": "code",
      "metadata": {
        "colab": {
          "base_uri": "https://localhost:8080/"
        },
        "id": "K3bA6vRzj3X1",
        "outputId": "7622d8fd-5413-4958-e802-5e524efa418b"
      },
      "source": [
        "np.dot(X, v_X) # matrix multiplication"
      ],
      "execution_count": null,
      "outputs": [
        {
          "output_type": "execute_result",
          "data": {
            "text/plain": [
              "array([-21.12227645, -19.77983919,  -6.5792208 ])"
            ]
          },
          "metadata": {
            "tags": []
          },
          "execution_count": 114
        }
      ]
    },
    {
      "cell_type": "code",
      "metadata": {
        "colab": {
          "base_uri": "https://localhost:8080/"
        },
        "id": "UfN3hk0Gj3X2",
        "outputId": "39988510-8949-4d0b-8af1-982923a238b6"
      },
      "source": [
        "lambda_X * v_X"
      ],
      "execution_count": null,
      "outputs": [
        {
          "output_type": "execute_result",
          "data": {
            "text/plain": [
              "array([-21.12227645, -19.77983919,  -6.5792208 ])"
            ]
          },
          "metadata": {
            "tags": []
          },
          "execution_count": 115
        }
      ]
    },
    {
      "cell_type": "markdown",
      "metadata": {
        "id": "VcjTZv24j3X3"
      },
      "source": [
        "**Exercises**:\n",
        "\n",
        "1. Use PyTorch to confirm $Xv = \\lambda v$ for the first eigenvector of $X$.\n",
        "2. Confirm $Xv = \\lambda v$ for the remaining eigenvectors of $X$ (you can use NumPy or PyTorch, whichever you prefer)."
      ]
    },
    {
      "cell_type": "markdown",
      "metadata": {
        "id": "5z5AdeHKj3X4"
      },
      "source": [
        "**Return to slides here.**"
      ]
    },
    {
      "cell_type": "markdown",
      "metadata": {
        "id": "F44cMjS8j3Wc"
      },
      "source": [
        "### 2x2 Matrix Determinants"
      ]
    },
    {
      "cell_type": "code",
      "metadata": {
        "colab": {
          "base_uri": "https://localhost:8080/"
        },
        "id": "GjsXPZEsj3Wc",
        "outputId": "fe6a6a5f-036c-4838-8e13-ec8d921ee914"
      },
      "source": [
        "X = np.array([[4, 2], [-5, -3]])\n",
        "X"
      ],
      "execution_count": null,
      "outputs": [
        {
          "output_type": "execute_result",
          "data": {
            "text/plain": [
              "array([[ 4,  2],\n",
              "       [-5, -3]])"
            ]
          },
          "metadata": {
            "tags": []
          },
          "execution_count": 116
        }
      ]
    },
    {
      "cell_type": "code",
      "metadata": {
        "colab": {
          "base_uri": "https://localhost:8080/"
        },
        "id": "4tg8BDzOj3We",
        "outputId": "cd6589fc-a010-49f2-90d8-6a51e9576a50"
      },
      "source": [
        "np.linalg.det(X)"
      ],
      "execution_count": null,
      "outputs": [
        {
          "output_type": "execute_result",
          "data": {
            "text/plain": [
              "-2.0000000000000013"
            ]
          },
          "metadata": {
            "tags": []
          },
          "execution_count": 117
        }
      ]
    },
    {
      "cell_type": "markdown",
      "metadata": {
        "id": "87wpY5hUj3Wg"
      },
      "source": [
        "**Return to slides here.**"
      ]
    },
    {
      "cell_type": "code",
      "metadata": {
        "colab": {
          "base_uri": "https://localhost:8080/"
        },
        "id": "o5jp6vkNj3Wg",
        "outputId": "8d71eb93-7e03-4659-9af3-2dd9f0ecd64d"
      },
      "source": [
        "N = np.array([[-4, 1], [-8, 2]])\n",
        "N"
      ],
      "execution_count": null,
      "outputs": [
        {
          "output_type": "execute_result",
          "data": {
            "text/plain": [
              "array([[-4,  1],\n",
              "       [-8,  2]])"
            ]
          },
          "metadata": {
            "tags": []
          },
          "execution_count": 118
        }
      ]
    },
    {
      "cell_type": "code",
      "metadata": {
        "colab": {
          "base_uri": "https://localhost:8080/"
        },
        "id": "ejdkdN7Lj3Wi",
        "outputId": "cbbdd79f-f63e-4315-9c52-442c6743cbbf"
      },
      "source": [
        "np.linalg.det(N)"
      ],
      "execution_count": null,
      "outputs": [
        {
          "output_type": "execute_result",
          "data": {
            "text/plain": [
              "0.0"
            ]
          },
          "metadata": {
            "tags": []
          },
          "execution_count": 119
        }
      ]
    },
    {
      "cell_type": "code",
      "metadata": {
        "id": "nbIrtcaCj3Wj"
      },
      "source": [
        "# Uncommenting the following line results in a \"singular matrix\" error\n",
        "# Ninv = np.linalg.inv(N)"
      ],
      "execution_count": null,
      "outputs": []
    },
    {
      "cell_type": "code",
      "metadata": {
        "id": "kBT5VC5Nj3Wl"
      },
      "source": [
        "N = torch.tensor([[-4, 1], [-8, 2.]]) # must use float not int"
      ],
      "execution_count": null,
      "outputs": []
    },
    {
      "cell_type": "code",
      "metadata": {
        "colab": {
          "base_uri": "https://localhost:8080/"
        },
        "id": "MQA5g0gGj3Wm",
        "outputId": "d05c3b60-1a0e-43e0-cfcc-558b17617fb7"
      },
      "source": [
        "torch.det(N) "
      ],
      "execution_count": null,
      "outputs": [
        {
          "output_type": "execute_result",
          "data": {
            "text/plain": [
              "tensor(0.)"
            ]
          },
          "metadata": {
            "tags": []
          },
          "execution_count": 122
        }
      ]
    },
    {
      "cell_type": "markdown",
      "metadata": {
        "id": "XBIJB7tfj3Wn"
      },
      "source": [
        "**Return to slides here.**"
      ]
    },
    {
      "cell_type": "markdown",
      "metadata": {
        "id": "rwwoY1k6j3Wn"
      },
      "source": [
        "### Generalizing Determinants"
      ]
    },
    {
      "cell_type": "code",
      "metadata": {
        "colab": {
          "base_uri": "https://localhost:8080/"
        },
        "id": "bqjRKaCaj3Wn",
        "outputId": "e0ade6d1-2d9f-45ac-8869-c5103d82f6d5"
      },
      "source": [
        "X = np.array([[1, 2, 4], [2, -1, 3], [0, 5, 1]])\n",
        "X"
      ],
      "execution_count": null,
      "outputs": [
        {
          "output_type": "execute_result",
          "data": {
            "text/plain": [
              "array([[ 1,  2,  4],\n",
              "       [ 2, -1,  3],\n",
              "       [ 0,  5,  1]])"
            ]
          },
          "metadata": {
            "tags": []
          },
          "execution_count": 123
        }
      ]
    },
    {
      "cell_type": "code",
      "metadata": {
        "colab": {
          "base_uri": "https://localhost:8080/"
        },
        "id": "uimvv39Nj3Wp",
        "outputId": "ab87a52f-fa2e-479f-b7c0-71ada9df8a91"
      },
      "source": [
        "np.linalg.det(X)"
      ],
      "execution_count": null,
      "outputs": [
        {
          "output_type": "execute_result",
          "data": {
            "text/plain": [
              "19.999999999999996"
            ]
          },
          "metadata": {
            "tags": []
          },
          "execution_count": 124
        }
      ]
    },
    {
      "cell_type": "markdown",
      "metadata": {
        "id": "hQEG5ad1rmr2"
      },
      "source": [
        "**Return to slides here.**"
      ]
    },
    {
      "cell_type": "markdown",
      "metadata": {
        "id": "d2MIHl4MLWw0"
      },
      "source": [
        "### Determinants & Eigenvalues"
      ]
    },
    {
      "cell_type": "code",
      "metadata": {
        "colab": {
          "base_uri": "https://localhost:8080/"
        },
        "id": "g0uEEY2qj3X6",
        "outputId": "3d6f3bb2-8c99-4bb8-96fc-ddff7a1cb8e0"
      },
      "source": [
        "lambdas, V = np.linalg.eig(X)\n",
        "lambdas"
      ],
      "execution_count": null,
      "outputs": [
        {
          "output_type": "execute_result",
          "data": {
            "text/plain": [
              "array([-3.25599251, -1.13863631,  5.39462882])"
            ]
          },
          "metadata": {
            "tags": []
          },
          "execution_count": 125
        }
      ]
    },
    {
      "cell_type": "code",
      "metadata": {
        "colab": {
          "base_uri": "https://localhost:8080/"
        },
        "id": "41P8dP9Gj3X8",
        "outputId": "13eb549a-c9a3-4177-dcb6-0c0ad1509e94"
      },
      "source": [
        "np.product(lambdas)"
      ],
      "execution_count": null,
      "outputs": [
        {
          "output_type": "execute_result",
          "data": {
            "text/plain": [
              "19.99999999999999"
            ]
          },
          "metadata": {
            "tags": []
          },
          "execution_count": 126
        }
      ]
    },
    {
      "cell_type": "markdown",
      "metadata": {
        "id": "Rf83gqIULWw2"
      },
      "source": [
        "**Return to slides here.**"
      ]
    },
    {
      "cell_type": "markdown",
      "metadata": {
        "id": "6zNOgq7I62YA"
      },
      "source": [
        "Here's $|\\text{det}(X)|$ in NumPy: "
      ]
    },
    {
      "cell_type": "code",
      "metadata": {
        "colab": {
          "base_uri": "https://localhost:8080/"
        },
        "id": "a7Bleu07j3X-",
        "outputId": "0d8a701b-d685-4b45-d2f4-4e751323f1e1"
      },
      "source": [
        "np.abs(np.linalg.det(X))"
      ],
      "execution_count": null,
      "outputs": [
        {
          "output_type": "execute_result",
          "data": {
            "text/plain": [
              "19.999999999999996"
            ]
          },
          "metadata": {
            "tags": []
          },
          "execution_count": 127
        }
      ]
    },
    {
      "cell_type": "markdown",
      "metadata": {
        "id": "KZQaYZ0q7Zn2"
      },
      "source": [
        "Let's use a matrix $B$, which is composed of basis vectors, to explore the impact of applying matrices with varying $|\\text{det}(X)|$ values: "
      ]
    },
    {
      "cell_type": "code",
      "metadata": {
        "colab": {
          "base_uri": "https://localhost:8080/"
        },
        "id": "rMPe8LOXj3X_",
        "outputId": "348000cf-8843-45aa-f8fa-0a3a485e4779"
      },
      "source": [
        "B = np.array([[1, 0], [0, 1]])\n",
        "B"
      ],
      "execution_count": null,
      "outputs": [
        {
          "output_type": "execute_result",
          "data": {
            "text/plain": [
              "array([[1, 0],\n",
              "       [0, 1]])"
            ]
          },
          "metadata": {
            "tags": []
          },
          "execution_count": 128
        }
      ]
    },
    {
      "cell_type": "code",
      "metadata": {
        "colab": {
          "base_uri": "https://localhost:8080/",
          "height": 269
        },
        "id": "zlhnOiNzj3YA",
        "outputId": "61573bd9-2620-49b9-88c7-31b02aee8c50"
      },
      "source": [
        "plot_vectors([vectorfy(B, 0), vectorfy(B, 1)],\n",
        "            ['lightblue', 'lightgreen'])\n",
        "plt.xlim(-1, 3)\n",
        "_ = plt.ylim(-1, 3)"
      ],
      "execution_count": null,
      "outputs": [
        {
          "output_type": "display_data",
          "data": {
            "image/png": "[encoded data removed]",
            "text/plain": [
              "<Figure size 432x288 with 1 Axes>"
            ]
          },
          "metadata": {
            "tags": [],
            "needs_background": "light"
          }
        }
      ]
    },
    {
      "cell_type": "markdown",
      "metadata": {
        "id": "RIkz1gCO7_TW"
      },
      "source": [
        "Let's start by applying the matrix $N$ to $B$, recalling from earlier that $N$ is singular: "
      ]
    },
    {
      "cell_type": "code",
      "metadata": {
        "colab": {
          "base_uri": "https://localhost:8080/"
        },
        "id": "Fjpem_6Ij3YB",
        "outputId": "a25e3e2d-12c5-4dbf-d3c3-3c0c6a909a0f"
      },
      "source": [
        "N"
      ],
      "execution_count": null,
      "outputs": [
        {
          "output_type": "execute_result",
          "data": {
            "text/plain": [
              "tensor([[-4.,  1.],\n",
              "        [-8.,  2.]])"
            ]
          },
          "metadata": {
            "tags": []
          },
          "execution_count": 130
        }
      ]
    },
    {
      "cell_type": "code",
      "metadata": {
        "colab": {
          "base_uri": "https://localhost:8080/"
        },
        "id": "2BhgWTvaj3YC",
        "outputId": "7e0e86a9-7ee1-4a3c-a1f5-acfec5845364"
      },
      "source": [
        "np.linalg.det(N)"
      ],
      "execution_count": null,
      "outputs": [
        {
          "output_type": "execute_result",
          "data": {
            "text/plain": [
              "0.0"
            ]
          },
          "metadata": {
            "tags": []
          },
          "execution_count": 131
        }
      ]
    },
    {
      "cell_type": "code",
      "metadata": {
        "colab": {
          "base_uri": "https://localhost:8080/"
        },
        "id": "O3XSySPaj3YE",
        "outputId": "fa2fbce7-466d-46ec-e854-31293e4e9344"
      },
      "source": [
        "NB = np.dot(N, B)\n",
        "NB"
      ],
      "execution_count": null,
      "outputs": [
        {
          "output_type": "execute_result",
          "data": {
            "text/plain": [
              "array([[-4.,  1.],\n",
              "       [-8.,  2.]])"
            ]
          },
          "metadata": {
            "tags": []
          },
          "execution_count": 132
        }
      ]
    },
    {
      "cell_type": "code",
      "metadata": {
        "colab": {
          "base_uri": "https://localhost:8080/",
          "height": 265
        },
        "id": "GLiyz0nxj3YF",
        "outputId": "8a076890-a688-4f2d-a9c5-92f438b3b2fc"
      },
      "source": [
        "plot_vectors([vectorfy(B, 0), vectorfy(B, 1), vectorfy(NB, 0), vectorfy(NB, 1)],\n",
        "            ['lightblue', 'lightgreen', 'blue', 'green'])\n",
        "plt.xlim(-6, 6)\n",
        "_ = plt.ylim(-9, 3)"
      ],
      "execution_count": null,
      "outputs": [
        {
          "output_type": "display_data",
          "data": {
            "image/png": "[encoded data removed]",
            "text/plain": [
              "<Figure size 432x288 with 1 Axes>"
            ]
          },
          "metadata": {
            "tags": [],
            "needs_background": "light"
          }
        }
      ]
    },
    {
      "cell_type": "code",
      "metadata": {
        "id": "9ErYF2Ss5zZj",
        "colab": {
          "base_uri": "https://localhost:8080/"
        },
        "outputId": "f3480d94-d262-4501-d513-94d79f2bd7e0"
      },
      "source": [
        "lambdas, V = np.linalg.eig(N)\n",
        "lambdas"
      ],
      "execution_count": null,
      "outputs": [
        {
          "output_type": "execute_result",
          "data": {
            "text/plain": [
              "array([-2.,  0.], dtype=float32)"
            ]
          },
          "metadata": {
            "tags": []
          },
          "execution_count": 134
        }
      ]
    },
    {
      "cell_type": "markdown",
      "metadata": {
        "id": "TLwFZuuN8L78"
      },
      "source": [
        "Aha! If any one of a matrix's eigenvalues is zero, then the product of the eigenvalues must be zero and the determinant must also be zero. "
      ]
    },
    {
      "cell_type": "markdown",
      "metadata": {
        "id": "tT6ZmuaN8cwJ"
      },
      "source": [
        "Now let's try applying $I_2$ to $B$: "
      ]
    },
    {
      "cell_type": "code",
      "metadata": {
        "colab": {
          "base_uri": "https://localhost:8080/"
        },
        "id": "mqEkY-8lj3YH",
        "outputId": "577168b0-e809-41a2-db9c-1672032b48d1"
      },
      "source": [
        "I"
      ],
      "execution_count": null,
      "outputs": [
        {
          "output_type": "execute_result",
          "data": {
            "text/plain": [
              "array([[1, 0],\n",
              "       [0, 1]])"
            ]
          },
          "metadata": {
            "tags": []
          },
          "execution_count": 135
        }
      ]
    },
    {
      "cell_type": "code",
      "metadata": {
        "colab": {
          "base_uri": "https://localhost:8080/"
        },
        "id": "zwmKA0wLj3YI",
        "outputId": "e0a8ecba-7c93-49e8-dd2c-7a9633f660bf"
      },
      "source": [
        "np.linalg.det(I)"
      ],
      "execution_count": null,
      "outputs": [
        {
          "output_type": "execute_result",
          "data": {
            "text/plain": [
              "1.0"
            ]
          },
          "metadata": {
            "tags": []
          },
          "execution_count": 136
        }
      ]
    },
    {
      "cell_type": "code",
      "metadata": {
        "colab": {
          "base_uri": "https://localhost:8080/"
        },
        "id": "xaIq_dUKj3YJ",
        "outputId": "61861e02-8c3f-49f5-ab03-32c917e5248c"
      },
      "source": [
        "IB = np.dot(I, B)\n",
        "IB"
      ],
      "execution_count": null,
      "outputs": [
        {
          "output_type": "execute_result",
          "data": {
            "text/plain": [
              "array([[1, 0],\n",
              "       [0, 1]])"
            ]
          },
          "metadata": {
            "tags": []
          },
          "execution_count": 137
        }
      ]
    },
    {
      "cell_type": "code",
      "metadata": {
        "colab": {
          "base_uri": "https://localhost:8080/",
          "height": 269
        },
        "id": "8y6svzaLj3YK",
        "outputId": "19acbe5a-ce55-4d2c-bc72-7a45cc41b252"
      },
      "source": [
        "plot_vectors([vectorfy(B, 0), vectorfy(B, 1), vectorfy(IB, 0), vectorfy(IB, 1)],\n",
        "            ['lightblue', 'lightgreen', 'blue', 'green'])\n",
        "plt.xlim(-1, 3)\n",
        "_ = plt.ylim(-1, 3)"
      ],
      "execution_count": null,
      "outputs": [
        {
          "output_type": "display_data",
          "data": {
            "image/png": "[encoded data removed]",
            "text/plain": [
              "<Figure size 432x288 with 1 Axes>"
            ]
          },
          "metadata": {
            "tags": [],
            "needs_background": "light"
          }
        }
      ]
    },
    {
      "cell_type": "code",
      "metadata": {
        "id": "IWkwRV_46T-q",
        "colab": {
          "base_uri": "https://localhost:8080/"
        },
        "outputId": "39bf046d-1161-4887-dd49-4ada23197341"
      },
      "source": [
        "lambdas, V = np.linalg.eig(I)\n",
        "lambdas"
      ],
      "execution_count": null,
      "outputs": [
        {
          "output_type": "execute_result",
          "data": {
            "text/plain": [
              "array([1., 1.])"
            ]
          },
          "metadata": {
            "tags": []
          },
          "execution_count": 139
        }
      ]
    },
    {
      "cell_type": "markdown",
      "metadata": {
        "id": "Dfrv5ipF9Nx3"
      },
      "source": [
        "All right, so applying an identity matrix isn't the most exciting operation in the world. Let's now apply this matrix $J$ which is more interesting: "
      ]
    },
    {
      "cell_type": "code",
      "metadata": {
        "colab": {
          "base_uri": "https://localhost:8080/"
        },
        "id": "Xj4bnqVcj3YL",
        "outputId": "987e2ce1-72b2-493f-8aeb-8366a5302017"
      },
      "source": [
        "J = np.array([[-0.5, 0], [0, 2]])\n",
        "J"
      ],
      "execution_count": null,
      "outputs": [
        {
          "output_type": "execute_result",
          "data": {
            "text/plain": [
              "array([[-0.5,  0. ],\n",
              "       [ 0. ,  2. ]])"
            ]
          },
          "metadata": {
            "tags": []
          },
          "execution_count": 140
        }
      ]
    },
    {
      "cell_type": "code",
      "metadata": {
        "colab": {
          "base_uri": "https://localhost:8080/"
        },
        "id": "D2ODTOpAj3YM",
        "outputId": "b9335a15-225e-4f09-9a3e-0972aecddee1"
      },
      "source": [
        "np.linalg.det(J)"
      ],
      "execution_count": null,
      "outputs": [
        {
          "output_type": "execute_result",
          "data": {
            "text/plain": [
              "-1.0"
            ]
          },
          "metadata": {
            "tags": []
          },
          "execution_count": 141
        }
      ]
    },
    {
      "cell_type": "code",
      "metadata": {
        "colab": {
          "base_uri": "https://localhost:8080/"
        },
        "id": "3kHJ7Q2Ij3YN",
        "outputId": "9bdedc29-6c36-4b00-ad2a-dd8628cdc4ea"
      },
      "source": [
        "np.abs(np.linalg.det(J))"
      ],
      "execution_count": null,
      "outputs": [
        {
          "output_type": "execute_result",
          "data": {
            "text/plain": [
              "1.0"
            ]
          },
          "metadata": {
            "tags": []
          },
          "execution_count": 142
        }
      ]
    },
    {
      "cell_type": "code",
      "metadata": {
        "colab": {
          "base_uri": "https://localhost:8080/"
        },
        "id": "ABciINQwj3YO",
        "outputId": "0b0f0af3-bd62-43fc-d8cb-961efdfa9b4f"
      },
      "source": [
        "JB = np.dot(J, B)\n",
        "JB"
      ],
      "execution_count": null,
      "outputs": [
        {
          "output_type": "execute_result",
          "data": {
            "text/plain": [
              "array([[-0.5,  0. ],\n",
              "       [ 0. ,  2. ]])"
            ]
          },
          "metadata": {
            "tags": []
          },
          "execution_count": 143
        }
      ]
    },
    {
      "cell_type": "code",
      "metadata": {
        "colab": {
          "base_uri": "https://localhost:8080/",
          "height": 269
        },
        "id": "5nWa22ZNj3YO",
        "outputId": "e1149289-9d5f-4f30-806e-d4088d8b8575"
      },
      "source": [
        "plot_vectors([vectorfy(B, 0), vectorfy(B, 1), vectorfy(JB, 0), vectorfy(JB, 1)],\n",
        "            ['lightblue', 'lightgreen', 'blue', 'green'])\n",
        "plt.xlim(-1, 3)\n",
        "_ = plt.ylim(-1, 3)"
      ],
      "execution_count": null,
      "outputs": [
        {
          "output_type": "display_data",
          "data": {
            "image/png": "[encoded data removed]",
            "text/plain": [
              "<Figure size 432x288 with 1 Axes>"
            ]
          },
          "metadata": {
            "tags": [],
            "needs_background": "light"
          }
        }
      ]
    },
    {
      "cell_type": "code",
      "metadata": {
        "id": "K4GTT7Ja6azt",
        "colab": {
          "base_uri": "https://localhost:8080/"
        },
        "outputId": "0f37faa6-5a11-43b1-8197-177f39f93f29"
      },
      "source": [
        "lambdas, V = np.linalg.eig(J)\n",
        "lambdas"
      ],
      "execution_count": null,
      "outputs": [
        {
          "output_type": "execute_result",
          "data": {
            "text/plain": [
              "array([-0.5,  2. ])"
            ]
          },
          "metadata": {
            "tags": []
          },
          "execution_count": 145
        }
      ]
    },
    {
      "cell_type": "markdown",
      "metadata": {
        "id": "b1KENtMQ9g4g"
      },
      "source": [
        "Finally, let's apply the matrix $D$, which scales vectors by doubling along both the $x$ and $y$ axes: "
      ]
    },
    {
      "cell_type": "code",
      "metadata": {
        "id": "u-OI7xBWj3YQ",
        "colab": {
          "base_uri": "https://localhost:8080/"
        },
        "outputId": "e6541a38-11ac-458a-ec58-cd8d44143f13"
      },
      "source": [
        "D = I*2\n",
        "D"
      ],
      "execution_count": null,
      "outputs": [
        {
          "output_type": "execute_result",
          "data": {
            "text/plain": [
              "array([[2, 0],\n",
              "       [0, 2]])"
            ]
          },
          "metadata": {
            "tags": []
          },
          "execution_count": 146
        }
      ]
    },
    {
      "cell_type": "code",
      "metadata": {
        "colab": {
          "base_uri": "https://localhost:8080/"
        },
        "id": "iKoTu9sbj3YR",
        "outputId": "c15b37f2-af9c-4b97-aab7-8a04055b0cfc"
      },
      "source": [
        "np.linalg.det(D)"
      ],
      "execution_count": null,
      "outputs": [
        {
          "output_type": "execute_result",
          "data": {
            "text/plain": [
              "4.0"
            ]
          },
          "metadata": {
            "tags": []
          },
          "execution_count": 147
        }
      ]
    },
    {
      "cell_type": "code",
      "metadata": {
        "colab": {
          "base_uri": "https://localhost:8080/"
        },
        "id": "kTb0o2Ydj3YS",
        "outputId": "294eda68-feda-4538-fbdf-def2a56fa453"
      },
      "source": [
        "DB = np.dot(D, B)\n",
        "DB"
      ],
      "execution_count": null,
      "outputs": [
        {
          "output_type": "execute_result",
          "data": {
            "text/plain": [
              "array([[2, 0],\n",
              "       [0, 2]])"
            ]
          },
          "metadata": {
            "tags": []
          },
          "execution_count": 148
        }
      ]
    },
    {
      "cell_type": "code",
      "metadata": {
        "colab": {
          "base_uri": "https://localhost:8080/",
          "height": 269
        },
        "id": "3J2ou_zSj3YT",
        "outputId": "fa18904f-980e-441b-e90a-ceba3d03bb4c"
      },
      "source": [
        "plot_vectors([vectorfy(B, 0), vectorfy(B, 1), vectorfy(DB, 0), vectorfy(DB, 1)],\n",
        "            ['lightblue', 'lightgreen', 'blue', 'green'])\n",
        "plt.xlim(-1, 3)\n",
        "_ = plt.ylim(-1, 3)"
      ],
      "execution_count": null,
      "outputs": [
        {
          "output_type": "display_data",
          "data": {
            "image/png": "[encoded data removed]",
            "text/plain": [
              "<Figure size 432x288 with 1 Axes>"
            ]
          },
          "metadata": {
            "tags": [],
            "needs_background": "light"
          }
        }
      ]
    },
    {
      "cell_type": "code",
      "metadata": {
        "id": "kTfi_wGC-QCL",
        "colab": {
          "base_uri": "https://localhost:8080/"
        },
        "outputId": "84a7fc47-74a5-4330-d582-08d18e9d4c5e"
      },
      "source": [
        "lambdas, V = np.linalg.eig(D)\n",
        "lambdas"
      ],
      "execution_count": null,
      "outputs": [
        {
          "output_type": "execute_result",
          "data": {
            "text/plain": [
              "array([2., 2.])"
            ]
          },
          "metadata": {
            "tags": []
          },
          "execution_count": 150
        }
      ]
    },
    {
      "cell_type": "markdown",
      "metadata": {
        "id": "Av0R8fddj3Yb"
      },
      "source": [
        "**Return to slides here.**"
      ]
    },
    {
      "cell_type": "markdown",
      "metadata": {
        "id": "MXNajp3Ej3Yb"
      },
      "source": [
        "### Eigendecomposition"
      ]
    },
    {
      "cell_type": "markdown",
      "metadata": {
        "id": "wQt403xbj3Yb"
      },
      "source": [
        "The **eigendecomposition** of some matrix $A$ is \n",
        "\n",
        "$A = V \\Lambda V^{-1}$\n",
        "\n",
        "Where: \n",
        "\n",
        "* As in examples above, $V$ is the concatenation of all the eigenvectors of $A$\n",
        "* $\\Lambda$ (upper-case $\\lambda$) is the diagonal matrix diag($\\lambda$). Note that the convention is to arrange the lambda values in descending order; as a result, the first eigenvalue (and its associated eigenvector) may be a primary characteristic of the matrix $A$."
      ]
    },
    {
      "cell_type": "code",
      "metadata": {
        "id": "W7LmR3YGj3Yb",
        "colab": {
          "base_uri": "https://localhost:8080/"
        },
        "outputId": "a05b99fd-1f68-4073-f40b-9288f7dffb5b"
      },
      "source": [
        "# This was used earlier as a matrix X; it has nice clean integer eigenvalues...\n",
        "A = np.array([[4, 2], [-5, -3]]) \n",
        "A"
      ],
      "execution_count": null,
      "outputs": [
        {
          "output_type": "execute_result",
          "data": {
            "text/plain": [
              "array([[ 4,  2],\n",
              "       [-5, -3]])"
            ]
          },
          "metadata": {
            "tags": []
          },
          "execution_count": 151
        }
      ]
    },
    {
      "cell_type": "code",
      "metadata": {
        "id": "37zeBrqhj3Yc"
      },
      "source": [
        "lambdas, V = np.linalg.eig(A)"
      ],
      "execution_count": null,
      "outputs": []
    },
    {
      "cell_type": "code",
      "metadata": {
        "id": "b7LtIIMJj3Yd",
        "colab": {
          "base_uri": "https://localhost:8080/"
        },
        "outputId": "1558c22f-368c-4a1a-894d-8a35a8c163a5"
      },
      "source": [
        "V"
      ],
      "execution_count": null,
      "outputs": [
        {
          "output_type": "execute_result",
          "data": {
            "text/plain": [
              "array([[ 0.70710678, -0.37139068],\n",
              "       [-0.70710678,  0.92847669]])"
            ]
          },
          "metadata": {
            "tags": []
          },
          "execution_count": 153
        }
      ]
    },
    {
      "cell_type": "code",
      "metadata": {
        "id": "q1uuRwcdj3Ye",
        "colab": {
          "base_uri": "https://localhost:8080/"
        },
        "outputId": "3cd86242-e4f9-43c5-9786-cc0f3eeb33c2"
      },
      "source": [
        "Vinv = np.linalg.inv(V)\n",
        "Vinv"
      ],
      "execution_count": null,
      "outputs": [
        {
          "output_type": "execute_result",
          "data": {
            "text/plain": [
              "array([[2.3570226 , 0.94280904],\n",
              "       [1.79505494, 1.79505494]])"
            ]
          },
          "metadata": {
            "tags": []
          },
          "execution_count": 154
        }
      ]
    },
    {
      "cell_type": "code",
      "metadata": {
        "id": "_InHRuS1j3Yf",
        "colab": {
          "base_uri": "https://localhost:8080/"
        },
        "outputId": "517d12a9-c9a6-46ad-8624-2209e3065f44"
      },
      "source": [
        "Lambda = np.diag(lambdas)\n",
        "Lambda"
      ],
      "execution_count": null,
      "outputs": [
        {
          "output_type": "execute_result",
          "data": {
            "text/plain": [
              "array([[ 2.,  0.],\n",
              "       [ 0., -1.]])"
            ]
          },
          "metadata": {
            "tags": []
          },
          "execution_count": 155
        }
      ]
    },
    {
      "cell_type": "markdown",
      "metadata": {
        "id": "KSBnzTBZj3Yg"
      },
      "source": [
        "Confirm that $A = V \\Lambda V^{-1}$: "
      ]
    },
    {
      "cell_type": "code",
      "metadata": {
        "id": "pG1E3yLYj3Yg",
        "colab": {
          "base_uri": "https://localhost:8080/"
        },
        "outputId": "d0d5f55d-ad40-468e-9b59-b01544169863"
      },
      "source": [
        "np.dot(V, np.dot(Lambda, Vinv))"
      ],
      "execution_count": null,
      "outputs": [
        {
          "output_type": "execute_result",
          "data": {
            "text/plain": [
              "array([[ 4.,  2.],\n",
              "       [-5., -3.]])"
            ]
          },
          "metadata": {
            "tags": []
          },
          "execution_count": 156
        }
      ]
    },
    {
      "cell_type": "markdown",
      "metadata": {
        "id": "JTmKZk8fj3Yh"
      },
      "source": [
        "Eigendecomposition is not possible with all matrices. And in some cases where it is possible, the eigendecomposition involves complex numbers instead of straightforward real numbers. \n",
        "\n",
        "In machine learning, however, we are typically working with real symmetric matrices, which can be conveniently and efficiently decomposed into real-only eigenvectors and real-only eigenvalues. If $A$ is a real symmetric matrix then...\n",
        "\n",
        "$A = Q \\Lambda Q^T$\n",
        "\n",
        "...where $Q$ is analogous to $V$ from the previous equation except that it's special because it's an orthogonal matrix. "
      ]
    },
    {
      "cell_type": "code",
      "metadata": {
        "id": "GpZLd9Ozj3Yh",
        "colab": {
          "base_uri": "https://localhost:8080/"
        },
        "outputId": "cb9d2c0f-10e2-4a90-a8bc-0f8b9b3030bc"
      },
      "source": [
        "A = np.array([[2, 1], [1, 2]])\n",
        "A"
      ],
      "execution_count": null,
      "outputs": [
        {
          "output_type": "execute_result",
          "data": {
            "text/plain": [
              "array([[2, 1],\n",
              "       [1, 2]])"
            ]
          },
          "metadata": {
            "tags": []
          },
          "execution_count": 157
        }
      ]
    },
    {
      "cell_type": "code",
      "metadata": {
        "id": "EJOgExEZj3Yj"
      },
      "source": [
        "lambdas, Q = np.linalg.eig(A)"
      ],
      "execution_count": null,
      "outputs": []
    },
    {
      "cell_type": "code",
      "metadata": {
        "id": "9qouDzN5j3Yk",
        "colab": {
          "base_uri": "https://localhost:8080/"
        },
        "outputId": "3d2a6b59-8bf4-411f-dec1-7030e2790cc8"
      },
      "source": [
        "lambdas"
      ],
      "execution_count": null,
      "outputs": [
        {
          "output_type": "execute_result",
          "data": {
            "text/plain": [
              "array([3., 1.])"
            ]
          },
          "metadata": {
            "tags": []
          },
          "execution_count": 159
        }
      ]
    },
    {
      "cell_type": "code",
      "metadata": {
        "id": "JZFyXQzkj3Yl",
        "colab": {
          "base_uri": "https://localhost:8080/"
        },
        "outputId": "5f50e622-6b1f-47c4-9ca9-9fa985350c1e"
      },
      "source": [
        "Lambda = np.diag(lambdas)\n",
        "Lambda"
      ],
      "execution_count": null,
      "outputs": [
        {
          "output_type": "execute_result",
          "data": {
            "text/plain": [
              "array([[3., 0.],\n",
              "       [0., 1.]])"
            ]
          },
          "metadata": {
            "tags": []
          },
          "execution_count": 160
        }
      ]
    },
    {
      "cell_type": "code",
      "metadata": {
        "id": "BLXaGoVBj3Yl",
        "colab": {
          "base_uri": "https://localhost:8080/"
        },
        "outputId": "31dac6db-a335-4a5f-b30b-a379c9fa34aa"
      },
      "source": [
        "Q"
      ],
      "execution_count": null,
      "outputs": [
        {
          "output_type": "execute_result",
          "data": {
            "text/plain": [
              "array([[ 0.70710678, -0.70710678],\n",
              "       [ 0.70710678,  0.70710678]])"
            ]
          },
          "metadata": {
            "tags": []
          },
          "execution_count": 161
        }
      ]
    },
    {
      "cell_type": "markdown",
      "metadata": {
        "id": "UnOfuIf7j3Yo"
      },
      "source": [
        "Let's confirm $A = Q \\Lambda Q^T$: "
      ]
    },
    {
      "cell_type": "code",
      "metadata": {
        "id": "k4DukMWJj3Yo",
        "colab": {
          "base_uri": "https://localhost:8080/"
        },
        "outputId": "3f63b1df-262d-4391-8441-a768428e63f2"
      },
      "source": [
        "np.dot(Q, np.dot(Lambda, Q.T))"
      ],
      "execution_count": null,
      "outputs": [
        {
          "output_type": "execute_result",
          "data": {
            "text/plain": [
              "array([[2., 1.],\n",
              "       [1., 2.]])"
            ]
          },
          "metadata": {
            "tags": []
          },
          "execution_count": 162
        }
      ]
    },
    {
      "cell_type": "markdown",
      "metadata": {
        "id": "_eq_1nssj3Ym"
      },
      "source": [
        "(As a quick aside, we can demostrate that $Q$ is an orthogonal matrix because $Q^TQ = QQ^T = I$.)"
      ]
    },
    {
      "cell_type": "code",
      "metadata": {
        "id": "TcavBhdEj3Ym",
        "colab": {
          "base_uri": "https://localhost:8080/"
        },
        "outputId": "b70d091a-811d-41cd-a3aa-5df504445da4"
      },
      "source": [
        "np.dot(Q.T, Q)"
      ],
      "execution_count": null,
      "outputs": [
        {
          "output_type": "execute_result",
          "data": {
            "text/plain": [
              "array([[1.00000000e+00, 2.23711432e-17],\n",
              "       [2.23711432e-17, 1.00000000e+00]])"
            ]
          },
          "metadata": {
            "tags": []
          },
          "execution_count": 163
        }
      ]
    },
    {
      "cell_type": "code",
      "metadata": {
        "id": "xup113b8j3Yo",
        "colab": {
          "base_uri": "https://localhost:8080/"
        },
        "outputId": "4a2bc99b-af0f-4ebb-83db-1c6c1accc449"
      },
      "source": [
        "np.dot(Q, Q.T)"
      ],
      "execution_count": null,
      "outputs": [
        {
          "output_type": "execute_result",
          "data": {
            "text/plain": [
              "array([[ 1.00000000e+00, -2.23711432e-17],\n",
              "       [-2.23711432e-17,  1.00000000e+00]])"
            ]
          },
          "metadata": {
            "tags": []
          },
          "execution_count": 164
        }
      ]
    },
    {
      "cell_type": "markdown",
      "metadata": {
        "id": "fdJaTKnsj3Yp"
      },
      "source": [
        "**Exercises**:\n",
        "\n",
        "1. Use PyTorch to decompose the matrix $P$ (below) into its components $V$, $\\Lambda$, and $V^{-1}$. Confirm that $P = V \\Lambda V^{-1}$.\n",
        "2. Use PyTorch to decompose the symmetric matrix $S$ (below) into its components $Q$, $\\Lambda$, and $Q^T$. Confirm that $S = Q \\Lambda Q^T$."
      ]
    },
    {
      "cell_type": "code",
      "metadata": {
        "id": "_RVUCVlvj3Yp",
        "colab": {
          "base_uri": "https://localhost:8080/"
        },
        "outputId": "ad6a4154-c7ed-4a67-9d70-545c6f014240"
      },
      "source": [
        "P = torch.tensor([[25, 2, -5], [3, -2, 1], [5, 7, 4.]])\n",
        "P"
      ],
      "execution_count": null,
      "outputs": [
        {
          "output_type": "execute_result",
          "data": {
            "text/plain": [
              "tensor([[25.,  2., -5.],\n",
              "        [ 3., -2.,  1.],\n",
              "        [ 5.,  7.,  4.]])"
            ]
          },
          "metadata": {
            "tags": []
          },
          "execution_count": 165
        }
      ]
    },
    {
      "cell_type": "code",
      "metadata": {
        "id": "GjKZ_AWLj3Yq",
        "colab": {
          "base_uri": "https://localhost:8080/"
        },
        "outputId": "5ad1a522-fab3-46d3-88eb-ea4bb4a365fc"
      },
      "source": [
        "S = torch.tensor([[25, 2, -5], [2, -2, 1], [-5, 1, 4.]])\n",
        "S"
      ],
      "execution_count": null,
      "outputs": [
        {
          "output_type": "execute_result",
          "data": {
            "text/plain": [
              "tensor([[25.,  2., -5.],\n",
              "        [ 2., -2.,  1.],\n",
              "        [-5.,  1.,  4.]])"
            ]
          },
          "metadata": {
            "tags": []
          },
          "execution_count": 166
        }
      ]
    },
    {
      "cell_type": "markdown",
      "metadata": {
        "id": "1OFq3uGaj3Yq"
      },
      "source": [
        "**Return to slides here.**"
      ]
    },
    {
      "cell_type": "markdown",
      "metadata": {
        "id": "gKam0tJOj3Yr"
      },
      "source": [
        "## Segment 3: Matrix Operations for ML"
      ]
    },
    {
      "cell_type": "markdown",
      "metadata": {
        "id": "j-wbn7omj3Yr"
      },
      "source": [
        "### Singular Value Decomposition (SVD)"
      ]
    },
    {
      "cell_type": "markdown",
      "metadata": {
        "id": "x2SHytttj3Yr"
      },
      "source": [
        "As on slides, SVD of matrix $A$ is: \n",
        "\n",
        "$A = UDV^T$\n",
        "\n",
        "Where: \n",
        "\n",
        "* $U$ is an orthogonal $m \\times m$ matrix; its columns are the **left-singular vectors** of $A$.\n",
        "* $V$ is an orthogonal $n \\times n$ matrix; its columns are the **right-singular vectors** of $A$.\n",
        "* $D$ is a diagonal $m \\times n$ matrix; elements along its diagonal are the **singular values** of $A$."
      ]
    },
    {
      "cell_type": "code",
      "metadata": {
        "id": "V7hR4Htdj3Yr",
        "colab": {
          "base_uri": "https://localhost:8080/"
        },
        "outputId": "d97b4830-1135-4d7c-b099-6280f8ab391a"
      },
      "source": [
        "A = np.array([[-1, 2], [3, -2], [5, 7]])\n",
        "A"
      ],
      "execution_count": null,
      "outputs": [
        {
          "output_type": "execute_result",
          "data": {
            "text/plain": [
              "array([[-1,  2],\n",
              "       [ 3, -2],\n",
              "       [ 5,  7]])"
            ]
          },
          "metadata": {
            "tags": []
          },
          "execution_count": 167
        }
      ]
    },
    {
      "cell_type": "code",
      "metadata": {
        "id": "ihj2XfMQj3Ys"
      },
      "source": [
        "U, d, VT = np.linalg.svd(A) # V is already transposed"
      ],
      "execution_count": null,
      "outputs": []
    },
    {
      "cell_type": "code",
      "metadata": {
        "id": "DUfP2aaTj3Yv",
        "colab": {
          "base_uri": "https://localhost:8080/"
        },
        "outputId": "497735ae-89ea-4525-a040-f1d11d754e29"
      },
      "source": [
        "U"
      ],
      "execution_count": null,
      "outputs": [
        {
          "output_type": "execute_result",
          "data": {
            "text/plain": [
              "array([[ 0.12708324,  0.47409506,  0.87125411],\n",
              "       [ 0.00164602, -0.87847553,  0.47778451],\n",
              "       [ 0.99189069, -0.0592843 , -0.11241989]])"
            ]
          },
          "metadata": {
            "tags": []
          },
          "execution_count": 169
        }
      ]
    },
    {
      "cell_type": "code",
      "metadata": {
        "id": "s_Fkoarvj3Yw",
        "colab": {
          "base_uri": "https://localhost:8080/"
        },
        "outputId": "5cf1e562-ed64-46dd-c8b1-05388625e4d2"
      },
      "source": [
        "VT"
      ],
      "execution_count": null,
      "outputs": [
        {
          "output_type": "execute_result",
          "data": {
            "text/plain": [
              "array([[ 0.55798885,  0.82984845],\n",
              "       [-0.82984845,  0.55798885]])"
            ]
          },
          "metadata": {
            "tags": []
          },
          "execution_count": 170
        }
      ]
    },
    {
      "cell_type": "code",
      "metadata": {
        "id": "wNSRDcfsj3Yx",
        "colab": {
          "base_uri": "https://localhost:8080/"
        },
        "outputId": "19a817f0-0666-4a6c-8f12-5a1d37fefa07"
      },
      "source": [
        "d"
      ],
      "execution_count": null,
      "outputs": [
        {
          "output_type": "execute_result",
          "data": {
            "text/plain": [
              "array([8.66918448, 4.10429538])"
            ]
          },
          "metadata": {
            "tags": []
          },
          "execution_count": 171
        }
      ]
    },
    {
      "cell_type": "code",
      "metadata": {
        "id": "Lbxh2rYoj3Yy",
        "colab": {
          "base_uri": "https://localhost:8080/"
        },
        "outputId": "2a080caf-492e-4a10-8ac5-7870bbf52ecc"
      },
      "source": [
        "np.diag(d)"
      ],
      "execution_count": null,
      "outputs": [
        {
          "output_type": "execute_result",
          "data": {
            "text/plain": [
              "array([[8.66918448, 0.        ],\n",
              "       [0.        , 4.10429538]])"
            ]
          },
          "metadata": {
            "tags": []
          },
          "execution_count": 172
        }
      ]
    },
    {
      "cell_type": "markdown",
      "metadata": {
        "id": "6JN2VA3GNIP5"
      },
      "source": [
        "$D$ must have the same dimensions as $A$ for $UDV^T$ matrix multiplication to be possible: "
      ]
    },
    {
      "cell_type": "code",
      "metadata": {
        "id": "V47I3B87j3Y0",
        "colab": {
          "base_uri": "https://localhost:8080/"
        },
        "outputId": "52643cfa-80ad-476b-d7da-10a66dd15ad9"
      },
      "source": [
        "D = np.concatenate((np.diag(d), [[0, 0]]), axis=0)\n",
        "D"
      ],
      "execution_count": null,
      "outputs": [
        {
          "output_type": "execute_result",
          "data": {
            "text/plain": [
              "array([[8.66918448, 0.        ],\n",
              "       [0.        , 4.10429538],\n",
              "       [0.        , 0.        ]])"
            ]
          },
          "metadata": {
            "tags": []
          },
          "execution_count": 173
        }
      ]
    },
    {
      "cell_type": "code",
      "metadata": {
        "id": "9euCs5vvj3Y2",
        "colab": {
          "base_uri": "https://localhost:8080/"
        },
        "outputId": "15771a45-e87e-4b9d-8a73-521e89818b2a"
      },
      "source": [
        "np.dot(U, np.dot(D, VT))"
      ],
      "execution_count": null,
      "outputs": [
        {
          "output_type": "execute_result",
          "data": {
            "text/plain": [
              "array([[-1.,  2.],\n",
              "       [ 3., -2.],\n",
              "       [ 5.,  7.]])"
            ]
          },
          "metadata": {
            "tags": []
          },
          "execution_count": 174
        }
      ]
    },
    {
      "cell_type": "markdown",
      "metadata": {
        "id": "u-WCBOzKj3Y3"
      },
      "source": [
        "SVD and eigendecomposition are closely related to each other: \n",
        "\n",
        "* Left-singular vectors of $A$ = eigenvectors of $AA^T$.\n",
        "* Right-singular vectors of $A$ = eigenvectors of $A^TA$.\n",
        "* Non-zero singular values of $A$ = square roots of eigenvalues of $AA^T$ = square roots of eigenvalues of $A^TA$\n",
        "\n",
        "**Exercise**: Using the matrix `P` from the preceding PyTorch exercises, demonstrate that these three SVD-eigendecomposition equations are true. "
      ]
    },
    {
      "cell_type": "markdown",
      "metadata": {
        "id": "CWEOMqUUj3Y3"
      },
      "source": [
        "### Image Compression via SVD"
      ]
    },
    {
      "cell_type": "markdown",
      "metadata": {
        "id": "XmRvLo_Tj3Y3"
      },
      "source": [
        "The section features code adapted from [Frank Cleary's](https://gist.github.com/frankcleary/4d2bd178708503b556b0)."
      ]
    },
    {
      "cell_type": "code",
      "metadata": {
        "id": "luD8Y98Vj3Y3"
      },
      "source": [
        "from PIL import Image"
      ],
      "execution_count": null,
      "outputs": []
    },
    {
      "cell_type": "markdown",
      "metadata": {
        "id": "thPmYUx4j3Y4"
      },
      "source": [
        "Fetch photo of Oboe, a terrier, with the book *Deep Learning Illustrated*: "
      ]
    },
    {
      "cell_type": "code",
      "metadata": {
        "id": "bPUItNUVj3Y4",
        "colab": {
          "base_uri": "https://localhost:8080/"
        },
        "outputId": "816b8dd0-5606-4e39-dac4-205dbe012587"
      },
      "source": [
        "! wget https://raw.githubusercontent.com/jonkrohn/DLTFpT/master/notebooks/oboe-with-book.jpg"
      ],
      "execution_count": null,
      "outputs": [
        {
          "output_type": "stream",
          "text": [
            "--2021-07-29 00:32:03--  https://raw.githubusercontent.com/jonkrohn/DLTFpT/master/notebooks/oboe-with-book.jpg\n",
            "Resolving raw.githubusercontent.com (raw.githubusercontent.com)... 185.199.108.133, 185.199.109.133, 185.199.110.133, ...\n",
            "Connecting to raw.githubusercontent.com (raw.githubusercontent.com)|185.199.108.133|:443... connected.\n",
            "HTTP request sent, awaiting response... 200 OK\n",
            "Length: 419564 (410K) [image/jpeg]\n",
            "Saving to: ‘oboe-with-book.jpg’\n",
            "\n",
            "oboe-with-book.jpg  100%[===================>] 409.73K  --.-KB/s    in 0.04s   \n",
            "\n",
            "2021-07-29 00:32:03 (11.1 MB/s) - ‘oboe-with-book.jpg’ saved [419564/419564]\n",
            "\n"
          ],
          "name": "stdout"
        }
      ]
    },
    {
      "cell_type": "code",
      "metadata": {
        "id": "6lx_Frl6j3Y6",
        "colab": {
          "base_uri": "https://localhost:8080/",
          "height": 269
        },
        "outputId": "c459e154-20c9-4dc9-e88c-78e83793e7bd"
      },
      "source": [
        "img = Image.open('oboe-with-book.jpg')\n",
        "_ = plt.imshow(img)"
      ],
      "execution_count": null,
      "outputs": [
        {
          "output_type": "display_data",
          "data": {
            "image/png": "[encoded data removed]",
            "text/plain": [
              "<Figure size 432x288 with 1 Axes>"
            ]
          },
          "metadata": {
            "tags": [],
            "needs_background": "light"
          }
        }
      ]
    },
    {
      "cell_type": "markdown",
      "metadata": {
        "id": "XYmg1Fa8j3Y6"
      },
      "source": [
        "Convert image to grayscale so that we don't have to deal with the complexity of multiple color channels: "
      ]
    },
    {
      "cell_type": "code",
      "metadata": {
        "id": "uki3S6w0j3Y7",
        "colab": {
          "base_uri": "https://localhost:8080/",
          "height": 269
        },
        "outputId": "41c10d25-0aed-4e22-b42e-96dd449ac3ab"
      },
      "source": [
        "imggray = img.convert('LA')\n",
        "_ = plt.imshow(imggray)"
      ],
      "execution_count": null,
      "outputs": [
        {
          "output_type": "display_data",
          "data": {
            "image/png": "[encoded data removed]",
            "text/plain": [
              "<Figure size 432x288 with 1 Axes>"
            ]
          },
          "metadata": {
            "tags": [],
            "needs_background": "light"
          }
        }
      ]
    },
    {
      "cell_type": "markdown",
      "metadata": {
        "id": "eVwgrA0Jj3Y9"
      },
      "source": [
        "Convert data into numpy matrix, which doesn't impact image data: "
      ]
    },
    {
      "cell_type": "code",
      "metadata": {
        "id": "wHijyFgUj3Y9",
        "colab": {
          "base_uri": "https://localhost:8080/",
          "height": 269
        },
        "outputId": "5c5a287e-92f0-488d-e7d2-a25d7030eb5b"
      },
      "source": [
        "imgmat = np.array(list(imggray.getdata(band=0)), float)\n",
        "imgmat.shape = (imggray.size[1], imggray.size[0])\n",
        "imgmat = np.matrix(imgmat)\n",
        "_ = plt.imshow(imgmat, cmap='gray')"
      ],
      "execution_count": null,
      "outputs": [
        {
          "output_type": "display_data",
          "data": {
            "image/png": "[encoded data removed]",
            "text/plain": [
              "<Figure size 432x288 with 1 Axes>"
            ]
          },
          "metadata": {
            "tags": [],
            "needs_background": "light"
          }
        }
      ]
    },
    {
      "cell_type": "markdown",
      "metadata": {
        "id": "x8VCD3lyj3Y-"
      },
      "source": [
        "Calculate SVD of the image: "
      ]
    },
    {
      "cell_type": "code",
      "metadata": {
        "id": "kbBLn2Csj3Y-"
      },
      "source": [
        "U, sigma, V = np.linalg.svd(imgmat)"
      ],
      "execution_count": null,
      "outputs": []
    },
    {
      "cell_type": "markdown",
      "metadata": {
        "id": "ApybkCdLj3Y-"
      },
      "source": [
        "As eigenvalues are arranged in descending order in diag($\\lambda$) so too are singular values, by convention, arranged in descending order in $D$ (or, in this code, diag($\\sigma$)). Thus, the first left-singular vector of $U$ and first right-singular vector of $V$ may represent the most prominent feature of the image: "
      ]
    },
    {
      "cell_type": "code",
      "metadata": {
        "id": "rZTwlhGxj3Y_",
        "colab": {
          "base_uri": "https://localhost:8080/",
          "height": 269
        },
        "outputId": "bbabb61f-17ac-4e73-b1e2-10754c9dc100"
      },
      "source": [
        "reconstimg = np.matrix(U[:, :1]) * np.diag(sigma[:1]) * np.matrix(V[:1, :])\n",
        "_ = plt.imshow(reconstimg, cmap='gray')"
      ],
      "execution_count": null,
      "outputs": [
        {
          "output_type": "display_data",
          "data": {
            "image/png": "[encoded data removed]",
            "text/plain": [
              "<Figure size 432x288 with 1 Axes>"
            ]
          },
          "metadata": {
            "tags": [],
            "needs_background": "light"
          }
        }
      ]
    },
    {
      "cell_type": "markdown",
      "metadata": {
        "id": "4p2cEqIoj3Y_"
      },
      "source": [
        "Additional singular vectors improve the image quality: "
      ]
    },
    {
      "cell_type": "code",
      "metadata": {
        "id": "f5-6LEbij3ZA",
        "colab": {
          "base_uri": "https://localhost:8080/",
          "height": 1000
        },
        "outputId": "c0504b84-9b7b-4ee7-86c7-0dcbefdcdc86"
      },
      "source": [
        "for i in [2, 4, 8, 16, 32, 64]:\n",
        "    reconstimg = np.matrix(U[:, :i]) * np.diag(sigma[:i]) * np.matrix(V[:i, :])\n",
        "    plt.imshow(reconstimg, cmap='gray')\n",
        "    title = \"n = %s\" % i\n",
        "    plt.title(title)\n",
        "    plt.show()"
      ],
      "execution_count": null,
      "outputs": [
        {
          "output_type": "display_data",
          "data": {
            "image/png": "[encoded data removed]",
            "text/plain": [
              "<Figure size 432x288 with 1 Axes>"
            ]
          },
          "metadata": {
            "tags": [],
            "needs_background": "light"
          }
        },
        {
          "output_type": "display_data",
          "data": {
            "image/png": "[encoded data removed]",
            "text/plain": [
              "<Figure size 432x288 with 1 Axes>"
            ]
          },
          "metadata": {
            "tags": [],
            "needs_background": "light"
          }
        },
        {
          "output_type": "display_data",
          "data": {
            "image/png": "[encoded data removed]",
            "text/plain": [
              "<Figure size 432x288 with 1 Axes>"
            ]
          },
          "metadata": {
            "tags": [],
            "needs_background": "light"
          }
        },
        {
          "output_type": "display_data",
          "data": {
            "image/png": "[encoded data removed]",
            "text/plain": [
              "<Figure size 432x288 with 1 Axes>"
            ]
          },
          "metadata": {
            "tags": [],
            "needs_background": "light"
          }
        },
        {
          "output_type": "display_data",
          "data": {
            "image/png": "[encoded data removed]",
            "text/plain": [
              "<Figure size 432x288 with 1 Axes>"
            ]
          },
          "metadata": {
            "tags": [],
            "needs_background": "light"
          }
        },
        {
          "output_type": "display_data",
          "data": {
            "image/png": "[encoded data removed]",
            "text/plain": [
              "<Figure size 432x288 with 1 Axes>"
            ]
          },
          "metadata": {
            "tags": [],
            "needs_background": "light"
          }
        }
      ]
    },
    {
      "cell_type": "markdown",
      "metadata": {
        "id": "IjfUJ4wNj3ZA"
      },
      "source": [
        "With 64 singular vectors, the image is reconstructed quite well, however the data footprint is much smaller than the original image:"
      ]
    },
    {
      "cell_type": "code",
      "metadata": {
        "id": "hXQy4TzCj3ZB",
        "colab": {
          "base_uri": "https://localhost:8080/"
        },
        "outputId": "c8a9c18c-a070-4dbc-9f6b-003492db1f06"
      },
      "source": [
        "imgmat.shape"
      ],
      "execution_count": null,
      "outputs": [
        {
          "output_type": "execute_result",
          "data": {
            "text/plain": [
              "(4032, 3024)"
            ]
          },
          "metadata": {
            "tags": []
          },
          "execution_count": 183
        }
      ]
    },
    {
      "cell_type": "code",
      "metadata": {
        "id": "SXJtpYGeLWxz",
        "colab": {
          "base_uri": "https://localhost:8080/"
        },
        "outputId": "7e994526-5509-4ab4-bd1c-0b6f4c2b318c"
      },
      "source": [
        "full_representation = 4032*3024\n",
        "full_representation"
      ],
      "execution_count": null,
      "outputs": [
        {
          "output_type": "execute_result",
          "data": {
            "text/plain": [
              "12192768"
            ]
          },
          "metadata": {
            "tags": []
          },
          "execution_count": 184
        }
      ]
    },
    {
      "cell_type": "code",
      "metadata": {
        "id": "vOHZXITLLWx1",
        "colab": {
          "base_uri": "https://localhost:8080/"
        },
        "outputId": "6780de62-ccfd-4936-f0cb-172c2e178db4"
      },
      "source": [
        "svd64_rep = 64*4032 + 64 + 64*3024\n",
        "svd64_rep"
      ],
      "execution_count": null,
      "outputs": [
        {
          "output_type": "execute_result",
          "data": {
            "text/plain": [
              "451648"
            ]
          },
          "metadata": {
            "tags": []
          },
          "execution_count": 185
        }
      ]
    },
    {
      "cell_type": "code",
      "metadata": {
        "id": "YwdA6taLj3ZD",
        "colab": {
          "base_uri": "https://localhost:8080/"
        },
        "outputId": "0dfe0239-d22e-4b54-ca53-3fc07b24ecc8"
      },
      "source": [
        "svd64_rep/full_representation"
      ],
      "execution_count": null,
      "outputs": [
        {
          "output_type": "execute_result",
          "data": {
            "text/plain": [
              "0.037042286050222556"
            ]
          },
          "metadata": {
            "tags": []
          },
          "execution_count": 186
        }
      ]
    },
    {
      "cell_type": "markdown",
      "metadata": {
        "id": "_HdtL8p7j3ZD"
      },
      "source": [
        "Specifically, the image represented as 64 singular vectors is 3.7% of the size of the original! \n",
        "\n",
        "Alongside images, we can use singular vectors for dramatic, lossy compression of other types of media files."
      ]
    },
    {
      "cell_type": "markdown",
      "metadata": {
        "id": "lBQnc4uGj3ZE"
      },
      "source": [
        "**Return to slides here.**"
      ]
    },
    {
      "cell_type": "markdown",
      "metadata": {
        "id": "FEnTYLbBj3ZE"
      },
      "source": [
        "### The Moore-Penrose Pseudoinverse"
      ]
    },
    {
      "cell_type": "markdown",
      "metadata": {
        "id": "q4_MX4D5j3ZE"
      },
      "source": [
        "Let's calculate the pseudoinverse $A^+$ of some matrix $A$ using the formula from the slides: \n",
        "\n",
        "$A^+ = VD^+U^T$"
      ]
    },
    {
      "cell_type": "code",
      "metadata": {
        "id": "gbbiRcmzj3ZE",
        "colab": {
          "base_uri": "https://localhost:8080/"
        },
        "outputId": "ed37e9e2-23b7-4246-8a19-7b50ced837cf"
      },
      "source": [
        "A"
      ],
      "execution_count": null,
      "outputs": [
        {
          "output_type": "execute_result",
          "data": {
            "text/plain": [
              "array([[-1,  2],\n",
              "       [ 3, -2],\n",
              "       [ 5,  7]])"
            ]
          },
          "metadata": {
            "tags": []
          },
          "execution_count": 187
        }
      ]
    },
    {
      "cell_type": "markdown",
      "metadata": {
        "id": "TFNYVdZ4j3ZF"
      },
      "source": [
        "As shown earlier, the NumPy SVD method returns $U$, $d$, and $V^T$:"
      ]
    },
    {
      "cell_type": "code",
      "metadata": {
        "id": "I6NjgNbjj3ZF"
      },
      "source": [
        "U, d, VT = np.linalg.svd(A)"
      ],
      "execution_count": null,
      "outputs": []
    },
    {
      "cell_type": "code",
      "metadata": {
        "id": "_sROQTAzj3ZG",
        "colab": {
          "base_uri": "https://localhost:8080/"
        },
        "outputId": "9c13bc75-ea2d-40b6-b775-7236dd699c39"
      },
      "source": [
        "U"
      ],
      "execution_count": null,
      "outputs": [
        {
          "output_type": "execute_result",
          "data": {
            "text/plain": [
              "array([[ 0.12708324,  0.47409506,  0.87125411],\n",
              "       [ 0.00164602, -0.87847553,  0.47778451],\n",
              "       [ 0.99189069, -0.0592843 , -0.11241989]])"
            ]
          },
          "metadata": {
            "tags": []
          },
          "execution_count": 189
        }
      ]
    },
    {
      "cell_type": "code",
      "metadata": {
        "id": "drDSW-vkj3ZG",
        "colab": {
          "base_uri": "https://localhost:8080/"
        },
        "outputId": "7aacd4f9-ff3d-4d1f-c88e-75c7b2cd3705"
      },
      "source": [
        "VT"
      ],
      "execution_count": null,
      "outputs": [
        {
          "output_type": "execute_result",
          "data": {
            "text/plain": [
              "array([[ 0.55798885,  0.82984845],\n",
              "       [-0.82984845,  0.55798885]])"
            ]
          },
          "metadata": {
            "tags": []
          },
          "execution_count": 190
        }
      ]
    },
    {
      "cell_type": "code",
      "metadata": {
        "id": "Sr3jIv4Jj3ZH",
        "colab": {
          "base_uri": "https://localhost:8080/"
        },
        "outputId": "f6cef297-d008-4e8d-a841-56d2d83d75b5"
      },
      "source": [
        "d"
      ],
      "execution_count": null,
      "outputs": [
        {
          "output_type": "execute_result",
          "data": {
            "text/plain": [
              "array([8.66918448, 4.10429538])"
            ]
          },
          "metadata": {
            "tags": []
          },
          "execution_count": 191
        }
      ]
    },
    {
      "cell_type": "markdown",
      "metadata": {
        "id": "7yalmt19j3ZI"
      },
      "source": [
        "To create $D^+$, we first invert the non-zero values of $d$: "
      ]
    },
    {
      "cell_type": "code",
      "metadata": {
        "id": "HEvRLwQfj3ZI",
        "colab": {
          "base_uri": "https://localhost:8080/"
        },
        "outputId": "73622be9-d30e-4cd1-ce56-e4d25a3cab1e"
      },
      "source": [
        "D = np.diag(d)\n",
        "D"
      ],
      "execution_count": null,
      "outputs": [
        {
          "output_type": "execute_result",
          "data": {
            "text/plain": [
              "array([[8.66918448, 0.        ],\n",
              "       [0.        , 4.10429538]])"
            ]
          },
          "metadata": {
            "tags": []
          },
          "execution_count": 192
        }
      ]
    },
    {
      "cell_type": "code",
      "metadata": {
        "id": "6O2LADtLj3ZJ",
        "colab": {
          "base_uri": "https://localhost:8080/"
        },
        "outputId": "2cba2b81-e322-46c9-c914-68ec3b84ea39"
      },
      "source": [
        "1/8.669"
      ],
      "execution_count": null,
      "outputs": [
        {
          "output_type": "execute_result",
          "data": {
            "text/plain": [
              "0.11535355865728457"
            ]
          },
          "metadata": {
            "tags": []
          },
          "execution_count": 193
        }
      ]
    },
    {
      "cell_type": "code",
      "metadata": {
        "id": "y1ZbYtmIj3ZJ",
        "colab": {
          "base_uri": "https://localhost:8080/"
        },
        "outputId": "5df71298-4522-481a-e7f9-c8d2e57729db"
      },
      "source": [
        "1/4.104"
      ],
      "execution_count": null,
      "outputs": [
        {
          "output_type": "execute_result",
          "data": {
            "text/plain": [
              "0.24366471734892786"
            ]
          },
          "metadata": {
            "tags": []
          },
          "execution_count": 194
        }
      ]
    },
    {
      "cell_type": "markdown",
      "metadata": {
        "id": "yO1tNES9j3ZK"
      },
      "source": [
        "...and then we would take the tranpose of the resulting matrix.\n",
        "\n",
        "Because $D$ is a diagonal matrix, this can, however, be done in a single step by inverting $D$: "
      ]
    },
    {
      "cell_type": "code",
      "metadata": {
        "id": "Y0sjcP3Ej3ZK",
        "colab": {
          "base_uri": "https://localhost:8080/"
        },
        "outputId": "8b6588b0-a8a4-4764-f927-e3817e58ff1b"
      },
      "source": [
        "Dinv = np.linalg.inv(D)\n",
        "Dinv"
      ],
      "execution_count": null,
      "outputs": [
        {
          "output_type": "execute_result",
          "data": {
            "text/plain": [
              "array([[0.1153511 , 0.        ],\n",
              "       [0.        , 0.24364718]])"
            ]
          },
          "metadata": {
            "tags": []
          },
          "execution_count": 195
        }
      ]
    },
    {
      "cell_type": "markdown",
      "metadata": {
        "id": "PXJnvna-j3ZM"
      },
      "source": [
        "$D^+$ must have the same dimensions as $A^T$ in order for $VD^+U^T$ matrix multiplication to be possible: "
      ]
    },
    {
      "cell_type": "code",
      "metadata": {
        "id": "Ydq0zJHNRZPy",
        "colab": {
          "base_uri": "https://localhost:8080/"
        },
        "outputId": "389d0c75-984d-4f85-a8a1-e054f3d6d4ca"
      },
      "source": [
        "Dplus = np.concatenate((Dinv, np.array([[0, 0]]).T), axis=1)\n",
        "Dplus"
      ],
      "execution_count": null,
      "outputs": [
        {
          "output_type": "execute_result",
          "data": {
            "text/plain": [
              "array([[0.1153511 , 0.        , 0.        ],\n",
              "       [0.        , 0.24364718, 0.        ]])"
            ]
          },
          "metadata": {
            "tags": []
          },
          "execution_count": 196
        }
      ]
    },
    {
      "cell_type": "markdown",
      "metadata": {
        "id": "zFgtoJUKSRg1"
      },
      "source": [
        "(Recall $D$ must have the same dimensions as $A$ for SVD's $UDV^T$, but for MPP $U$ and $V$ have swapped sides around the diagonal matrix.)"
      ]
    },
    {
      "cell_type": "markdown",
      "metadata": {
        "id": "6Xt4NYHuj3ZO"
      },
      "source": [
        "Now we have everything we need to calculate $A^+$ with $VD^+U^T$: "
      ]
    },
    {
      "cell_type": "code",
      "metadata": {
        "id": "ZtWN_wnij3ZO",
        "colab": {
          "base_uri": "https://localhost:8080/"
        },
        "outputId": "14912908-896a-4b0e-c9b1-4bc3e8a17f32"
      },
      "source": [
        "np.dot(VT.T, np.dot(Dplus, U.T))"
      ],
      "execution_count": null,
      "outputs": [
        {
          "output_type": "execute_result",
          "data": {
            "text/plain": [
              "array([[-0.08767773,  0.17772512,  0.07582938],\n",
              "       [ 0.07661927, -0.1192733 ,  0.08688784]])"
            ]
          },
          "metadata": {
            "tags": []
          },
          "execution_count": 197
        }
      ]
    },
    {
      "cell_type": "markdown",
      "metadata": {
        "id": "3syT7-hCj3ZP"
      },
      "source": [
        "Working out this derivation is helpful for understanding how Moore-Penrose pseudoinverses work, but unsurprisingly NumPy is loaded with an existing method `pinv()`: "
      ]
    },
    {
      "cell_type": "code",
      "metadata": {
        "id": "fh0nDMeLj3ZP",
        "colab": {
          "base_uri": "https://localhost:8080/"
        },
        "outputId": "9178720c-7e4d-4ea7-98b2-500c5ba24a39"
      },
      "source": [
        "np.linalg.pinv(A)"
      ],
      "execution_count": null,
      "outputs": [
        {
          "output_type": "execute_result",
          "data": {
            "text/plain": [
              "array([[-0.08767773,  0.17772512,  0.07582938],\n",
              "       [ 0.07661927, -0.1192733 ,  0.08688784]])"
            ]
          },
          "metadata": {
            "tags": []
          },
          "execution_count": 198
        }
      ]
    },
    {
      "cell_type": "markdown",
      "metadata": {
        "id": "xNrIfpAij3ZS"
      },
      "source": [
        "**Exercise** \n",
        "\n",
        "Use the `torch.svd()` method to calculate the pseudoinverse of `A_p`, confirming that your result matches the output of `torch.pinverse(A_p)`: "
      ]
    },
    {
      "cell_type": "code",
      "metadata": {
        "id": "W2635vlEj3ZS",
        "colab": {
          "base_uri": "https://localhost:8080/"
        },
        "outputId": "4c185220-c5f8-43b7-b2d0-eac1e437ea89"
      },
      "source": [
        "A_p = torch.tensor([[-1, 2], [3, -2], [5, 7.]])\n",
        "A_p"
      ],
      "execution_count": null,
      "outputs": [
        {
          "output_type": "execute_result",
          "data": {
            "text/plain": [
              "tensor([[-1.,  2.],\n",
              "        [ 3., -2.],\n",
              "        [ 5.,  7.]])"
            ]
          },
          "metadata": {
            "tags": []
          },
          "execution_count": 199
        }
      ]
    },
    {
      "cell_type": "code",
      "metadata": {
        "id": "ZW4SsUOlj3ZT",
        "colab": {
          "base_uri": "https://localhost:8080/"
        },
        "outputId": "c994841a-797e-41d7-ae7a-a480e8d2a58b"
      },
      "source": [
        "torch.pinverse(A_p)"
      ],
      "execution_count": null,
      "outputs": [
        {
          "output_type": "execute_result",
          "data": {
            "text/plain": [
              "tensor([[-0.0877,  0.1777,  0.0758],\n",
              "        [ 0.0766, -0.1193,  0.0869]])"
            ]
          },
          "metadata": {
            "tags": []
          },
          "execution_count": 200
        }
      ]
    },
    {
      "cell_type": "markdown",
      "metadata": {
        "id": "KlXBgI3Nj3ZT"
      },
      "source": [
        "**Return to slides here.**"
      ]
    },
    {
      "cell_type": "markdown",
      "metadata": {
        "id": "xMnIqjpfj3ZT"
      },
      "source": [
        "For regression problems, we typically have many more cases ($n$, or rows of $X$) than features to predict (columns of $X$). Let's solve a miniature example of such an overdetermined situation. \n",
        "\n",
        "We have eight data points ($n$ = 8): "
      ]
    },
    {
      "cell_type": "code",
      "metadata": {
        "id": "2Ft4PXaTj3ZU"
      },
      "source": [
        "x1 = [0, 1, 2, 3, 4, 5, 6, 7.] # E.g.: Dosage of drug for treating Alzheimer's disease\n",
        "y = [1.86, 1.31, .62, .33, .09, -.67, -1.23, -1.37] # E.g.: Patient's \"forgetfulness score\""
      ],
      "execution_count": null,
      "outputs": []
    },
    {
      "cell_type": "code",
      "metadata": {
        "id": "HaoEgLTzLWyH"
      },
      "source": [
        "title = 'Clinical Trial'\n",
        "xlabel = 'Drug dosage (mL)'\n",
        "ylabel = 'Forgetfulness'"
      ],
      "execution_count": null,
      "outputs": []
    },
    {
      "cell_type": "code",
      "metadata": {
        "id": "OiMAISFBj3ZW",
        "colab": {
          "base_uri": "https://localhost:8080/",
          "height": 295
        },
        "outputId": "cc6075ec-253c-4d3c-8cb4-0f648d3fe204"
      },
      "source": [
        "fig, ax = plt.subplots()\n",
        "plt.title(title)\n",
        "plt.xlabel(xlabel)\n",
        "plt.ylabel(ylabel)\n",
        "_ = ax.scatter(x1, y)"
      ],
      "execution_count": null,
      "outputs": [
        {
          "output_type": "display_data",
          "data": {
            "image/png": "[encoded data removed]",
            "text/plain": [
              "<Figure size 432x288 with 1 Axes>"
            ]
          },
          "metadata": {
            "tags": [],
            "needs_background": "light"
          }
        }
      ]
    },
    {
      "cell_type": "markdown",
      "metadata": {
        "id": "GWZUFeqzj3ZX"
      },
      "source": [
        "Although it appears there is only one predictor ($x_1$), our model requires a second one (let's call it $x_0$) in order to allow for a $y$-intercept. Without this second variable, the line we fit to the plot would need to pass through the origin (0, 0). The $y$-intercept is constant across all the points so we can set it equal to `1` across the board:"
      ]
    },
    {
      "cell_type": "code",
      "metadata": {
        "id": "RpAIoxydj3ZX",
        "colab": {
          "base_uri": "https://localhost:8080/"
        },
        "outputId": "7d2c3e3e-248e-4d25-c4ef-f07d52b272a3"
      },
      "source": [
        "x0 = np.ones(8)\n",
        "x0"
      ],
      "execution_count": null,
      "outputs": [
        {
          "output_type": "execute_result",
          "data": {
            "text/plain": [
              "array([1., 1., 1., 1., 1., 1., 1., 1.])"
            ]
          },
          "metadata": {
            "tags": []
          },
          "execution_count": 204
        }
      ]
    },
    {
      "cell_type": "markdown",
      "metadata": {
        "id": "_bkwC8Wnj3ZY"
      },
      "source": [
        "Concatenate $x_0$ and $x_1$ into a matrix $X$: "
      ]
    },
    {
      "cell_type": "code",
      "metadata": {
        "id": "x56TMNFMj3ZY",
        "colab": {
          "base_uri": "https://localhost:8080/"
        },
        "outputId": "1d874fd7-f48a-4810-9d28-29dc75f1b201"
      },
      "source": [
        "X = np.concatenate((np.matrix(x0).T, np.matrix(x1).T), axis=1)\n",
        "X"
      ],
      "execution_count": null,
      "outputs": [
        {
          "output_type": "execute_result",
          "data": {
            "text/plain": [
              "matrix([[1., 0.],\n",
              "        [1., 1.],\n",
              "        [1., 2.],\n",
              "        [1., 3.],\n",
              "        [1., 4.],\n",
              "        [1., 5.],\n",
              "        [1., 6.],\n",
              "        [1., 7.]])"
            ]
          },
          "metadata": {
            "tags": []
          },
          "execution_count": 205
        }
      ]
    },
    {
      "cell_type": "markdown",
      "metadata": {
        "id": "v7TomkyCj3ZY"
      },
      "source": [
        "From the slides, we know that we can calculate the weights $w$ using the equation $w = X^+y$: "
      ]
    },
    {
      "cell_type": "code",
      "metadata": {
        "id": "iRYhw-N0j3ZZ",
        "colab": {
          "base_uri": "https://localhost:8080/"
        },
        "outputId": "e118518f-cf9b-400a-a833-772ea9143bd7"
      },
      "source": [
        "w = np.dot(np.linalg.pinv(X), y)\n",
        "w"
      ],
      "execution_count": null,
      "outputs": [
        {
          "output_type": "execute_result",
          "data": {
            "text/plain": [
              "matrix([[ 1.76      , -0.46928571]])"
            ]
          },
          "metadata": {
            "tags": []
          },
          "execution_count": 206
        }
      ]
    },
    {
      "cell_type": "markdown",
      "metadata": {
        "id": "N2SoGsRNj3ZZ"
      },
      "source": [
        "The first weight corresponds to the $y$-intercept of the line, which is typically denoted as $b$: "
      ]
    },
    {
      "cell_type": "code",
      "metadata": {
        "id": "nLvuVmBGj3ZZ",
        "colab": {
          "base_uri": "https://localhost:8080/"
        },
        "outputId": "a0733664-d354-4f4f-843c-e4b5c4e8eb93"
      },
      "source": [
        "b = np.asarray(w).reshape(-1)[0]\n",
        "b"
      ],
      "execution_count": null,
      "outputs": [
        {
          "output_type": "execute_result",
          "data": {
            "text/plain": [
              "1.7599999999999985"
            ]
          },
          "metadata": {
            "tags": []
          },
          "execution_count": 207
        }
      ]
    },
    {
      "cell_type": "markdown",
      "metadata": {
        "id": "96XCC8Z-j3Za"
      },
      "source": [
        "While the second weight corresponds to the slope of the line, which is typically denoted as $m$: "
      ]
    },
    {
      "cell_type": "code",
      "metadata": {
        "id": "HHTNUSJCj3Za",
        "colab": {
          "base_uri": "https://localhost:8080/"
        },
        "outputId": "c53ca721-51d9-4232-bf5c-0161c8d12a9b"
      },
      "source": [
        "m = np.asarray(w).reshape(-1)[1]\n",
        "m"
      ],
      "execution_count": null,
      "outputs": [
        {
          "output_type": "execute_result",
          "data": {
            "text/plain": [
              "-0.469285714285714"
            ]
          },
          "metadata": {
            "tags": []
          },
          "execution_count": 208
        }
      ]
    },
    {
      "cell_type": "markdown",
      "metadata": {
        "id": "lvGCTZRqj3Zc"
      },
      "source": [
        "With the weights we can plot the line to confirm it fits the points: "
      ]
    },
    {
      "cell_type": "code",
      "metadata": {
        "id": "q9SAiUyej3Zc",
        "colab": {
          "base_uri": "https://localhost:8080/",
          "height": 295
        },
        "outputId": "276d5d7c-444c-4638-d008-12fc1b46fed9"
      },
      "source": [
        "fig, ax = plt.subplots()\n",
        "\n",
        "plt.title(title)\n",
        "plt.xlabel(xlabel)\n",
        "plt.ylabel(ylabel)\n",
        "\n",
        "ax.scatter(x1, y)\n",
        "\n",
        "x_min, x_max = ax.get_xlim()\n",
        "y_at_xmin = m*x_min + b\n",
        "y_at_xmax = m*x_max + b\n",
        "\n",
        "ax.set_xlim([x_min, x_max])\n",
        "_ = ax.plot([x_min, x_max], [y_at_xmin, y_at_xmax], c='C01')"
      ],
      "execution_count": null,
      "outputs": [
        {
          "output_type": "display_data",
          "data": {
            "image/png": "[encoded data removed]",
            "text/plain": [
              "<Figure size 432x288 with 1 Axes>"
            ]
          },
          "metadata": {
            "tags": [],
            "needs_background": "light"
          }
        }
      ]
    },
    {
      "cell_type": "markdown",
      "metadata": {
        "id": "vNJJNtDzSh83"
      },
      "source": [
        "**DO NOT return to slides here. Onward!**"
      ]
    },
    {
      "cell_type": "markdown",
      "metadata": {
        "id": "rJnSV2afj3Zd"
      },
      "source": [
        "### The Trace Operator"
      ]
    },
    {
      "cell_type": "markdown",
      "metadata": {
        "id": "dq9uqorvj3Zd"
      },
      "source": [
        "Denoted as Tr($A$). Simply the sum of the diagonal elements of a matrix: $$\\sum_i A_{i,i}$$"
      ]
    },
    {
      "cell_type": "code",
      "metadata": {
        "id": "vOdkry9ij3Zd",
        "colab": {
          "base_uri": "https://localhost:8080/"
        },
        "outputId": "692f6162-2874-4848-fb46-59f542b0f3a0"
      },
      "source": [
        "A = np.array([[25, 2], [5, 4]])\n",
        "A"
      ],
      "execution_count": null,
      "outputs": [
        {
          "output_type": "execute_result",
          "data": {
            "text/plain": [
              "array([[25,  2],\n",
              "       [ 5,  4]])"
            ]
          },
          "metadata": {
            "tags": []
          },
          "execution_count": 210
        }
      ]
    },
    {
      "cell_type": "code",
      "metadata": {
        "id": "zwh8-KTNj3Ze",
        "colab": {
          "base_uri": "https://localhost:8080/"
        },
        "outputId": "7f5c2213-e7ff-439e-9f26-c5ce9bd8845d"
      },
      "source": [
        "25 + 4"
      ],
      "execution_count": null,
      "outputs": [
        {
          "output_type": "execute_result",
          "data": {
            "text/plain": [
              "29"
            ]
          },
          "metadata": {
            "tags": []
          },
          "execution_count": 211
        }
      ]
    },
    {
      "cell_type": "code",
      "metadata": {
        "id": "7LxzUu37j3Zf",
        "colab": {
          "base_uri": "https://localhost:8080/"
        },
        "outputId": "5368b908-74f9-4ede-e6f6-e19bfe3005be"
      },
      "source": [
        "np.trace(A)"
      ],
      "execution_count": null,
      "outputs": [
        {
          "output_type": "execute_result",
          "data": {
            "text/plain": [
              "29"
            ]
          },
          "metadata": {
            "tags": []
          },
          "execution_count": 212
        }
      ]
    },
    {
      "cell_type": "markdown",
      "metadata": {
        "id": "dUeQKrYMj3Zg"
      },
      "source": [
        "The trace operator has a number of useful properties that come in handy while rearranging linear algebra equations, e.g.:\n",
        "\n",
        "* Tr($A$) = Tr($A^T$)\n",
        "* Assuming the matrix shapes line up: Tr($ABC$) = Tr($CAB$) = Tr($BCA$)"
      ]
    },
    {
      "cell_type": "markdown",
      "metadata": {
        "id": "kuKYTjskj3Zg"
      },
      "source": [
        "In particular, the trace operator can provide a convenient way to calculate a matrix's Frobenius norm: $$||A||_F = \\sqrt{\\mathrm{Tr}(AA^\\mathrm{T})}$$"
      ]
    },
    {
      "cell_type": "markdown",
      "metadata": {
        "id": "JcqTZnimj3Zg"
      },
      "source": [
        "**Exercises**\n",
        "\n",
        "With the matrix `A_p` provided below: \n",
        "\n",
        "1. Use the PyTorch trace method to calculate the trace of `A_p`.\n",
        "2. Use the PyTorch Frobenius norm method and the trace method to demonstrate that $||A||_F = \\sqrt{\\mathrm{Tr}(AA^\\mathrm{T})}$"
      ]
    },
    {
      "cell_type": "code",
      "metadata": {
        "id": "rQhYWOFvj3Zg",
        "colab": {
          "base_uri": "https://localhost:8080/"
        },
        "outputId": "8e1a3b14-a944-427d-a239-5349c4988bcc"
      },
      "source": [
        "A_p"
      ],
      "execution_count": null,
      "outputs": [
        {
          "output_type": "execute_result",
          "data": {
            "text/plain": [
              "tensor([[-1.,  2.],\n",
              "        [ 3., -2.],\n",
              "        [ 5.,  7.]])"
            ]
          },
          "metadata": {
            "tags": []
          },
          "execution_count": 213
        }
      ]
    },
    {
      "cell_type": "markdown",
      "metadata": {
        "id": "QXuZgAUgj3Zh"
      },
      "source": [
        "**Return to slides here.**"
      ]
    },
    {
      "cell_type": "markdown",
      "metadata": {
        "id": "1rQOXPyaj3Zh"
      },
      "source": [
        "### Principal Component Analysis"
      ]
    },
    {
      "cell_type": "markdown",
      "metadata": {
        "id": "X3_Etgo4j3Zh"
      },
      "source": [
        "This PCA example code is adapted from [here](https://jupyter.brynmawr.edu/services/public/dblank/CS371%20Cognitive%20Science/2016-Fall/PCA.ipynb)."
      ]
    },
    {
      "cell_type": "code",
      "metadata": {
        "id": "ubl3WdRWj3Zh"
      },
      "source": [
        "from sklearn import datasets\n",
        "iris = datasets.load_iris()"
      ],
      "execution_count": null,
      "outputs": []
    },
    {
      "cell_type": "code",
      "metadata": {
        "id": "ZE2yvfEbj3Zi",
        "colab": {
          "base_uri": "https://localhost:8080/"
        },
        "outputId": "22481efa-7413-4713-efc6-c3f2965252de"
      },
      "source": [
        "iris.data.shape"
      ],
      "execution_count": null,
      "outputs": [
        {
          "output_type": "execute_result",
          "data": {
            "text/plain": [
              "(150, 4)"
            ]
          },
          "metadata": {
            "tags": []
          },
          "execution_count": 215
        }
      ]
    },
    {
      "cell_type": "code",
      "metadata": {
        "id": "fa9fcMl2j3Zi",
        "colab": {
          "base_uri": "https://localhost:8080/"
        },
        "outputId": "a58badd2-c61c-4555-a67e-273d9a86a665"
      },
      "source": [
        "iris.get(\"feature_names\")"
      ],
      "execution_count": null,
      "outputs": [
        {
          "output_type": "execute_result",
          "data": {
            "text/plain": [
              "['sepal length (cm)',\n",
              " 'sepal width (cm)',\n",
              " 'petal length (cm)',\n",
              " 'petal width (cm)']"
            ]
          },
          "metadata": {
            "tags": []
          },
          "execution_count": 216
        }
      ]
    },
    {
      "cell_type": "code",
      "metadata": {
        "id": "8O9xwrOLj3Zj",
        "colab": {
          "base_uri": "https://localhost:8080/"
        },
        "outputId": "4cbdd710-0b45-46d7-9ca7-f69b0a94bbf8"
      },
      "source": [
        "iris.data[0:6,:]"
      ],
      "execution_count": null,
      "outputs": [
        {
          "output_type": "execute_result",
          "data": {
            "text/plain": [
              "array([[5.1, 3.5, 1.4, 0.2],\n",
              "       [4.9, 3. , 1.4, 0.2],\n",
              "       [4.7, 3.2, 1.3, 0.2],\n",
              "       [4.6, 3.1, 1.5, 0.2],\n",
              "       [5. , 3.6, 1.4, 0.2],\n",
              "       [5.4, 3.9, 1.7, 0.4]])"
            ]
          },
          "metadata": {
            "tags": []
          },
          "execution_count": 217
        }
      ]
    },
    {
      "cell_type": "code",
      "metadata": {
        "id": "YoodmvRsj3Zj"
      },
      "source": [
        "from sklearn.decomposition import PCA"
      ],
      "execution_count": null,
      "outputs": []
    },
    {
      "cell_type": "code",
      "metadata": {
        "id": "PcJwICbtj3Zk"
      },
      "source": [
        "pca = PCA(n_components=2)"
      ],
      "execution_count": null,
      "outputs": []
    },
    {
      "cell_type": "code",
      "metadata": {
        "id": "bNb6txoIj3Zk"
      },
      "source": [
        "X = pca.fit_transform(iris.data)"
      ],
      "execution_count": null,
      "outputs": []
    },
    {
      "cell_type": "code",
      "metadata": {
        "id": "plS7skQGj3Zl",
        "colab": {
          "base_uri": "https://localhost:8080/"
        },
        "outputId": "3cb1ebcf-3026-407f-b5bb-48a793fb8900"
      },
      "source": [
        "X.shape"
      ],
      "execution_count": null,
      "outputs": [
        {
          "output_type": "execute_result",
          "data": {
            "text/plain": [
              "(150, 2)"
            ]
          },
          "metadata": {
            "tags": []
          },
          "execution_count": 221
        }
      ]
    },
    {
      "cell_type": "code",
      "metadata": {
        "id": "wC_j-7Xyj3Zl",
        "colab": {
          "base_uri": "https://localhost:8080/"
        },
        "outputId": "e9cfa100-941a-4804-803d-95485f933cf3"
      },
      "source": [
        "X[0:6,:]"
      ],
      "execution_count": null,
      "outputs": [
        {
          "output_type": "execute_result",
          "data": {
            "text/plain": [
              "array([[-2.68412563,  0.31939725],\n",
              "       [-2.71414169, -0.17700123],\n",
              "       [-2.88899057, -0.14494943],\n",
              "       [-2.74534286, -0.31829898],\n",
              "       [-2.72871654,  0.32675451],\n",
              "       [-2.28085963,  0.74133045]])"
            ]
          },
          "metadata": {
            "tags": []
          },
          "execution_count": 222
        }
      ]
    },
    {
      "cell_type": "code",
      "metadata": {
        "id": "O_aNxFn5j3Zm",
        "colab": {
          "base_uri": "https://localhost:8080/",
          "height": 269
        },
        "outputId": "827f3462-d784-47d4-a231-4c6b62ee7705"
      },
      "source": [
        "_ = plt.scatter(X[:, 0], X[:, 1])"
      ],
      "execution_count": null,
      "outputs": [
        {
          "output_type": "display_data",
          "data": {
            "image/png": "[encoded data removed]",
            "text/plain": [
              "<Figure size 432x288 with 1 Axes>"
            ]
          },
          "metadata": {
            "tags": [],
            "needs_background": "light"
          }
        }
      ]
    },
    {
      "cell_type": "code",
      "metadata": {
        "id": "bTck5c93j3Zm",
        "colab": {
          "base_uri": "https://localhost:8080/"
        },
        "outputId": "d9ab042f-fd36-4211-f31f-576a917763d3"
      },
      "source": [
        "iris.target.shape"
      ],
      "execution_count": null,
      "outputs": [
        {
          "output_type": "execute_result",
          "data": {
            "text/plain": [
              "(150,)"
            ]
          },
          "metadata": {
            "tags": []
          },
          "execution_count": 224
        }
      ]
    },
    {
      "cell_type": "code",
      "metadata": {
        "id": "IzGhB6NTj3Zn",
        "colab": {
          "base_uri": "https://localhost:8080/"
        },
        "outputId": "54ab57dc-3cff-49d6-b543-a5cdcc9bc9c0"
      },
      "source": [
        "iris.target[0:6]"
      ],
      "execution_count": null,
      "outputs": [
        {
          "output_type": "execute_result",
          "data": {
            "text/plain": [
              "array([0, 0, 0, 0, 0, 0])"
            ]
          },
          "metadata": {
            "tags": []
          },
          "execution_count": 225
        }
      ]
    },
    {
      "cell_type": "code",
      "metadata": {
        "id": "DQ8oRWsWj3Zn",
        "colab": {
          "base_uri": "https://localhost:8080/"
        },
        "outputId": "20ec84c8-970f-4448-c51b-0297e4b8c51b"
      },
      "source": [
        "unique_elements, counts_elements = np.unique(iris.target, return_counts=True)\n",
        "np.asarray((unique_elements, counts_elements))"
      ],
      "execution_count": null,
      "outputs": [
        {
          "output_type": "execute_result",
          "data": {
            "text/plain": [
              "array([[ 0,  1,  2],\n",
              "       [50, 50, 50]])"
            ]
          },
          "metadata": {
            "tags": []
          },
          "execution_count": 226
        }
      ]
    },
    {
      "cell_type": "code",
      "metadata": {
        "id": "VAIoVTYWj3Zo",
        "colab": {
          "base_uri": "https://localhost:8080/"
        },
        "outputId": "8e821e2c-fb38-48c2-e9c9-5919af3e541a"
      },
      "source": [
        "list(iris.target_names)"
      ],
      "execution_count": null,
      "outputs": [
        {
          "output_type": "execute_result",
          "data": {
            "text/plain": [
              "['setosa', 'versicolor', 'virginica']"
            ]
          },
          "metadata": {
            "tags": []
          },
          "execution_count": 227
        }
      ]
    },
    {
      "cell_type": "code",
      "metadata": {
        "id": "JlZX_2vQj3Zo",
        "colab": {
          "base_uri": "https://localhost:8080/",
          "height": 269
        },
        "outputId": "b2741dbb-3a32-4b0e-bb4c-84cee47de1fc"
      },
      "source": [
        "_ = plt.scatter(X[:, 0], X[:, 1], c=iris.target)"
      ],
      "execution_count": null,
      "outputs": [
        {
          "output_type": "display_data",
          "data": {
            "image/png": "[encoded data removed]",
            "text/plain": [
              "<Figure size 432x288 with 1 Axes>"
            ]
          },
          "metadata": {
            "tags": [],
            "needs_background": "light"
          }
        }
      ]
    },
    {
      "cell_type": "markdown",
      "metadata": {
        "id": "w1Y8YA2oj3Zp"
      },
      "source": [
        "**Return to slides here.**"
      ]
    }
  ]
}